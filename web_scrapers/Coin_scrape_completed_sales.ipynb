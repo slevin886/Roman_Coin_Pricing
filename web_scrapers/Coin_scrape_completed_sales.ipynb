{
 "cells": [
  {
   "cell_type": "code",
   "execution_count": 16,
   "metadata": {
    "collapsed": true
   },
   "outputs": [],
   "source": [
    "from ebaysdk.finding import Connection as Finding\n",
    "from ebaysdk.exception import ConnectionError\n",
    "from tqdm import tqdm\n",
    "import numpy as np\n",
    "import pandas as pd\n",
    "import matplotlib.pyplot as plt\n",
    "import re\n",
    "import datetime"
   ]
  },
  {
   "cell_type": "code",
   "execution_count": 2,
   "metadata": {
    "collapsed": true
   },
   "outputs": [],
   "source": [
    "completed_sales = []\n",
    "\n",
    "for page in tqdm(range(1, 51)):\n",
    "    try:\n",
    "        api = Finding(config_file='./ebay.yaml')\n",
    "        response = api.execute('findCompletedItems', {'keywords': 'Roman Coin',\n",
    "                                 'paginationInput': {'pageNumber': page}})\n",
    "        coin = response.dict()\n",
    "        completed_sales.append(coin)\n",
    "\n",
    "    except ConnectionError as e:\n",
    "        print(e)\n"
   ]
  },
  {
   "cell_type": "code",
   "execution_count": 3,
   "metadata": {
    "collapsed": true
   },
   "outputs": [],
   "source": [
    "df = pd.DataFrame(completed_sales)"
   ]
  },
  {
   "cell_type": "code",
   "execution_count": 4,
   "metadata": {
    "collapsed": true
   },
   "outputs": [],
   "source": [
    "new = []\n",
    "for item in df['searchResult']:\n",
    "    new.append(item)"
   ]
  },
  {
   "cell_type": "code",
   "execution_count": 5,
   "metadata": {
    "collapsed": true
   },
   "outputs": [],
   "source": [
    "df2 = pd.DataFrame(new)"
   ]
  },
  {
   "cell_type": "code",
   "execution_count": 6,
   "metadata": {},
   "outputs": [
    {
     "name": "stderr",
     "output_type": "stream",
     "text": [
      "100%|██████████| 50/50 [00:00<00:00, 27101.99it/s]\n"
     ]
    }
   ],
   "source": [
    "coins = []\n",
    "for item in tqdm(df2['item']):\n",
    "    for listing in item:\n",
    "        coins.append(listing)"
   ]
  },
  {
   "cell_type": "code",
   "execution_count": 7,
   "metadata": {},
   "outputs": [],
   "source": [
    "roman = pd.DataFrame(coins)"
   ]
  },
  {
   "cell_type": "code",
   "execution_count": 8,
   "metadata": {
    "collapsed": true
   },
   "outputs": [],
   "source": [
    "primary_cat = []\n",
    "for val in roman['primaryCategory']:\n",
    "    primary_cat.append(val)"
   ]
  },
  {
   "cell_type": "code",
   "execution_count": 9,
   "metadata": {
    "collapsed": true
   },
   "outputs": [],
   "source": [
    "primary = pd.DataFrame(primary_cat)"
   ]
  },
  {
   "cell_type": "code",
   "execution_count": 10,
   "metadata": {
    "collapsed": true
   },
   "outputs": [],
   "source": [
    "prices = []\n",
    "\n",
    "for price in roman['sellingStatus']:\n",
    "    prices.append(price)\n",
    "    \n",
    "price_df = pd.DataFrame(prices)\n",
    "price_df['currencyid_conv'] = [val['_currencyId'] for \n",
    "                               val in price_df['convertedCurrentPrice']]\n",
    "\n",
    "price_df['value_conv'] = [val['value'] for \n",
    "                               val in price_df['convertedCurrentPrice']]\n",
    "\n",
    "price_df['current_price'] = [val['value'] for \n",
    "                               val in price_df['currentPrice']]\n",
    "\n",
    "price_df['current_currency'] = [val['_currencyId'] for \n",
    "                               val in price_df['currentPrice']]"
   ]
  },
  {
   "cell_type": "code",
   "execution_count": 11,
   "metadata": {
    "collapsed": true
   },
   "outputs": [],
   "source": [
    "price_df = price_df.drop(['convertedCurrentPrice', 'currentPrice'], axis=1)"
   ]
  },
  {
   "cell_type": "code",
   "execution_count": 12,
   "metadata": {
    "collapsed": true
   },
   "outputs": [],
   "source": [
    "roman_coins = pd.concat([roman, primary, price_df], axis=1)"
   ]
  },
  {
   "cell_type": "code",
   "execution_count": 17,
   "metadata": {},
   "outputs": [],
   "source": [
    "#roman_coins.to_csv('./completed_sales_3_4')\n",
    "file_name = 'completed_sales_' + re.sub('-', '_', str(datetime.datetime.now())[5:10])\n",
    "roman_coins.to_csv(file_name)"
   ]
  }
 ],
 "metadata": {
  "kernelspec": {
   "display_name": "Python 3",
   "language": "python",
   "name": "python3"
  },
  "language_info": {
   "codemirror_mode": {
    "name": "ipython",
    "version": 3
   },
   "file_extension": ".py",
   "mimetype": "text/x-python",
   "name": "python",
   "nbconvert_exporter": "python",
   "pygments_lexer": "ipython3",
   "version": "3.6.4"
  }
 },
 "nbformat": 4,
 "nbformat_minor": 2
}
