{
 "cells": [
  {
   "cell_type": "markdown",
   "metadata": {},
   "source": [
    "This code can be used to clean ebay scrapes, following an initial parse in Roman_Coin_web_scrape- tested to work with search results for 'completedsales' and 'findItemsAdvanced'. Text in cells refers to rationale for action during initial cleaning. This is also (for now) just a primary cleaning, further cleaning is required in 'Roman_Coin_EDA'."
   ]
  },
  {
   "cell_type": "code",
   "execution_count": 1,
   "metadata": {
    "collapsed": true
   },
   "outputs": [],
   "source": [
    "import pandas as pd\n",
    "import matplotlib.pyplot as plt\n",
    "import numpy as np\n",
    "import re\n",
    "%matplotlib inline"
   ]
  },
  {
   "cell_type": "code",
   "execution_count": 2,
   "metadata": {
    "collapsed": true
   },
   "outputs": [],
   "source": [
    "#read in the relevant csv to clean here after scraping\n",
    "roman_coins = pd.read_csv('./roman_coins_03_08', index_col=0)"
   ]
  },
  {
   "cell_type": "code",
   "execution_count": 4,
   "metadata": {},
   "outputs": [
    {
     "data": {
      "text/plain": [
       "Index(['autoPay', 'condition', 'country', 'discountPriceInfo',\n",
       "       'galleryPlusPictureURL', 'galleryURL', 'globalId',\n",
       "       'isMultiVariationListing', 'itemId', 'listingInfo', 'location',\n",
       "       'paymentMethod', 'postalCode', 'primaryCategory', 'returnsAccepted',\n",
       "       'secondaryCategory', 'sellingStatus', 'shippingInfo', 'subtitle',\n",
       "       'title', 'topRatedListing', 'viewItemURL', 'categoryId', 'categoryName',\n",
       "       'bidCount', 'sellingState', 'timeLeft', 'currencyid_conv', 'value_conv',\n",
       "       'current_price', 'current_currency'],\n",
       "      dtype='object')"
      ]
     },
     "execution_count": 4,
     "metadata": {},
     "output_type": "execute_result"
    }
   ],
   "source": [
    "roman_coins.columns"
   ]
  },
  {
   "cell_type": "code",
   "execution_count": 5,
   "metadata": {
    "collapsed": true
   },
   "outputs": [],
   "source": [
    "#Only 10 observations have a conditionId \n",
    "roman_coins['condition'].value_counts()\n",
    "roman_coins = roman_coins.drop('condition', axis=1)"
   ]
  },
  {
   "cell_type": "code",
   "execution_count": 6,
   "metadata": {
    "collapsed": true
   },
   "outputs": [],
   "source": [
    "#only one value here\n",
    "roman_coins['discountPriceInfo'].value_counts()\n",
    "roman_coins = roman_coins.drop('discountPriceInfo', axis=1)\n",
    "\n",
    "#I already scraped photos and this column is incomplete anyways\n",
    "roman_coins = roman_coins.drop('galleryPlusPictureURL', axis=1)\n",
    "roman_coins = roman_coins.drop('galleryURL', axis=1)"
   ]
  },
  {
   "cell_type": "code",
   "execution_count": 7,
   "metadata": {
    "collapsed": true
   },
   "outputs": [],
   "source": [
    "#overwhelmingly ebay US (9891 of obs.)\n",
    "roman_coins['globalId'].value_counts()\n",
    "roman_coins = roman_coins.drop('globalId', axis=1)\n",
    "\n",
    "#all false\n",
    "roman_coins = roman_coins.drop('isMultiVariationListing', axis=1)"
   ]
  },
  {
   "cell_type": "code",
   "execution_count": 8,
   "metadata": {},
   "outputs": [
    {
     "name": "stdout",
     "output_type": "stream",
     "text": [
      "{'bestOfferEnabled': 'false', 'buyItNowAvailable': 'false', 'startTime': '2016-08-31T04:00:20.000Z', 'endTime': '2018-03-24T04:00:20.000Z', 'listingType': 'FixedPrice', 'gift': 'false', 'watchCount': '1062'}\n"
     ]
    }
   ],
   "source": [
    "#listingInfo has lots of useful information and I want to add these variables separately\n",
    "print(roman_coins['listingInfo'][0])\n",
    "listings = roman_coins['listingInfo'].map(eval).apply(pd.Series)\n",
    "\n",
    "#merging the new columns onto the dataframe\n",
    "roman_coins = pd.concat([roman_coins, listings], axis=1)\n",
    "\n",
    "#listings column now redundant\n",
    "roman_coins = roman_coins.drop('listingInfo', axis=1)"
   ]
  },
  {
   "cell_type": "code",
   "execution_count": 9,
   "metadata": {},
   "outputs": [
    {
     "name": "stdout",
     "output_type": "stream",
     "text": [
      "0    9807\n",
      "1      93\n",
      "Name: paymentMethod, dtype: int64\n"
     ]
    }
   ],
   "source": [
    "#overwhelmingly PayPal, but I will convert this to a dummy variable for now, 0 just paypal, 1 paypal or other method\n",
    "roman_coins['paymentMethod'] = [0 if x == 'PayPal' else 1 for \n",
    "                                x  in roman_coins['paymentMethod']]\n",
    "print(roman_coins['paymentMethod'].value_counts())"
   ]
  },
  {
   "cell_type": "code",
   "execution_count": 10,
   "metadata": {
    "collapsed": true
   },
   "outputs": [],
   "source": [
    "#these variables are already converted to columns\n",
    "roman_coins = roman_coins.drop('sellingStatus', axis=1)\n",
    "\n",
    "#already have this variable elsewhere\n",
    "roman_coins = roman_coins.drop('primaryCategory', axis=1)"
   ]
  },
  {
   "cell_type": "code",
   "execution_count": 11,
   "metadata": {},
   "outputs": [
    {
     "name": "stdout",
     "output_type": "stream",
     "text": [
      "True     9290\n",
      "False     610\n",
      "Name: returnsAccepted, dtype: int64\n"
     ]
    }
   ],
   "source": [
    "#I want to swap swap the values here, to make true 0 and false 1 \n",
    "print(roman_coins['returnsAccepted'].value_counts())\n",
    "roman_coins['returnsNotAccepted'] = roman_coins['returnsAccepted'].astype(int) * -1 + 1\n",
    "\n",
    "#dropping old columns\n",
    "roman_coins = roman_coins.drop('returnsAccepted', axis=1)"
   ]
  },
  {
   "cell_type": "code",
   "execution_count": 12,
   "metadata": {
    "collapsed": true
   },
   "outputs": [],
   "source": [
    "#these are too varied to make a dummy or make as separate variables, dropping \n",
    "roman_coins = roman_coins.drop('secondaryCategory', axis=1)"
   ]
  },
  {
   "cell_type": "code",
   "execution_count": 13,
   "metadata": {},
   "outputs": [
    {
     "name": "stdout",
     "output_type": "stream",
     "text": [
      "{'shippingServiceCost': {'_currencyId': 'USD', 'value': '3.95'}, 'shippingType': 'Flat', 'shipToLocations': 'Worldwide', 'expeditedShipping': 'false', 'oneDayShippingAvailable': 'false', 'handlingTime': '1'}\n"
     ]
    }
   ],
   "source": [
    "#the shipping information is interesting to me and I am going to keep it, affects cost \n",
    "print(roman_coins['shippingInfo'][0])\n",
    "shipping = roman_coins['shippingInfo'].map(eval).apply(pd.Series)"
   ]
  },
  {
   "cell_type": "code",
   "execution_count": 14,
   "metadata": {
    "collapsed": true
   },
   "outputs": [],
   "source": [
    "#There are 287 null values in shippingServiceCost- they have 'calculated' shipping type\n",
    "#I am going to extract relevant values for new columns\n",
    "\n",
    "ship_cost_dicts = []\n",
    "shipping_currency = []\n",
    "\n",
    "for val in shipping['shippingServiceCost']:\n",
    "    try:\n",
    "        currency = val['_currencyId']\n",
    "        cost = val['value']\n",
    "        ship_cost_dicts.append(cost)\n",
    "        shipping_currency.append(currency)\n",
    "    \n",
    "    except:\n",
    "        \n",
    "        ship_cost_dicts.append(np.nan)\n",
    "        shipping_currency.append(np.nan)\n",
    "\n",
    "\n",
    "#adding these columns\n",
    "shipping['shipping_cost'] = ship_cost_dicts\n",
    "shipping['shipping_cost_currency'] = shipping_currency\n",
    "\n",
    "#dropping old column\n",
    "shipping = shipping.drop('shippingServiceCost', axis=1)"
   ]
  },
  {
   "cell_type": "code",
   "execution_count": 15,
   "metadata": {
    "collapsed": true
   },
   "outputs": [],
   "source": [
    "#Converting NaN to mean column value in handlingTime\n",
    "shipping['handlingTime'] = shipping['handlingTime'].astype(float)\n",
    "shipping['handlingTime'] = shipping['handlingTime'].fillna(\n",
    "                                    shipping['handlingTime'].mean())"
   ]
  },
  {
   "cell_type": "code",
   "execution_count": 16,
   "metadata": {
    "collapsed": true
   },
   "outputs": [],
   "source": [
    "#creating dummy variables for expedited shipping availability\n",
    "mapper = {'false' : 0, 'true': 1}\n",
    "shipping['expeditedShipping'] = shipping['expeditedShipping'].map(mapper)\n",
    "\n",
    "#only 22 true values, dropping\n",
    "shipping = shipping.drop('oneDayShippingAvailable', axis=1)\n",
    "\n",
    "#all ship worldwide, dropping\n",
    "shipping = shipping.drop('shipToLocations', axis=1)\n",
    "\n",
    "#all USD or NAN, dropping \n",
    "shipping = shipping.drop('shipping_cost_currency', axis=1)"
   ]
  },
  {
   "cell_type": "code",
   "execution_count": 17,
   "metadata": {},
   "outputs": [
    {
     "name": "stdout",
     "output_type": "stream",
     "text": [
      "Free                                   6344\n",
      "Flat                                   2548\n",
      "FlatDomesticCalculatedInternational     724\n",
      "Calculated                              255\n",
      "CalculatedDomesticFlatInternational      28\n",
      "FreePickup                                1\n",
      "Name: shippingType, dtype: int64\n"
     ]
    }
   ],
   "source": [
    "#will have to decide what to do with shipping types later on, will likely make dummies \n",
    "print(shipping['shippingType'].value_counts())\n",
    "\n",
    "#merging shipping back into main DF \n",
    "roman_coins = pd.concat([roman_coins, shipping], axis=1)\n",
    "\n",
    "#dropping shipping info\n",
    "roman_coins = roman_coins.drop('shippingInfo', axis=1)"
   ]
  },
  {
   "cell_type": "code",
   "execution_count": 18,
   "metadata": {
    "collapsed": true
   },
   "outputs": [],
   "source": [
    "#only 34 subtitles, dropping\n",
    "roman_coins = roman_coins.drop('subtitle', axis=1)\n",
    "\n",
    "#converting to dummy variable 1 is toprated, 0 not toprated\n",
    "roman_coins['topRatedListing'] = roman_coins['topRatedListing'].astype(int)\n",
    "\n",
    "#Extracting the meaningful text from the item urls\n",
    "roman_coins['URLTitle'] = [val[24:-13] for val in roman_coins['viewItemURL']]\n",
    "\n",
    "#dropping itemURL from above\n",
    "roman_coins = roman_coins.drop('viewItemURL', axis=1)\n",
    "\n",
    "#category Id is sufficient, dropping\n",
    "roman_coins = roman_coins.drop('categoryName', axis=1)\n",
    "\n",
    "#all gift false, dropping\n",
    "roman_coins = roman_coins.drop('gift', axis=1)\n",
    "\n",
    "#all values are active, dropping\n",
    "roman_coins = roman_coins.drop('sellingState', axis=1)\n",
    "\n",
    "#autoPay as int dummy\n",
    "roman_coins['autoPay'] = roman_coins['autoPay'].astype(int)\n",
    "\n",
    "#turning categoryId into object variable\n",
    "roman_coins['categoryId'] = roman_coins['categoryId'].astype(object)"
   ]
  },
  {
   "cell_type": "code",
   "execution_count": 19,
   "metadata": {
    "collapsed": true
   },
   "outputs": [],
   "source": [
    "#beginning to convert  time columns\n",
    "roman_coins['startTime'] = pd.to_datetime(roman_coins['startTime'])\n",
    "roman_coins['endTime'] = pd.to_datetime(roman_coins['endTime'])"
   ]
  },
  {
   "cell_type": "code",
   "execution_count": 20,
   "metadata": {
    "collapsed": true
   },
   "outputs": [],
   "source": [
    "#converting 'time left' to timedeltas \n",
    "#no time left for completed sales, do not run\n",
    "times = []\n",
    "for val in roman_coins['timeLeft']:\n",
    "    x = re.sub(r'[HM]+', ':', val)\n",
    "    time = re.sub(r'[SPT]', '', x)\n",
    "    new_time = pd.Timedelta(time)\n",
    "    times.append(new_time)\n",
    "\n",
    "roman_coins['timeLeft'] = times"
   ]
  },
  {
   "cell_type": "code",
   "execution_count": 21,
   "metadata": {
    "collapsed": true
   },
   "outputs": [],
   "source": [
    "#Converting watchcount/shipping_Cost to float\n",
    "roman_coins['watchCount'] = roman_coins['watchCount'].astype(float)\n",
    "roman_coins['shipping_cost'] = roman_coins['shipping_cost'].astype(float)"
   ]
  },
  {
   "cell_type": "code",
   "execution_count": 22,
   "metadata": {
    "collapsed": true
   },
   "outputs": [],
   "source": [
    "#converting column into prices from dicts\n",
    "buyitnow = []\n",
    "for val in roman_coins['buyItNowPrice']:\n",
    "    try:\n",
    "        price = val['value']\n",
    "        buyitnow.append(price)\n",
    "    except:\n",
    "        buyitnow.append(np.nan)\n",
    "        \n",
    "roman_coins['buyItNowPrice'] = buyitnow\n",
    "roman_coins['buyItNowPrice'] = roman_coins['buyItNowPrice'].astype(float)\n",
    "\n",
    "#all in USD, dropping\n",
    "roman_coins = roman_coins.drop('convertedBuyItNowPrice', axis=1)"
   ]
  },
  {
   "cell_type": "code",
   "execution_count": 23,
   "metadata": {
    "collapsed": true
   },
   "outputs": [],
   "source": [
    "#bestoffer means that the seller accepts a sale if the price is less than the buy it now price\n",
    "mapper = {'false' : 0, 'true': 1}\n",
    "roman_coins['bestOfferEnabled'] = roman_coins['bestOfferEnabled'].map(mapper)\n",
    "#converting to dummy variable\n",
    "roman_coins['buyItNowAvailable'] = roman_coins['buyItNowAvailable'].map(mapper)"
   ]
  },
  {
   "cell_type": "code",
   "execution_count": 25,
   "metadata": {
    "collapsed": true
   },
   "outputs": [],
   "source": [
    "#roman_coins.to_csv('./cleaned_csv_3_8')\n",
    "#roman_coins.to_csv('./cleaned_csv_3_1')\n",
    "#roman_coins.to_csv('./cleaned_completed_3_4')"
   ]
  }
 ],
 "metadata": {
  "kernelspec": {
   "display_name": "Python 3",
   "language": "python",
   "name": "python3"
  },
  "language_info": {
   "codemirror_mode": {
    "name": "ipython",
    "version": 3
   },
   "file_extension": ".py",
   "mimetype": "text/x-python",
   "name": "python",
   "nbconvert_exporter": "python",
   "pygments_lexer": "ipython3",
   "version": "3.6.4"
  }
 },
 "nbformat": 4,
 "nbformat_minor": 2
}
