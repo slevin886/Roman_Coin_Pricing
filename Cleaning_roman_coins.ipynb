{
 "cells": [
  {
   "cell_type": "code",
   "execution_count": 1,
   "metadata": {
    "collapsed": true
   },
   "outputs": [],
   "source": [
    "import pandas as pd\n",
    "import matplotlib.pyplot as plt\n",
    "import numpy as np\n",
    "import re\n",
    "import nltk\n",
    "%matplotlib inline"
   ]
  },
  {
   "cell_type": "code",
   "execution_count": 2,
   "metadata": {
    "collapsed": true
   },
   "outputs": [],
   "source": [
    "roman_coins = pd.read_csv('./roman_coins_3_1', index_col=0)"
   ]
  },
  {
   "cell_type": "code",
   "execution_count": 3,
   "metadata": {
    "collapsed": true
   },
   "outputs": [],
   "source": [
    "#autopay allows you to automatically pay with paypal without first going to that url"
   ]
  },
  {
   "cell_type": "code",
   "execution_count": 4,
   "metadata": {
    "collapsed": true
   },
   "outputs": [],
   "source": [
    "#12 observations are being sold with a charity ID, meaning they give the proceeds to charity\n",
    "roman_coins['charityId'].value_counts()\n",
    "#these are all for the same coin type/seller it appears\n",
    "roman_coins = roman_coins.drop('charityId', axis=1)"
   ]
  },
  {
   "cell_type": "code",
   "execution_count": 5,
   "metadata": {
    "collapsed": true
   },
   "outputs": [],
   "source": [
    "#Only 10 observations have a conditionId \n",
    "roman_coins['condition'].value_counts()\n",
    "roman_coins = roman_coins.drop('condition', axis=1)"
   ]
  },
  {
   "cell_type": "code",
   "execution_count": 6,
   "metadata": {},
   "outputs": [
    {
     "data": {
      "text/plain": [
       "US    9720\n",
       "BG      22\n",
       "DE      20\n",
       "AT      18\n",
       "RS      18\n",
       "BA      12\n",
       "SK      11\n",
       "CY      11\n",
       "GB      10\n",
       "YU      10\n",
       "UA       8\n",
       "CA       8\n",
       "NZ       7\n",
       "HR       6\n",
       "LT       4\n",
       "HU       4\n",
       "RO       4\n",
       "ES       3\n",
       "GR       2\n",
       "NO       2\n",
       "Name: country, dtype: int64"
      ]
     },
     "execution_count": 6,
     "metadata": {},
     "output_type": "execute_result"
    }
   ],
   "source": [
    "#Overwhelmingly US, but may be worth keeping for now\n",
    "roman_coins['country'].value_counts()"
   ]
  },
  {
   "cell_type": "code",
   "execution_count": 7,
   "metadata": {
    "collapsed": true
   },
   "outputs": [],
   "source": [
    "#only one value here\n",
    "roman_coins['discountPriceInfo'].value_counts()\n",
    "roman_coins = roman_coins.drop('discountPriceInfo', axis=1)\n",
    "\n",
    "#I already scraped photos and this column is incomplete anyways\n",
    "roman_coins = roman_coins.drop('galleryPlusPictureURL', axis=1)\n",
    "roman_coins = roman_coins.drop('galleryURL', axis=1)"
   ]
  },
  {
   "cell_type": "code",
   "execution_count": 8,
   "metadata": {
    "collapsed": true
   },
   "outputs": [],
   "source": [
    "#overwhelmingly ebay US (9891 of obs.)\n",
    "roman_coins['globalId'].value_counts()\n",
    "roman_coins = roman_coins.drop('globalId', axis=1)\n",
    "\n",
    "#all false\n",
    "roman_coins = roman_coins.drop('isMultiVariationListing', axis=1)"
   ]
  },
  {
   "cell_type": "code",
   "execution_count": 9,
   "metadata": {},
   "outputs": [
    {
     "name": "stdout",
     "output_type": "stream",
     "text": [
      "{'bestOfferEnabled': 'false', 'buyItNowAvailable': 'false', 'startTime': '2016-08-31T04:00:20.000Z', 'endTime': '2018-03-24T04:00:20.000Z', 'listingType': 'FixedPrice', 'gift': 'false', 'watchCount': '1050'}\n"
     ]
    }
   ],
   "source": [
    "#listingInfo has lots of useful information and I want to add these variables separately\n",
    "print(roman_coins['listingInfo'][0])\n",
    "listings = roman_coins['listingInfo'].map(eval).apply(pd.Series)\n",
    "\n",
    "#merging the new columns onto the dataframe\n",
    "roman_coins = pd.concat([roman_coins, listings], axis=1)\n",
    "\n",
    "#listings column now redundant\n",
    "roman_coins = roman_coins.drop('listingInfo', axis=1)"
   ]
  },
  {
   "cell_type": "code",
   "execution_count": 10,
   "metadata": {},
   "outputs": [
    {
     "name": "stdout",
     "output_type": "stream",
     "text": [
      "0    9812\n",
      "1      88\n",
      "Name: paymentMethod, dtype: int64\n"
     ]
    }
   ],
   "source": [
    "#overwhelmingly PayPal, but I will convert this to a dummy variable for now, 0 just paypal, 1 paypal or other method\n",
    "roman_coins['paymentMethod'] = [0 if x == 'PayPal' else 1 for \n",
    "                                x  in roman_coins['paymentMethod']]\n",
    "print(roman_coins['paymentMethod'].value_counts())"
   ]
  },
  {
   "cell_type": "code",
   "execution_count": 11,
   "metadata": {
    "collapsed": true
   },
   "outputs": [],
   "source": [
    "#these variables are already converted to columns\n",
    "roman_coins = roman_coins.drop('sellingStatus', axis=1)\n",
    "\n",
    "#already have this variable elsewhere\n",
    "roman_coins = roman_coins.drop('primaryCategory', axis=1)"
   ]
  },
  {
   "cell_type": "code",
   "execution_count": 12,
   "metadata": {},
   "outputs": [
    {
     "name": "stdout",
     "output_type": "stream",
     "text": [
      "True     9292\n",
      "False     608\n",
      "Name: returnsAccepted, dtype: int64\n"
     ]
    }
   ],
   "source": [
    "#I want to swap swap the values here, to make true 0 and false 1 \n",
    "print(roman_coins['returnsAccepted'].value_counts())\n",
    "roman_coins['returnsNotAccepted'] = roman_coins['returnsAccepted'].astype(int) * -1 + 1\n",
    "\n",
    "#dropping old columns\n",
    "roman_coins = roman_coins.drop('returnsAccepted', axis=1)"
   ]
  },
  {
   "cell_type": "code",
   "execution_count": 13,
   "metadata": {
    "collapsed": true
   },
   "outputs": [],
   "source": [
    "#these are too varied to make a dummy or make as separate variables, dropping \n",
    "roman_coins = roman_coins.drop('secondaryCategory', axis=1)"
   ]
  },
  {
   "cell_type": "code",
   "execution_count": 14,
   "metadata": {},
   "outputs": [
    {
     "name": "stdout",
     "output_type": "stream",
     "text": [
      "{'shippingServiceCost': {'_currencyId': 'USD', 'value': '3.95'}, 'shippingType': 'Flat', 'shipToLocations': 'Worldwide', 'expeditedShipping': 'false', 'oneDayShippingAvailable': 'false', 'handlingTime': '1'}\n"
     ]
    }
   ],
   "source": [
    "#the shipping information is interesting to me and I am going to keep it, affects cost \n",
    "print(roman_coins['shippingInfo'][0])\n",
    "shipping = roman_coins['shippingInfo'].map(eval).apply(pd.Series)"
   ]
  },
  {
   "cell_type": "code",
   "execution_count": 15,
   "metadata": {
    "collapsed": true
   },
   "outputs": [],
   "source": [
    "#There are 287 null values in shippingServiceCost- they have 'calculated' shipping type\n",
    "#I am going to extract relevant values for new columns\n",
    "\n",
    "ship_cost_dicts = []\n",
    "shipping_currency = []\n",
    "\n",
    "for val in shipping['shippingServiceCost']:\n",
    "    try:\n",
    "        currency = val['_currencyId']\n",
    "        cost = val['value']\n",
    "        ship_cost_dicts.append(cost)\n",
    "        shipping_currency.append(currency)\n",
    "    \n",
    "    except:\n",
    "        \n",
    "        ship_cost_dicts.append(np.nan)\n",
    "        shipping_currency.append(np.nan)\n",
    "\n",
    "\n",
    "#adding these columns\n",
    "shipping['shipping_cost'] = ship_cost_dicts\n",
    "shipping['shipping_cost_currency'] = shipping_currency\n",
    "\n",
    "#dropping old column\n",
    "shipping = shipping.drop('shippingServiceCost', axis=1)"
   ]
  },
  {
   "cell_type": "code",
   "execution_count": 25,
   "metadata": {},
   "outputs": [],
   "source": [
    "#Converting NaN to mean column value in handlingTime\n",
    "shipping['handlingTime'] = shipping['handlingTime'].astype(float)\n",
    "shipping['handlingTime'] = shipping['handlingTime'].fillna(\n",
    "                                    shipping['handlingTime'].mean())"
   ]
  },
  {
   "cell_type": "code",
   "execution_count": 26,
   "metadata": {},
   "outputs": [],
   "source": [
    "#creating dummy variables for expedited shipping availability\n",
    "mapper = {'false' : 0, 'true': 1}\n",
    "shipping['expeditedShipping'] = shipping['expeditedShipping'].map(mapper)\n",
    "\n",
    "#only 22 true values, dropping\n",
    "shipping = shipping.drop('oneDayShippingAvailable', axis=1)\n",
    "\n",
    "#all ship worldwide, dropping\n",
    "shipping = shipping.drop('shipToLocations', axis=1)\n",
    "\n",
    "#all USD or NAN, dropping \n",
    "shipping = shipping.drop('shipping_cost_currency', axis=1)"
   ]
  },
  {
   "cell_type": "code",
   "execution_count": 27,
   "metadata": {},
   "outputs": [
    {
     "name": "stdout",
     "output_type": "stream",
     "text": [
      "Free                                   6062\n",
      "Flat                                   2817\n",
      "FlatDomesticCalculatedInternational     731\n",
      "Calculated                              286\n",
      "CalculatedDomesticFlatInternational       3\n",
      "FreePickup                                1\n",
      "Name: shippingType, dtype: int64\n"
     ]
    }
   ],
   "source": [
    "#will have to decide what to do with shipping types later on, will likely make dummies \n",
    "print(shipping['shippingType'].value_counts())\n",
    "\n",
    "#merging shipping back into main DF \n",
    "roman_coins = pd.concat([roman_coins, shipping], axis=1)\n",
    "\n",
    "#dropping shipping info\n",
    "roman_coins = roman_coins.drop('shippingInfo', axis=1)"
   ]
  },
  {
   "cell_type": "code",
   "execution_count": 28,
   "metadata": {
    "collapsed": true
   },
   "outputs": [],
   "source": [
    "#only 34 subtitles, dropping\n",
    "roman_coins = roman_coins.drop('subtitle', axis=1)\n",
    "\n",
    "#converting to dummy variable 1 is toprated, 0 not toprated\n",
    "roman_coins['topRatedListing'] = roman_coins['topRatedListing'].astype(int)\n",
    "\n",
    "#Extracting the meaningful text from the item urls\n",
    "roman_coins['URLTitle'] = [val[24:-13] for val in roman_coins['viewItemURL']]\n",
    "\n",
    "#dropping itemURL from above\n",
    "roman_coins = roman_coins.drop('viewItemURL', axis=1)\n",
    "\n",
    "#category Id is sufficient, dropping\n",
    "roman_coins = roman_coins.drop('categoryName', axis=1)\n",
    "\n",
    "#all gift false, dropping\n",
    "roman_coins = roman_coins.drop('gift', axis=1)\n",
    "\n",
    "#all values are active, dropping\n",
    "roman_coins = roman_coins.drop('sellingState', axis=1)\n",
    "\n",
    "#autoPay as int dummy\n",
    "roman_coins['autoPay'] = roman_coins['autoPay'].astype(int)\n",
    "\n",
    "#turning categoryId into object variable\n",
    "roman_coins['categoryId'] = roman_coins['categoryId'].astype(object)"
   ]
  },
  {
   "cell_type": "code",
   "execution_count": 30,
   "metadata": {
    "collapsed": true
   },
   "outputs": [],
   "source": [
    "#beginning to convert  time columns\n",
    "roman_coins['startTime'] = pd.to_datetime(roman_coins['startTime'])\n",
    "roman_coins['endTime'] = pd.to_datetime(roman_coins['endTime'])"
   ]
  },
  {
   "cell_type": "code",
   "execution_count": 31,
   "metadata": {
    "collapsed": true
   },
   "outputs": [],
   "source": [
    "#converting 'time left' to timedeltas \n",
    "times = []\n",
    "for val in roman_coins['timeLeft']:\n",
    "    x = re.sub(r'[HM]+', ':', val)\n",
    "    time = re.sub(r'[SPT]', '', x)\n",
    "    new_time = pd.Timedelta(time)\n",
    "    times.append(new_time)\n",
    "\n",
    "roman_coins['timeLeft'] = times"
   ]
  },
  {
   "cell_type": "code",
   "execution_count": 37,
   "metadata": {},
   "outputs": [],
   "source": [
    "#Converting watchcount/shipping_Cost to float\n",
    "roman_coins['watchCount'] = roman_coins['watchCount'].astype(float)\n",
    "roman_coins['shipping_cost'] = roman_coins['shipping_cost'].astype(float)"
   ]
  },
  {
   "cell_type": "code",
   "execution_count": 41,
   "metadata": {},
   "outputs": [
    {
     "name": "stdout",
     "output_type": "stream",
     "text": [
      "<class 'pandas.core.frame.DataFrame'>\n",
      "Int64Index: 9900 entries, 0 to 9899\n",
      "Data columns (total 29 columns):\n",
      "autoPay                   9900 non-null int64\n",
      "country                   9900 non-null object\n",
      "itemId                    9900 non-null int64\n",
      "location                  9900 non-null object\n",
      "paymentMethod             9900 non-null int64\n",
      "postalCode                9456 non-null object\n",
      "title                     9900 non-null object\n",
      "topRatedListing           9900 non-null int64\n",
      "categoryId                9900 non-null object\n",
      "bidCount                  636 non-null float64\n",
      "timeLeft                  9900 non-null timedelta64[ns]\n",
      "currencyid_conv           9900 non-null object\n",
      "value_conv                9900 non-null float64\n",
      "current_price             9900 non-null float64\n",
      "current_currency          9900 non-null object\n",
      "bestOfferEnabled          9900 non-null object\n",
      "buyItNowAvailable         9900 non-null object\n",
      "buyItNowPrice             49 non-null object\n",
      "convertedBuyItNowPrice    49 non-null object\n",
      "endTime                   9900 non-null datetime64[ns]\n",
      "listingType               9900 non-null object\n",
      "startTime                 9900 non-null datetime64[ns]\n",
      "watchCount                3430 non-null float64\n",
      "returnsNotAccepted        9900 non-null int64\n",
      "expeditedShipping         9900 non-null int64\n",
      "handlingTime              9900 non-null float64\n",
      "shippingType              9900 non-null object\n",
      "shipping_cost             9613 non-null float64\n",
      "URLTitle                  9900 non-null object\n",
      "dtypes: datetime64[ns](2), float64(6), int64(6), object(14), timedelta64[ns](1)\n",
      "memory usage: 2.6+ MB\n"
     ]
    }
   ],
   "source": [
    "roman_coins.info()"
   ]
  },
  {
   "cell_type": "code",
   "execution_count": 45,
   "metadata": {},
   "outputs": [
    {
     "data": {
      "text/plain": [
       "271       {'_currencyId': 'USD', 'value': '12.0'}\n",
       "375       {'_currencyId': 'USD', 'value': '25.0'}\n",
       "506      {'_currencyId': 'USD', 'value': '23.19'}\n",
       "568      {'_currencyId': 'USD', 'value': '20.33'}\n",
       "625       {'_currencyId': 'USD', 'value': '8.95'}\n",
       "6117     {'_currencyId': 'USD', 'value': '695.0'}\n",
       "6120     {'_currencyId': 'USD', 'value': '950.0'}\n",
       "6130     {'_currencyId': 'USD', 'value': '495.0'}\n",
       "6163     {'_currencyId': 'USD', 'value': '695.0'}\n",
       "6184     {'_currencyId': 'USD', 'value': '395.0'}\n",
       "6229     {'_currencyId': 'USD', 'value': '495.0'}\n",
       "6296     {'_currencyId': 'USD', 'value': '275.0'}\n",
       "6325     {'_currencyId': 'USD', 'value': '329.0'}\n",
       "6329     {'_currencyId': 'USD', 'value': '269.0'}\n",
       "6334     {'_currencyId': 'USD', 'value': '349.0'}\n",
       "6365     {'_currencyId': 'USD', 'value': '195.0'}\n",
       "6459     {'_currencyId': 'USD', 'value': '199.0'}\n",
       "6465     {'_currencyId': 'USD', 'value': '199.0'}\n",
       "6631     {'_currencyId': 'USD', 'value': '169.0'}\n",
       "6632     {'_currencyId': 'USD', 'value': '329.0'}\n",
       "6633     {'_currencyId': 'USD', 'value': '395.0'}\n",
       "6636     {'_currencyId': 'USD', 'value': '199.0'}\n",
       "6640     {'_currencyId': 'USD', 'value': '169.0'}\n",
       "6641     {'_currencyId': 'USD', 'value': '149.0'}\n",
       "6642     {'_currencyId': 'USD', 'value': '149.0'}\n",
       "6643     {'_currencyId': 'USD', 'value': '249.0'}\n",
       "6644     {'_currencyId': 'USD', 'value': '779.0'}\n",
       "6690     {'_currencyId': 'USD', 'value': '129.0'}\n",
       "6719     {'_currencyId': 'USD', 'value': '149.0'}\n",
       "6803     {'_currencyId': 'USD', 'value': '195.0'}\n",
       "6805     {'_currencyId': 'USD', 'value': '275.0'}\n",
       "6835      {'_currencyId': 'USD', 'value': '50.0'}\n",
       "6991     {'_currencyId': 'USD', 'value': '779.0'}\n",
       "7105     {'_currencyId': 'USD', 'value': '695.0'}\n",
       "7106    {'_currencyId': 'USD', 'value': '1295.0'}\n",
       "7364     {'_currencyId': 'USD', 'value': '269.0'}\n",
       "7368     {'_currencyId': 'USD', 'value': '279.0'}\n",
       "7379     {'_currencyId': 'USD', 'value': '195.0'}\n",
       "7660     {'_currencyId': 'USD', 'value': '275.0'}\n",
       "7921     {'_currencyId': 'USD', 'value': '195.0'}\n",
       "8080     {'_currencyId': 'USD', 'value': '559.0'}\n",
       "8128     {'_currencyId': 'USD', 'value': '130.0'}\n",
       "8182     {'_currencyId': 'USD', 'value': '150.0'}\n",
       "8195     {'_currencyId': 'USD', 'value': '289.0'}\n",
       "8268     {'_currencyId': 'USD', 'value': '559.0'}\n",
       "9382     {'_currencyId': 'USD', 'value': '44.99'}\n",
       "9451     {'_currencyId': 'USD', 'value': '900.0'}\n",
       "9460      {'_currencyId': 'USD', 'value': '35.0'}\n",
       "9863      {'_currencyId': 'USD', 'value': '77.5'}\n",
       "Name: convertedBuyItNowPrice, dtype: object"
      ]
     },
     "execution_count": 45,
     "metadata": {},
     "output_type": "execute_result"
    }
   ],
   "source": [
    "roman_coins.loc[roman_coins['convertedBuyItNowPrice'].notnull()]['convertedBuyItNowPrice']"
   ]
  },
  {
   "cell_type": "code",
   "execution_count": 52,
   "metadata": {},
   "outputs": [],
   "source": [
    "#converting column into prices from dicts\n",
    "buyitnow = []\n",
    "for val in roman_coins['buyItNowPrice']:\n",
    "    try:\n",
    "        price = val['value']\n",
    "        buyitnow.append(price)\n",
    "    except:\n",
    "        buyitnow.append(np.nan)\n",
    "        \n",
    "roman_coins['buyItNowPrice'] = buyitnow\n",
    "roman_coins['buyItNowPrice'] = roman_coins['buyItNowPrice'].astype(float)\n",
    "\n",
    "#all in USD, dropping\n",
    "roman_coins = roman_coins.drop('convertedBuyItNowPrice', axis=1)"
   ]
  },
  {
   "cell_type": "code",
   "execution_count": 58,
   "metadata": {},
   "outputs": [],
   "source": [
    "#bestoffer means that the seller accepts a sale if the price is less than the buy it now price\n",
    "mapper = {'false' : 0, 'true': 1}\n",
    "roman_coins['bestOfferEnabled'] = roman_coins['bestOfferEnabled'].map(mapper)\n",
    "#converting to dummy variable\n",
    "roman_coins['buyItNowAvailable'] = roman_coins['buyItNowAvailable'].map(mapper)"
   ]
  },
  {
   "cell_type": "code",
   "execution_count": 63,
   "metadata": {},
   "outputs": [
    {
     "name": "stdout",
     "output_type": "stream",
     "text": [
      "<class 'pandas.core.frame.DataFrame'>\n",
      "Int64Index: 9900 entries, 0 to 9899\n",
      "Data columns (total 28 columns):\n",
      "autoPay               9900 non-null int64\n",
      "country               9900 non-null object\n",
      "itemId                9900 non-null int64\n",
      "location              9900 non-null object\n",
      "paymentMethod         9900 non-null int64\n",
      "postalCode            9456 non-null object\n",
      "title                 9900 non-null object\n",
      "topRatedListing       9900 non-null int64\n",
      "categoryId            9900 non-null object\n",
      "bidCount              636 non-null float64\n",
      "timeLeft              9900 non-null timedelta64[ns]\n",
      "currencyid_conv       9900 non-null object\n",
      "value_conv            9900 non-null float64\n",
      "current_price         9900 non-null float64\n",
      "current_currency      9900 non-null object\n",
      "bestOfferEnabled      9900 non-null int64\n",
      "buyItNowAvailable     9900 non-null int64\n",
      "buyItNowPrice         49 non-null float64\n",
      "endTime               9900 non-null datetime64[ns]\n",
      "listingType           9900 non-null object\n",
      "startTime             9900 non-null datetime64[ns]\n",
      "watchCount            3430 non-null float64\n",
      "returnsNotAccepted    9900 non-null int64\n",
      "expeditedShipping     9900 non-null int64\n",
      "handlingTime          9900 non-null float64\n",
      "shippingType          9900 non-null object\n",
      "shipping_cost         9613 non-null float64\n",
      "URLTitle              9900 non-null object\n",
      "dtypes: datetime64[ns](2), float64(7), int64(8), object(10), timedelta64[ns](1)\n",
      "memory usage: 2.5+ MB\n"
     ]
    }
   ],
   "source": []
  }
 ],
 "metadata": {
  "kernelspec": {
   "display_name": "Python 3",
   "language": "python",
   "name": "python3"
  },
  "language_info": {
   "codemirror_mode": {
    "name": "ipython",
    "version": 3
   },
   "file_extension": ".py",
   "mimetype": "text/x-python",
   "name": "python",
   "nbconvert_exporter": "python",
   "pygments_lexer": "ipython3",
   "version": "3.6.4"
  }
 },
 "nbformat": 4,
 "nbformat_minor": 2
}
