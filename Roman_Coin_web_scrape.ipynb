{
 "cells": [
  {
   "cell_type": "markdown",
   "metadata": {},
   "source": [
    "### The following code scrapes the most recent 100 pages of \n",
    "### roman coin sales, places them in dataframes, then scrapes the\n",
    "### principal image of each of these and places those, as arrays, into a\n",
    "### separate file. "
   ]
  },
  {
   "cell_type": "code",
   "execution_count": 1,
   "metadata": {
    "collapsed": true
   },
   "outputs": [],
   "source": [
    "import datetime\n",
    "from ebaysdk.finding import Connection as Finding\n",
    "from ebaysdk.exception import ConnectionError\n",
    "from tqdm import tqdm\n",
    "import numpy as np\n",
    "import pandas as pd\n",
    "import requests\n",
    "import re\n",
    "from PIL import Image\n",
    "import pickle"
   ]
  },
  {
   "cell_type": "code",
   "execution_count": 2,
   "metadata": {},
   "outputs": [
    {
     "name": "stderr",
     "output_type": "stream",
     "text": [
      "100%|██████████| 99/99 [02:31<00:00,  1.53s/it]\n"
     ]
    }
   ],
   "source": [
    "solutions = []\n",
    "\n",
    "for page in tqdm(range(1, 100)):\n",
    "    try:\n",
    "        api = Finding(config_file='./ebay.yaml')\n",
    "        response = api.execute('findItemsAdvanced', {'keywords': 'Roman Coin',\n",
    "                                 'paginationInput': {'pageNumber': page}})\n",
    "        coin = response.dict()\n",
    "        solutions.append(coin)\n",
    "\n",
    "    except ConnectionError as e:\n",
    "        print(e)\n"
   ]
  },
  {
   "cell_type": "code",
   "execution_count": 3,
   "metadata": {
    "collapsed": true
   },
   "outputs": [],
   "source": [
    "#placing results in a dataframe, extracting relevant information, placing into a second dataframe\n",
    "df = pd.DataFrame(solutions)\n",
    "\n",
    "new = []\n",
    "for item in df['searchResult']:\n",
    "    new.append(item)\n",
    "\n",
    "df2 = pd.DataFrame(new)"
   ]
  },
  {
   "cell_type": "code",
   "execution_count": 4,
   "metadata": {},
   "outputs": [
    {
     "name": "stderr",
     "output_type": "stream",
     "text": [
      "100%|██████████| 99/99 [00:00<00:00, 23475.58it/s]\n"
     ]
    }
   ],
   "source": [
    "#Extracting the relevant information again, and placing into another dataframe\n",
    "coins = []\n",
    "for item in tqdm(df2['item']):\n",
    "    for listing in item:\n",
    "        coins.append(listing)\n",
    "\n",
    "roman = pd.DataFrame(coins)"
   ]
  },
  {
   "cell_type": "code",
   "execution_count": 5,
   "metadata": {},
   "outputs": [
    {
     "name": "stdout",
     "output_type": "stream",
     "text": [
      "(9900, 2) (9900, 23)\n"
     ]
    }
   ],
   "source": [
    "#More extraction\n",
    "primary_cat = []\n",
    "for val in roman['primaryCategory']:\n",
    "    primary_cat.append(val)\n",
    "\n",
    "#merge into main dataframe later\n",
    "primary = pd.DataFrame(primary_cat)\n",
    "print(primary.shape, roman.shape)"
   ]
  },
  {
   "cell_type": "code",
   "execution_count": 6,
   "metadata": {
    "collapsed": true
   },
   "outputs": [],
   "source": [
    "#Extracting prices for a price dataframe\n",
    "\n",
    "prices = []\n",
    "\n",
    "for price in roman['sellingStatus']:\n",
    "    prices.append(price)\n",
    "    \n",
    "price_df = pd.DataFrame(prices)\n",
    "price_df['currencyid_conv'] = [val['_currencyId'] for \n",
    "                               val in price_df['convertedCurrentPrice']]\n",
    "\n",
    "price_df['value_conv'] = [val['value'] for \n",
    "                               val in price_df['convertedCurrentPrice']]\n",
    "\n",
    "price_df['current_price'] = [val['value'] for \n",
    "                               val in price_df['currentPrice']]\n",
    "\n",
    "price_df['current_currency'] = [val['_currencyId'] for \n",
    "                               val in price_df['currentPrice']]"
   ]
  },
  {
   "cell_type": "code",
   "execution_count": 7,
   "metadata": {
    "collapsed": true
   },
   "outputs": [],
   "source": [
    "#dropping unnecessary columns (information already present elsewhere)\n",
    "price_df = price_df.drop(['convertedCurrentPrice', 'currentPrice'], axis=1)"
   ]
  },
  {
   "cell_type": "code",
   "execution_count": 8,
   "metadata": {
    "collapsed": true
   },
   "outputs": [],
   "source": [
    "#merging all of the constructed dataframes together\n",
    "roman_coins = pd.concat([roman, primary, price_df], axis=1)"
   ]
  },
  {
   "cell_type": "code",
   "execution_count": 9,
   "metadata": {
    "collapsed": true
   },
   "outputs": [],
   "source": [
    "#Save file name with current month, day\n",
    "file_name = 'uncleaned_roman_coins_' + re.sub('-', '_', str(datetime.datetime.now())[5:10])\n",
    "roman_coins.to_csv(file_name)"
   ]
  },
  {
   "cell_type": "code",
   "execution_count": 112,
   "metadata": {},
   "outputs": [
    {
     "name": "stderr",
     "output_type": "stream",
     "text": [
      "100%|██████████| 9900/9900 [47:35<00:00,  3.47it/s]\n"
     ]
    }
   ],
   "source": [
    "#code below will scrape the principal image from each sale\n",
    "\n",
    "# images = []\n",
    "# for url in tqdm(roman_coins['galleryURL']):\n",
    "#     response = requests.get(url, stream=True)\n",
    "#     if response.status_code == 200:\n",
    "#         response.raw.decode_content = True\n",
    "#         im = Image.open(response.raw)\n",
    "#         images.append(im)\n",
    "#     else: \n",
    "#         images.append(np.nan)"
   ]
  },
  {
   "cell_type": "code",
   "execution_count": 126,
   "metadata": {},
   "outputs": [
    {
     "data": {
      "image/png": "[encoded data removed]",
      "text/plain": [
       "<PIL.Image.Image image mode=RGB size=109x140 at 0x1236AFF28>"
      ]
     },
     "execution_count": 126,
     "metadata": {},
     "output_type": "execute_result"
    }
   ],
   "source": [
    "# import pickle\n",
    "# type(images[0])\n",
    "# x = np.array(images[0])\n",
    "# Image.fromarray(x)"
   ]
  },
  {
   "cell_type": "code",
   "execution_count": 127,
   "metadata": {},
   "outputs": [
    {
     "name": "stderr",
     "output_type": "stream",
     "text": [
      "100%|██████████| 9900/9900 [00:07<00:00, 1364.61it/s]\n"
     ]
    }
   ],
   "source": [
    "# array_images = [np.array(x) for x in tqdm(images)]"
   ]
  },
  {
   "cell_type": "code",
   "execution_count": 128,
   "metadata": {
    "collapsed": true
   },
   "outputs": [],
   "source": [
    "# roman_coins['image_arrays'] = array_images\n",
    "\n",
    "# image_df_3_1 = pd.DataFrame()\n",
    "# image_df_3_1['ids'] = roman_coins['itemId'].values\n",
    "\n",
    "# image_df_3_1['image_arrays'] = array_images\n",
    "\n",
    "# image_df_3_1.to_csv('coin_images_3_1')"
   ]
  }
 ],
 "metadata": {
  "kernelspec": {
   "display_name": "Python 3",
   "language": "python",
   "name": "python3"
  },
  "language_info": {
   "codemirror_mode": {
    "name": "ipython",
    "version": 3
   },
   "file_extension": ".py",
   "mimetype": "text/x-python",
   "name": "python",
   "nbconvert_exporter": "python",
   "pygments_lexer": "ipython3",
   "version": "3.6.4"
  }
 },
 "nbformat": 4,
 "nbformat_minor": 2
}
