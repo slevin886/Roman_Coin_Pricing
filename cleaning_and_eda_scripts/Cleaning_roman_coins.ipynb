{
 "cells": [
  {
   "cell_type": "markdown",
   "metadata": {},
   "source": [
    "This code can be used to clean ebay scrapes, following an initial parse in Roman_Coin_web_scrape- tested to work with search results for 'completedsales' and 'findItemsAdvanced'. Text in cells refers to rationale for action during initial cleaning. This is also (for now) just a primary cleaning, further cleaning is required in 'Roman_Coin_EDA'."
   ]
  },
  {
   "cell_type": "code",
   "execution_count": 24,
   "metadata": {
    "collapsed": true
   },
   "outputs": [],
   "source": [
    "import pandas as pd\n",
    "import matplotlib.pyplot as plt\n",
    "import numpy as np\n",
    "import re\n",
    "%matplotlib inline"
   ]
  },
  {
   "cell_type": "code",
   "execution_count": 25,
   "metadata": {},
   "outputs": [],
   "source": [
    "#read in the relevant csv to clean here after scraping\n",
    "roman_coins = pd.read_csv('./completed_sales_03_17', index_col=0)"
   ]
  },
  {
   "cell_type": "code",
   "execution_count": 26,
   "metadata": {
    "collapsed": true
   },
   "outputs": [],
   "source": [
    "#Only 10 observations have a conditionId \n",
    "roman_coins = roman_coins.drop('condition', axis=1)"
   ]
  },
  {
   "cell_type": "code",
   "execution_count": 27,
   "metadata": {
    "collapsed": true
   },
   "outputs": [],
   "source": [
    "#only one value here\n",
    "roman_coins = roman_coins.drop('discountPriceInfo', axis=1)\n",
    "#I already scraped photos and this column is incomplete anyways\n",
    "roman_coins = roman_coins.drop('galleryPlusPictureURL', axis=1)\n",
    "roman_coins = roman_coins.drop('galleryURL', axis=1)"
   ]
  },
  {
   "cell_type": "code",
   "execution_count": 28,
   "metadata": {
    "collapsed": true
   },
   "outputs": [],
   "source": [
    "#overwhelmingly ebay US (only interested in US anyways)\n",
    "roman_coins = roman_coins.drop('globalId', axis=1)\n",
    "#all false\n",
    "roman_coins = roman_coins.drop('isMultiVariationListing', axis=1)"
   ]
  },
  {
   "cell_type": "code",
   "execution_count": 29,
   "metadata": {
    "collapsed": true
   },
   "outputs": [],
   "source": [
    "#listingInfo has lots of useful information and I want to add these variables separately\n",
    "listings = roman_coins['listingInfo'].map(eval).apply(pd.Series)\n",
    "#merging the new columns onto the dataframe\n",
    "roman_coins = pd.concat([roman_coins, listings], axis=1)\n",
    "#listings column now redundant\n",
    "roman_coins = roman_coins.drop('listingInfo', axis=1)"
   ]
  },
  {
   "cell_type": "code",
   "execution_count": 30,
   "metadata": {
    "collapsed": true
   },
   "outputs": [],
   "source": [
    "#overwhelmingly PayPal, but I will convert this to a dummy variable for now, 0 just paypal, 1 paypal or other method\n",
    "roman_coins['paymentMethod'] = [0 if x == 'PayPal' else 1 for \n",
    "                                x  in roman_coins['paymentMethod']]"
   ]
  },
  {
   "cell_type": "code",
   "execution_count": 31,
   "metadata": {
    "collapsed": true
   },
   "outputs": [],
   "source": [
    "#these variables are already converted to columns\n",
    "roman_coins = roman_coins.drop('sellingStatus', axis=1)\n",
    "\n",
    "#already have this variable elsewhere\n",
    "roman_coins = roman_coins.drop('primaryCategory', axis=1)"
   ]
  },
  {
   "cell_type": "code",
   "execution_count": 32,
   "metadata": {
    "collapsed": true
   },
   "outputs": [],
   "source": [
    "#I want to swap swap the values here, to make true 0 and false 1, (1 is relevant here)\n",
    "roman_coins['returnsNotAccepted'] = roman_coins['returnsAccepted'].astype(int) * -1 + 1\n",
    "#dropping old columns\n",
    "roman_coins = roman_coins.drop('returnsAccepted', axis=1)"
   ]
  },
  {
   "cell_type": "code",
   "execution_count": 33,
   "metadata": {
    "collapsed": true
   },
   "outputs": [],
   "source": [
    "#these are too varied to make a dummy or make as separate variables, dropping \n",
    "roman_coins = roman_coins.drop('secondaryCategory', axis=1)"
   ]
  },
  {
   "cell_type": "code",
   "execution_count": 34,
   "metadata": {
    "collapsed": true
   },
   "outputs": [],
   "source": [
    "#the shipping information is interesting to me and I am going to keep it, may affect cost/interest \n",
    "shipping = roman_coins['shippingInfo'].map(eval).apply(pd.Series)"
   ]
  },
  {
   "cell_type": "code",
   "execution_count": 35,
   "metadata": {
    "collapsed": true
   },
   "outputs": [],
   "source": [
    "#There are 287 null values in shippingServiceCost- they have 'calculated' shipping type\n",
    "#I am going to extract relevant values for new columns\n",
    "\n",
    "ship_cost_dicts = []\n",
    "shipping_currency = []\n",
    "\n",
    "for val in shipping['shippingServiceCost']:\n",
    "    try:\n",
    "        currency = val['_currencyId']\n",
    "        cost = val['value']\n",
    "        ship_cost_dicts.append(cost)\n",
    "        shipping_currency.append(currency)\n",
    "    \n",
    "    except:\n",
    "        \n",
    "        ship_cost_dicts.append(np.nan)\n",
    "        shipping_currency.append(np.nan)\n",
    "\n",
    "\n",
    "#adding these columns\n",
    "shipping['shipping_cost'] = ship_cost_dicts\n",
    "shipping['shipping_cost_currency'] = shipping_currency\n",
    "\n",
    "#dropping old column\n",
    "shipping = shipping.drop('shippingServiceCost', axis=1)"
   ]
  },
  {
   "cell_type": "code",
   "execution_count": 36,
   "metadata": {
    "collapsed": true
   },
   "outputs": [],
   "source": [
    "#Converting NaN to mean column value in handlingTime\n",
    "shipping['handlingTime'] = shipping['handlingTime'].astype(float)\n",
    "shipping['handlingTime'] = shipping['handlingTime'].fillna(\n",
    "                                    shipping['handlingTime'].mean())"
   ]
  },
  {
   "cell_type": "code",
   "execution_count": 37,
   "metadata": {
    "collapsed": true
   },
   "outputs": [],
   "source": [
    "#creating dummy variables for expedited shipping availability\n",
    "mapper = {'false' : 0, 'true': 1}\n",
    "shipping['expeditedShipping'] = shipping['expeditedShipping'].map(mapper)\n",
    "\n",
    "#only 22 true values, dropping\n",
    "shipping = shipping.drop('oneDayShippingAvailable', axis=1)\n",
    "\n",
    "#all ship worldwide, dropping\n",
    "shipping = shipping.drop('shipToLocations', axis=1)\n",
    "\n",
    "#all USD or NAN, dropping \n",
    "shipping = shipping.drop('shipping_cost_currency', axis=1)"
   ]
  },
  {
   "cell_type": "code",
   "execution_count": 38,
   "metadata": {
    "collapsed": true
   },
   "outputs": [],
   "source": [
    "#will have to decide what to do with shipping types later on, will likely make dummies \n",
    "#merging shipping back into main DF \n",
    "roman_coins = pd.concat([roman_coins, shipping], axis=1)\n",
    "#dropping shipping info\n",
    "roman_coins = roman_coins.drop('shippingInfo', axis=1)"
   ]
  },
  {
   "cell_type": "code",
   "execution_count": 39,
   "metadata": {
    "collapsed": true
   },
   "outputs": [],
   "source": [
    "#only 34 subtitles, dropping\n",
    "roman_coins = roman_coins.drop('subtitle', axis=1)\n",
    "\n",
    "#converting to dummy variable 1 is toprated, 0 not toprated\n",
    "roman_coins['topRatedListing'] = roman_coins['topRatedListing'].astype(int)\n",
    "\n",
    "#Extracting the meaningful text from the item urls\n",
    "roman_coins['URLTitle'] = [val[24:-13] for val in roman_coins['viewItemURL']]\n",
    "\n",
    "#dropping itemURL from above\n",
    "roman_coins = roman_coins.drop('viewItemURL', axis=1)\n",
    "\n",
    "#category Id is sufficient, dropping\n",
    "roman_coins = roman_coins.drop('categoryName', axis=1)\n",
    "\n",
    "#all gift false, dropping\n",
    "roman_coins = roman_coins.drop('gift', axis=1)\n",
    "\n",
    "#all values are active, dropping\n",
    "roman_coins = roman_coins.drop('sellingState', axis=1)\n",
    "\n",
    "#autoPay as int dummy\n",
    "roman_coins['autoPay'] = roman_coins['autoPay'].astype(int)\n",
    "\n",
    "#turning categoryId into object variable\n",
    "roman_coins['categoryId'] = roman_coins['categoryId'].astype(object)"
   ]
  },
  {
   "cell_type": "code",
   "execution_count": 40,
   "metadata": {
    "collapsed": true
   },
   "outputs": [],
   "source": [
    "#beginning to convert  time columns\n",
    "roman_coins['startTime'] = pd.to_datetime(roman_coins['startTime'])\n",
    "roman_coins['endTime'] = pd.to_datetime(roman_coins['endTime'])"
   ]
  },
  {
   "cell_type": "code",
   "execution_count": 42,
   "metadata": {
    "collapsed": true
   },
   "outputs": [
    {
     "name": "stdout",
     "output_type": "stream",
     "text": [
      "You are running completed sales, this step unnecessary\n"
     ]
    },
    {
     "ename": "ValueError",
     "evalue": "Length of values does not match length of index",
     "output_type": "error",
     "traceback": [
      "\u001b[0;31m---------------------------------------------------------------------------\u001b[0m",
      "\u001b[0;31mValueError\u001b[0m                                Traceback (most recent call last)",
      "\u001b[0;32m<ipython-input-42-0f25d7db6d9e>\u001b[0m in \u001b[0;36m<module>\u001b[0;34m()\u001b[0m\n\u001b[1;32m     11\u001b[0m     \u001b[0mprint\u001b[0m\u001b[0;34m(\u001b[0m\u001b[0;34m'You are running completed sales, this step unnecessary'\u001b[0m\u001b[0;34m)\u001b[0m\u001b[0;34m\u001b[0m\u001b[0m\n\u001b[1;32m     12\u001b[0m \u001b[0;34m\u001b[0m\u001b[0m\n\u001b[0;32m---> 13\u001b[0;31m \u001b[0mroman_coins\u001b[0m\u001b[0;34m[\u001b[0m\u001b[0;34m'timeLeft'\u001b[0m\u001b[0;34m]\u001b[0m \u001b[0;34m=\u001b[0m \u001b[0mtimes\u001b[0m\u001b[0;34m\u001b[0m\u001b[0m\n\u001b[0m",
      "\u001b[0;32m~/anaconda2/envs/python3/lib/python3.6/site-packages/pandas/core/frame.py\u001b[0m in \u001b[0;36m__setitem__\u001b[0;34m(self, key, value)\u001b[0m\n\u001b[1;32m   2517\u001b[0m         \u001b[0;32melse\u001b[0m\u001b[0;34m:\u001b[0m\u001b[0;34m\u001b[0m\u001b[0m\n\u001b[1;32m   2518\u001b[0m             \u001b[0;31m# set column\u001b[0m\u001b[0;34m\u001b[0m\u001b[0;34m\u001b[0m\u001b[0m\n\u001b[0;32m-> 2519\u001b[0;31m             \u001b[0mself\u001b[0m\u001b[0;34m.\u001b[0m\u001b[0m_set_item\u001b[0m\u001b[0;34m(\u001b[0m\u001b[0mkey\u001b[0m\u001b[0;34m,\u001b[0m \u001b[0mvalue\u001b[0m\u001b[0;34m)\u001b[0m\u001b[0;34m\u001b[0m\u001b[0m\n\u001b[0m\u001b[1;32m   2520\u001b[0m \u001b[0;34m\u001b[0m\u001b[0m\n\u001b[1;32m   2521\u001b[0m     \u001b[0;32mdef\u001b[0m \u001b[0m_setitem_slice\u001b[0m\u001b[0;34m(\u001b[0m\u001b[0mself\u001b[0m\u001b[0;34m,\u001b[0m \u001b[0mkey\u001b[0m\u001b[0;34m,\u001b[0m \u001b[0mvalue\u001b[0m\u001b[0;34m)\u001b[0m\u001b[0;34m:\u001b[0m\u001b[0;34m\u001b[0m\u001b[0m\n",
      "\u001b[0;32m~/anaconda2/envs/python3/lib/python3.6/site-packages/pandas/core/frame.py\u001b[0m in \u001b[0;36m_set_item\u001b[0;34m(self, key, value)\u001b[0m\n\u001b[1;32m   2583\u001b[0m \u001b[0;34m\u001b[0m\u001b[0m\n\u001b[1;32m   2584\u001b[0m         \u001b[0mself\u001b[0m\u001b[0;34m.\u001b[0m\u001b[0m_ensure_valid_index\u001b[0m\u001b[0;34m(\u001b[0m\u001b[0mvalue\u001b[0m\u001b[0;34m)\u001b[0m\u001b[0;34m\u001b[0m\u001b[0m\n\u001b[0;32m-> 2585\u001b[0;31m         \u001b[0mvalue\u001b[0m \u001b[0;34m=\u001b[0m \u001b[0mself\u001b[0m\u001b[0;34m.\u001b[0m\u001b[0m_sanitize_column\u001b[0m\u001b[0;34m(\u001b[0m\u001b[0mkey\u001b[0m\u001b[0;34m,\u001b[0m \u001b[0mvalue\u001b[0m\u001b[0;34m)\u001b[0m\u001b[0;34m\u001b[0m\u001b[0m\n\u001b[0m\u001b[1;32m   2586\u001b[0m         \u001b[0mNDFrame\u001b[0m\u001b[0;34m.\u001b[0m\u001b[0m_set_item\u001b[0m\u001b[0;34m(\u001b[0m\u001b[0mself\u001b[0m\u001b[0;34m,\u001b[0m \u001b[0mkey\u001b[0m\u001b[0;34m,\u001b[0m \u001b[0mvalue\u001b[0m\u001b[0;34m)\u001b[0m\u001b[0;34m\u001b[0m\u001b[0m\n\u001b[1;32m   2587\u001b[0m \u001b[0;34m\u001b[0m\u001b[0m\n",
      "\u001b[0;32m~/anaconda2/envs/python3/lib/python3.6/site-packages/pandas/core/frame.py\u001b[0m in \u001b[0;36m_sanitize_column\u001b[0;34m(self, key, value, broadcast)\u001b[0m\n\u001b[1;32m   2758\u001b[0m \u001b[0;34m\u001b[0m\u001b[0m\n\u001b[1;32m   2759\u001b[0m             \u001b[0;31m# turn me into an ndarray\u001b[0m\u001b[0;34m\u001b[0m\u001b[0;34m\u001b[0m\u001b[0m\n\u001b[0;32m-> 2760\u001b[0;31m             \u001b[0mvalue\u001b[0m \u001b[0;34m=\u001b[0m \u001b[0m_sanitize_index\u001b[0m\u001b[0;34m(\u001b[0m\u001b[0mvalue\u001b[0m\u001b[0;34m,\u001b[0m \u001b[0mself\u001b[0m\u001b[0;34m.\u001b[0m\u001b[0mindex\u001b[0m\u001b[0;34m,\u001b[0m \u001b[0mcopy\u001b[0m\u001b[0;34m=\u001b[0m\u001b[0;32mFalse\u001b[0m\u001b[0;34m)\u001b[0m\u001b[0;34m\u001b[0m\u001b[0m\n\u001b[0m\u001b[1;32m   2761\u001b[0m             \u001b[0;32mif\u001b[0m \u001b[0;32mnot\u001b[0m \u001b[0misinstance\u001b[0m\u001b[0;34m(\u001b[0m\u001b[0mvalue\u001b[0m\u001b[0;34m,\u001b[0m \u001b[0;34m(\u001b[0m\u001b[0mnp\u001b[0m\u001b[0;34m.\u001b[0m\u001b[0mndarray\u001b[0m\u001b[0;34m,\u001b[0m \u001b[0mIndex\u001b[0m\u001b[0;34m)\u001b[0m\u001b[0;34m)\u001b[0m\u001b[0;34m:\u001b[0m\u001b[0;34m\u001b[0m\u001b[0m\n\u001b[1;32m   2762\u001b[0m                 \u001b[0;32mif\u001b[0m \u001b[0misinstance\u001b[0m\u001b[0;34m(\u001b[0m\u001b[0mvalue\u001b[0m\u001b[0;34m,\u001b[0m \u001b[0mlist\u001b[0m\u001b[0;34m)\u001b[0m \u001b[0;32mand\u001b[0m \u001b[0mlen\u001b[0m\u001b[0;34m(\u001b[0m\u001b[0mvalue\u001b[0m\u001b[0;34m)\u001b[0m \u001b[0;34m>\u001b[0m \u001b[0;36m0\u001b[0m\u001b[0;34m:\u001b[0m\u001b[0;34m\u001b[0m\u001b[0m\n",
      "\u001b[0;32m~/anaconda2/envs/python3/lib/python3.6/site-packages/pandas/core/series.py\u001b[0m in \u001b[0;36m_sanitize_index\u001b[0;34m(data, index, copy)\u001b[0m\n\u001b[1;32m   3119\u001b[0m \u001b[0;34m\u001b[0m\u001b[0m\n\u001b[1;32m   3120\u001b[0m     \u001b[0;32mif\u001b[0m \u001b[0mlen\u001b[0m\u001b[0;34m(\u001b[0m\u001b[0mdata\u001b[0m\u001b[0;34m)\u001b[0m \u001b[0;34m!=\u001b[0m \u001b[0mlen\u001b[0m\u001b[0;34m(\u001b[0m\u001b[0mindex\u001b[0m\u001b[0;34m)\u001b[0m\u001b[0;34m:\u001b[0m\u001b[0;34m\u001b[0m\u001b[0m\n\u001b[0;32m-> 3121\u001b[0;31m         \u001b[0;32mraise\u001b[0m \u001b[0mValueError\u001b[0m\u001b[0;34m(\u001b[0m\u001b[0;34m'Length of values does not match length of '\u001b[0m \u001b[0;34m'index'\u001b[0m\u001b[0;34m)\u001b[0m\u001b[0;34m\u001b[0m\u001b[0m\n\u001b[0m\u001b[1;32m   3122\u001b[0m \u001b[0;34m\u001b[0m\u001b[0m\n\u001b[1;32m   3123\u001b[0m     \u001b[0;32mif\u001b[0m \u001b[0misinstance\u001b[0m\u001b[0;34m(\u001b[0m\u001b[0mdata\u001b[0m\u001b[0;34m,\u001b[0m \u001b[0mPeriodIndex\u001b[0m\u001b[0;34m)\u001b[0m\u001b[0;34m:\u001b[0m\u001b[0;34m\u001b[0m\u001b[0m\n",
      "\u001b[0;31mValueError\u001b[0m: Length of values does not match length of index"
     ]
    }
   ],
   "source": [
    "#converting 'time left' to timedeltas \n",
    "#no time left for completed sales, do not run\n",
    "times = []\n",
    "try:\n",
    "    for val in roman_coins['timeLeft']:\n",
    "        x = re.sub(r'[HM]+', ':', val)\n",
    "        time = re.sub(r'[SPT]', '', x)\n",
    "        new_time = pd.Timedelta(time)\n",
    "        times.append(new_time)\n",
    "except KeyError:\n",
    "    print('You are running completed sales, this step unnecessary')\n",
    "\n",
    "roman_coins['timeLeft'] = times"
   ]
  },
  {
   "cell_type": "code",
   "execution_count": 43,
   "metadata": {
    "collapsed": true
   },
   "outputs": [],
   "source": [
    "#Converting watchcount/shipping_Cost to float\n",
    "roman_coins['watchCount'] = roman_coins['watchCount'].astype(float)\n",
    "roman_coins['shipping_cost'] = roman_coins['shipping_cost'].astype(float)"
   ]
  },
  {
   "cell_type": "code",
   "execution_count": 44,
   "metadata": {
    "collapsed": true
   },
   "outputs": [],
   "source": [
    "#converting column into prices from dicts\n",
    "buyitnow = []\n",
    "for val in roman_coins['buyItNowPrice']:\n",
    "    try:\n",
    "        price = val['value']\n",
    "        buyitnow.append(price)\n",
    "    except:\n",
    "        buyitnow.append(np.nan)\n",
    "        \n",
    "roman_coins['buyItNowPrice'] = buyitnow\n",
    "roman_coins['buyItNowPrice'] = roman_coins['buyItNowPrice'].astype(float)\n",
    "\n",
    "#all in USD, dropping\n",
    "roman_coins = roman_coins.drop('convertedBuyItNowPrice', axis=1)"
   ]
  },
  {
   "cell_type": "code",
   "execution_count": 45,
   "metadata": {
    "collapsed": true
   },
   "outputs": [],
   "source": [
    "#bestoffer means that the seller accepts a sale if the price is less than the buy it now price\n",
    "mapper = {'false' : 0, 'true': 1}\n",
    "roman_coins['bestOfferEnabled'] = roman_coins['bestOfferEnabled'].map(mapper)\n",
    "#converting to dummy variable\n",
    "roman_coins['buyItNowAvailable'] = roman_coins['buyItNowAvailable'].map(mapper)"
   ]
  },
  {
   "cell_type": "code",
   "execution_count": 46,
   "metadata": {
    "collapsed": true
   },
   "outputs": [],
   "source": [
    "#roman_coins.to_csv('./cleaned_csv_3_8')\n",
    "#roman_coins.to_csv('./cleaned_csv_3_1')\n",
    "#roman_coins.to_csv('./cleaned_completed_3_4')\n",
    "#roman_coins.to_csv('./cleaned_csv_3_17')\n",
    "#roman_coins.to_csv('./cleaned_completed_3_17')"
   ]
  }
 ],
 "metadata": {
  "kernelspec": {
   "display_name": "Python 3",
   "language": "python",
   "name": "python3"
  },
  "language_info": {
   "codemirror_mode": {
    "name": "ipython",
    "version": 3
   },
   "file_extension": ".py",
   "mimetype": "text/x-python",
   "name": "python",
   "nbconvert_exporter": "python",
   "pygments_lexer": "ipython3",
   "version": "3.6.4"
  }
 },
 "nbformat": 4,
 "nbformat_minor": 2
}
