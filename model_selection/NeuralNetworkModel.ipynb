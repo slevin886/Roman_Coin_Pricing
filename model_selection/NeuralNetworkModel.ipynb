{
 "cells": [
  {
   "cell_type": "markdown",
   "metadata": {},
   "source": [
    "# After several iterations/changes did not perform better than random forest model"
   ]
  },
  {
   "cell_type": "code",
   "execution_count": 591,
   "metadata": {
    "collapsed": true
   },
   "outputs": [],
   "source": [
    "import tensorflow as tf\n",
    "import pandas as pd\n",
    "import numpy as np\n",
    "from sklearn.model_selection import train_test_split\n",
    "from sklearn.preprocessing import StandardScaler\n",
    "from scipy.stats import boxcox"
   ]
  },
  {
   "cell_type": "code",
   "execution_count": 592,
   "metadata": {
    "collapsed": true
   },
   "outputs": [],
   "source": [
    "roman = pd.read_csv('./model_data_2.csv', index_col=0)\n",
    "roman = roman.drop(list(roman.loc[(roman['current_price'] < 3)| \n",
    "                          (roman['current_price']> 1000)].index), axis=0).reset_index(drop=True)\n",
    "\n",
    "roman = roman.drop('charityId', axis=1)\n",
    "roman = roman.drop(['URLTitle', 'itemId'], axis=1)"
   ]
  },
  {
   "cell_type": "code",
   "execution_count": 593,
   "metadata": {},
   "outputs": [],
   "source": [
    "y = np.log(roman['current_price'].values)\n",
    "X = roman.drop('current_price', axis=1)\n",
    "\n",
    "X = roman.drop(['completed_no_time_left', 'less_than_hour_left', 'less_than_week_left', 'aemilian', 'antoninus pius',\n",
    "'aurelian', 'balbinus', 'carinus', 'carus', 'claudius', 'constans i', 'decius', 'galba',\n",
    "'gallienus', 'gordian i', 'jovian', 'leo i', 'licinius', 'numerian', 'tacitus', 'theodosius i',\n",
    "'valerian', 'current_price', 'less_than_2day_left'], axis=1)\n",
    "\n",
    "X['bidCountsq'] = X['bidCount'].values **2\n",
    "X['bidCountcubed'] = X['bidCount'].values ** 3\n",
    "X['interbidwatch'] = X['bidCount'] * X['watchCount']"
   ]
  },
  {
   "cell_type": "code",
   "execution_count": 594,
   "metadata": {},
   "outputs": [],
   "source": [
    "X_train, X_test, y_train, y_test = train_test_split(X, y)"
   ]
  },
  {
   "cell_type": "code",
   "execution_count": 595,
   "metadata": {},
   "outputs": [],
   "source": [
    "y_train = y_train.reshape(-1, 1)\n",
    "y_test = y_test.reshape(-1, 1)"
   ]
  },
  {
   "cell_type": "code",
   "execution_count": 596,
   "metadata": {},
   "outputs": [],
   "source": [
    "ss = StandardScaler()\n",
    "X_train = ss.fit_transform(X_train)\n",
    "X_test = ss.transform(X_test)"
   ]
  },
  {
   "cell_type": "code",
   "execution_count": 597,
   "metadata": {},
   "outputs": [
    {
     "data": {
      "text/plain": [
       "(12755, 75)"
      ]
     },
     "execution_count": 597,
     "metadata": {},
     "output_type": "execute_result"
    }
   ],
   "source": [
    "X_train.shape"
   ]
  },
  {
   "cell_type": "code",
   "execution_count": 605,
   "metadata": {
    "collapsed": true
   },
   "outputs": [],
   "source": [
    "tf.reset_default_graph()\n",
    "X = tf.placeholder(dtype=tf.float32,\n",
    "                  shape=(None, X_train.shape[1]),\n",
    "                  name='X')\n",
    "\n",
    "y = tf.placeholder(dtype=tf.float32,\n",
    "                  shape=(None),\n",
    "                  name='y')"
   ]
  },
  {
   "cell_type": "code",
   "execution_count": 606,
   "metadata": {},
   "outputs": [],
   "source": [
    "n_hidden = 75\n",
    "hidden1 = tf.layers.dense(X, units= n_hidden, \n",
    "               name='hidden1',\n",
    "               activation=tf.nn.relu)\n",
    "\n",
    "\n",
    "#for output you want None with regression with 1 output\n",
    "y_hat = tf.layers.dense(hidden1, units=1, \n",
    "                       activation=None,\n",
    "                       name='y_hat')"
   ]
  },
  {
   "cell_type": "code",
   "execution_count": 607,
   "metadata": {},
   "outputs": [],
   "source": [
    "loss = tf.losses.mean_squared_error(y, y_hat)\n",
    "\n",
    "learning_rate = 0.1\n",
    "optimizer = tf.train.AdamOptimizer(learning_rate)\n",
    "training_op = optimizer.minimize(loss)"
   ]
  },
  {
   "cell_type": "code",
   "execution_count": 608,
   "metadata": {
    "collapsed": true
   },
   "outputs": [],
   "source": [
    "init = tf.global_variables_initializer()\n",
    "\n",
    "train_err = []\n",
    "test_err = []\n",
    "\n",
    "with tf.Session() as sess:\n",
    "    init.run()\n",
    "    \n",
    "    for epoch in range(350):\n",
    "        sess.run(training_op,\n",
    "                 feed_dict={X:X_train,y:y_train})\n",
    "        \n",
    "        train_loss = sess.run(loss,\n",
    "                             feed_dict={X:X_train,y:y_train})\n",
    "        \n",
    "        test_loss = sess.run(loss,\n",
    "                             feed_dict={X:X_test,y:y_test})\n",
    "        \n",
    "        test_err.append(test_loss)\n",
    "        train_err.append(train_loss)\n",
    "        \n",
    "    pred = sess.run(y_hat, feed_dict={X:X_test})"
   ]
  },
  {
   "cell_type": "code",
   "execution_count": 609,
   "metadata": {},
   "outputs": [
    {
     "data": {
      "text/plain": [
       "<matplotlib.legend.Legend at 0x1a3e39c748>"
      ]
     },
     "execution_count": 609,
     "metadata": {},
     "output_type": "execute_result"
    },
    {
     "data": {
      "image/png": "[encoded data removed]",
      "text/plain": [
       "<matplotlib.figure.Figure at 0x1a3c1850b8>"
      ]
     },
     "metadata": {},
     "output_type": "display_data"
    }
   ],
   "source": [
    "import matplotlib.pyplot as plt\n",
    "%matplotlib inline\n",
    "\n",
    "\n",
    "plt.plot(train_err, label='Training err')\n",
    "plt.plot(test_err, label='Testing err')\n",
    "plt.legend()"
   ]
  },
  {
   "cell_type": "code",
   "execution_count": 610,
   "metadata": {},
   "outputs": [
    {
     "data": {
      "text/plain": [
       "0.67135850981366507"
      ]
     },
     "execution_count": 610,
     "metadata": {},
     "output_type": "execute_result"
    }
   ],
   "source": [
    "from sklearn import metrics\n",
    "\n",
    "metrics.r2_score(y_test, pred)"
   ]
  },
  {
   "cell_type": "code",
   "execution_count": null,
   "metadata": {
    "collapsed": true
   },
   "outputs": [],
   "source": [
    "#After various variations/layers/structures, not performing better than Random Forest"
   ]
  }
 ],
 "metadata": {
  "kernelspec": {
   "display_name": "Python [conda env:tensorflow]",
   "language": "python",
   "name": "conda-env-tensorflow-py"
  },
  "language_info": {
   "codemirror_mode": {
    "name": "ipython",
    "version": 3
   },
   "file_extension": ".py",
   "mimetype": "text/x-python",
   "name": "python",
   "nbconvert_exporter": "python",
   "pygments_lexer": "ipython3",
   "version": "3.6.4"
  }
 },
 "nbformat": 4,
 "nbformat_minor": 2
}
