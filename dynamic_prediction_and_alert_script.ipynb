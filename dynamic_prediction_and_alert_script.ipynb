{
 "cells": [
  {
   "cell_type": "markdown",
   "metadata": {},
   "source": [
    "## Scrape, Clean, Alert on Roman Coin Sales \n",
    "\n",
    "This script scrapes a user-determined number of pages from ebay, cleans the data and extracts features, saves the data at two intervals in two csv's (for later error testing and model refitting),\n",
    "requests a max-price from the user (budget for coin price) from the user, then uses a pickled random forest regressor model (fitted in the 'Roman Coin Model Building' script) to predict price and emails the user a list of 5 coin URLs with the largest positive difference between predicted/current price.\n",
    "\n",
    "*NOTE*: This unified script is an amalgamation of my previous cleaning/eda/webscraping scripts, that show more of my logic in construction."
   ]
  },
  {
   "cell_type": "code",
   "execution_count": 1,
   "metadata": {
    "collapsed": true
   },
   "outputs": [],
   "source": [
    "import datetime\n",
    "from ebaysdk.finding import Connection as Finding\n",
    "from ebaysdk.exception import ConnectionError\n",
    "from tqdm import tqdm \n",
    "import numpy as np\n",
    "import pandas as pd\n",
    "import requests\n",
    "import re\n",
    "import smtplib\n",
    "import pickle\n",
    "from email_pw import pw"
   ]
  },
  {
   "cell_type": "code",
   "execution_count": 2,
   "metadata": {},
   "outputs": [
    {
     "name": "stdout",
     "output_type": "stream",
     "text": [
      "How many pages would you like to scrape? Enter an integer between 1 and 100: 15\n"
     ]
    },
    {
     "name": "stderr",
     "output_type": "stream",
     "text": [
      "100%|██████████| 14/14 [00:21<00:00,  1.56s/it]\n"
     ]
    }
   ],
   "source": [
    "#must be executed from same directory where \n",
    "#the ebay.yaml file is located for config_file (or change the path)\n",
    "\n",
    "solutions = []\n",
    "\n",
    "num_pages = input('How many pages would you like to scrape? Enter an integer between 1 and 100: ')\n",
    "\n",
    "for page in tqdm(range(1, int(num_pages))):\n",
    "    try:\n",
    "        api = Finding(config_file='./ebay.yaml')\n",
    "        response = api.execute('findItemsAdvanced', {'keywords': 'Roman Coin',\n",
    "                                 'paginationInput': {'pageNumber': page}})\n",
    "        coin = response.dict()\n",
    "        solutions.append(coin)\n",
    "\n",
    "    except ConnectionError as e:\n",
    "        print(e)"
   ]
  },
  {
   "cell_type": "code",
   "execution_count": 3,
   "metadata": {
    "collapsed": true
   },
   "outputs": [],
   "source": [
    "#The data comes buried within dictionaries, at varying levels, \n",
    "#the following 4 cells are just extracting it all and then merging into \n",
    "#a unified dataframe. \n",
    "\n",
    "df = pd.DataFrame(solutions)\n",
    "\n",
    "new = []\n",
    "for item in df['searchResult']:\n",
    "    new.append(item)\n",
    "\n",
    "df2 = pd.DataFrame(new)"
   ]
  },
  {
   "cell_type": "code",
   "execution_count": 4,
   "metadata": {
    "collapsed": true
   },
   "outputs": [],
   "source": [
    "coins = []\n",
    "for item in df2['item']:\n",
    "    for listing in item:\n",
    "        coins.append(listing)\n",
    "\n",
    "roman = pd.DataFrame(coins)"
   ]
  },
  {
   "cell_type": "code",
   "execution_count": 5,
   "metadata": {
    "collapsed": true
   },
   "outputs": [],
   "source": [
    "primary_cat = []\n",
    "for val in roman['primaryCategory']:\n",
    "    primary_cat.append(val)\n",
    "    \n",
    "primary = pd.DataFrame(primary_cat)"
   ]
  },
  {
   "cell_type": "code",
   "execution_count": 6,
   "metadata": {
    "collapsed": true
   },
   "outputs": [],
   "source": [
    "#Extracting features from dictionaries...\n",
    "prices = []\n",
    "\n",
    "for price in roman['sellingStatus']:\n",
    "    prices.append(price)\n",
    "    \n",
    "price_df = pd.DataFrame(prices)\n",
    "price_df['currencyid_conv'] = [val['_currencyId'] for \n",
    "                               val in price_df['convertedCurrentPrice']]\n",
    "\n",
    "price_df['value_conv'] = [val['value'] for \n",
    "                               val in price_df['convertedCurrentPrice']]\n",
    "\n",
    "price_df['current_price'] = [val['value'] for \n",
    "                               val in price_df['currentPrice']]\n",
    "\n",
    "price_df['current_currency'] = [val['_currencyId'] for \n",
    "                               val in price_df['currentPrice']]"
   ]
  },
  {
   "cell_type": "code",
   "execution_count": 7,
   "metadata": {
    "collapsed": true
   },
   "outputs": [],
   "source": [
    "#these are now redundant\n",
    "price_df = price_df.drop(['convertedCurrentPrice', 'currentPrice'], axis=1)"
   ]
  },
  {
   "cell_type": "code",
   "execution_count": 8,
   "metadata": {
    "collapsed": true
   },
   "outputs": [],
   "source": [
    "#merging\n",
    "roman_coins = pd.concat([roman, primary, price_df], axis=1)"
   ]
  },
  {
   "cell_type": "code",
   "execution_count": 9,
   "metadata": {
    "collapsed": true
   },
   "outputs": [],
   "source": [
    "#saving the raw data, don't mind the inefficient name for my directory..\n",
    "file_name = './old cleaned:used datasets /uncleaned_data_' + re.sub('-', '_', str(datetime.datetime.now())[5:10])\n",
    "roman_coins.to_csv(file_name)"
   ]
  },
  {
   "cell_type": "code",
   "execution_count": 10,
   "metadata": {
    "collapsed": true
   },
   "outputs": [],
   "source": [
    "#reloading like this as a convenience measure to auto-change some data types\n",
    "roman_coins = pd.read_csv(file_name, index_col=0)"
   ]
  },
  {
   "cell_type": "code",
   "execution_count": 11,
   "metadata": {
    "collapsed": true
   },
   "outputs": [],
   "source": [
    "#listingInfo has lots of useful information and I want to add these variables separately\n",
    "listings = roman_coins['listingInfo'].map(eval).apply(pd.Series)\n",
    "#merging the new columns onto the dataframe\n",
    "roman_coins = pd.concat([roman_coins, listings], axis=1)\n",
    "#listings column now redundant\n",
    "roman_coins = roman_coins.drop('listingInfo', axis=1)"
   ]
  },
  {
   "cell_type": "code",
   "execution_count": 12,
   "metadata": {
    "collapsed": true
   },
   "outputs": [],
   "source": [
    "#PayPal is dominant category, so I am just swapping the 1/0\n",
    "roman_coins['paymentMethod'] = [0 if x == 'PayPal' else 1 for \n",
    "                                x  in roman_coins['paymentMethod']]"
   ]
  },
  {
   "cell_type": "code",
   "execution_count": 13,
   "metadata": {
    "collapsed": true
   },
   "outputs": [],
   "source": [
    "#again swapping to have 1 be the interesting feature in dummy variable\n",
    "roman_coins['returnsNotAccepted'] = roman_coins['returnsAccepted'].astype(int) * -1 + 1"
   ]
  },
  {
   "cell_type": "code",
   "execution_count": 14,
   "metadata": {
    "collapsed": true
   },
   "outputs": [],
   "source": [
    "shipping = roman_coins['shippingInfo'].map(eval).apply(pd.Series)"
   ]
  },
  {
   "cell_type": "code",
   "execution_count": 15,
   "metadata": {
    "collapsed": true
   },
   "outputs": [],
   "source": [
    "#Extracting shipping information from dictionaries and merging\n",
    "ship_cost_dicts = []\n",
    "shipping_currency = []\n",
    "\n",
    "for val in shipping['shippingServiceCost']:\n",
    "    try:\n",
    "        currency = val['_currencyId']\n",
    "        cost = val['value']\n",
    "        ship_cost_dicts.append(cost)\n",
    "        shipping_currency.append(currency)\n",
    "    \n",
    "    except:\n",
    "        \n",
    "        ship_cost_dicts.append(np.nan)\n",
    "        shipping_currency.append(np.nan)\n",
    "\n",
    "shipping['shipping_cost'] = ship_cost_dicts\n",
    "shipping['shipping_cost_currency'] = shipping_currency\n",
    "\n",
    "#filling missing values (usually not many) with mean values\n",
    "shipping['handlingTime'] = shipping['handlingTime'].astype(float)\n",
    "shipping['handlingTime'] = shipping['handlingTime'].fillna(\n",
    "                                    shipping['handlingTime'].mean())\n",
    "\n",
    "mapper = {'false' : 0, 'true': 1}\n",
    "shipping['expeditedShipping'] = shipping['expeditedShipping'].map(mapper)"
   ]
  },
  {
   "cell_type": "code",
   "execution_count": 16,
   "metadata": {
    "collapsed": true
   },
   "outputs": [],
   "source": [
    "roman_coins = pd.concat([roman_coins, shipping], axis=1)"
   ]
  },
  {
   "cell_type": "code",
   "execution_count": 17,
   "metadata": {
    "collapsed": true
   },
   "outputs": [],
   "source": [
    "#converting some features \n",
    "roman_coins['topRatedListing'] = roman_coins['topRatedListing'].astype(int)\n",
    "\n",
    "roman_coins['URLTitle'] = [val[24:-13] for val in roman_coins['viewItemURL']]\n",
    "\n",
    "roman_coins['autoPay'] = roman_coins['autoPay'].astype(int)\n",
    "\n",
    "roman_coins['categoryId'] = roman_coins['categoryId'].astype(object)"
   ]
  },
  {
   "cell_type": "code",
   "execution_count": 18,
   "metadata": {
    "collapsed": true
   },
   "outputs": [],
   "source": [
    "#making datetimes\n",
    "roman_coins['startTime'] = pd.to_datetime(roman_coins['startTime'])\n",
    "roman_coins['endTime'] = pd.to_datetime(roman_coins['endTime'])"
   ]
  },
  {
   "cell_type": "code",
   "execution_count": 19,
   "metadata": {
    "collapsed": true
   },
   "outputs": [],
   "source": [
    "#this step cleans time left and makes it a timedelta\n",
    "#The except shouldn't be an issue, but everyonce in a while, a coin finishes\n",
    "#during scrape and is marked completed. \n",
    "\n",
    "times = []\n",
    "try:\n",
    "    for val in roman_coins['timeLeft']:\n",
    "        x = re.sub(r'[HM]+', ':', val)\n",
    "        time = re.sub(r'[SPT]', '', x)\n",
    "        new_time = pd.Timedelta(time)\n",
    "        times.append(new_time)\n",
    "except KeyError:\n",
    "    print('You are running completed sales, this step unnecessary')\n",
    "\n",
    "roman_coins['timeLeft'] = times"
   ]
  },
  {
   "cell_type": "code",
   "execution_count": 20,
   "metadata": {
    "collapsed": true
   },
   "outputs": [],
   "source": [
    "roman_coins['watchCount'] = roman_coins['watchCount'].astype(float)\n",
    "roman_coins['shipping_cost'] = roman_coins['shipping_cost'].astype(float)"
   ]
  },
  {
   "cell_type": "code",
   "execution_count": 21,
   "metadata": {
    "collapsed": true
   },
   "outputs": [],
   "source": [
    "#If pulling smaller amounts of coins (less than 3 or 4 pages), there is a small probability \n",
    "#of not having 'BuyItNowPrices', account for this with try/except statements. \n",
    "try: \n",
    "    buyitnow = []\n",
    "    for val in roman_coins['buyItNowPrice']:\n",
    "        try:\n",
    "            price = val['value']\n",
    "            buyitnow.append(price)\n",
    "        except:\n",
    "            buyitnow.append(np.nan)\n",
    "    \n",
    "    roman_coins['buyItNowPrice'] = buyitnow\n",
    "    roman_coins['buyItNowPrice'] = roman_coins['buyItNowPrice'].astype(float)\n",
    "\n",
    "    roman_coins['buyItNowPrice'] = buyitnow\n",
    "    roman_coins['buyItNowPrice'] = roman_coins['buyItNowPrice'].astype(float)\n",
    "\n",
    "except:\n",
    "    print('Warning: no BuyItNowPrice, inputting 0')\n",
    "    roman_coins['buyItNowPrice'] = 0"
   ]
  },
  {
   "cell_type": "code",
   "execution_count": 22,
   "metadata": {
    "collapsed": true
   },
   "outputs": [],
   "source": [
    "mapper = {'false' : 0, 'true': 1}\n",
    "roman_coins['bestOfferEnabled'] = roman_coins['bestOfferEnabled'].map(mapper)\n",
    "roman_coins['buyItNowAvailable'] = roman_coins['buyItNowAvailable'].map(mapper)"
   ]
  },
  {
   "cell_type": "code",
   "execution_count": 23,
   "metadata": {
    "collapsed": true
   },
   "outputs": [],
   "source": [
    "#eliminating duplicate ItemIds (keeping first (most recent, unlikely to be an issue))\n",
    "roman_coins = roman_coins.drop(list(roman_coins[roman_coins.duplicated(\n",
    "                            subset='itemId', keep='first')].index), axis = 0)"
   ]
  },
  {
   "cell_type": "code",
   "execution_count": 24,
   "metadata": {
    "collapsed": true
   },
   "outputs": [],
   "source": [
    "#turning timeLeft into an float variable representing number of hours remaining\n",
    "roman_coins['timeLeft'] = roman_coins['timeLeft'] / pd.Timedelta(hours=1)\n",
    "\n",
    "\n",
    "#turning hours into categorical variables\n",
    "roman_coins['timeLeft'] = pd.cut(roman_coins['timeLeft'], \n",
    "               [0, 1, 6, 24, 48, 168, roman_coins['timeLeft'].max()], \n",
    "                labels=['less_than_hour_left', 'less_than_6hours_left', \n",
    "                  'less_than_day_left', 'less_than_2day_left', 'less_than_week_left',\n",
    "                  'more_than_week_left'])\n",
    "\n",
    "roman_coins['timeLeft'] = roman_coins['timeLeft'].astype(object).fillna('completed_no_time_left')\n",
    "\n",
    "roman_coins = pd.concat([roman_coins, pd.get_dummies(roman_coins['timeLeft']).drop('more_than_week_left', \n",
    "                                                        axis=1)], axis=1)\n",
    "roman_coins = roman_coins.drop('timeLeft', axis=1)"
   ]
  },
  {
   "cell_type": "code",
   "execution_count": 25,
   "metadata": {
    "collapsed": true
   },
   "outputs": [],
   "source": [
    "#dropping roman coin jewelry categories\n",
    "\n",
    "roman_coins = roman_coins.drop(list(roman_coins.loc[roman_coins['categoryId'] == 137843].index), axis=0)\n",
    "roman_coins = roman_coins.drop(list(roman_coins.loc[roman_coins['categoryId'] == 164343].index), axis=0)\n",
    "roman_coins = roman_coins.drop(list(roman_coins.loc[roman_coins['categoryId'] == 548].index), axis=0)\n",
    "roman_coins = roman_coins.drop(list(roman_coins.loc[roman_coins['categoryId'] == 164341].index), axis=0)\n",
    "roman_coins = roman_coins.drop(list(roman_coins.loc[roman_coins['categoryId'] == 45157].index), axis=0)\n",
    "roman_coins = roman_coins.drop(list(roman_coins.loc[roman_coins['categoryId'] == 29223].index), axis=0)\n",
    "roman_coins = roman_coins.drop(list(roman_coins.loc[roman_coins['categoryId'] == 13993].index), axis=0)\n",
    "\n",
    "#dropping additional categories likely not to be coins\n",
    "drop_cols = roman_coins['categoryId'].value_counts().reset_index()\n",
    "val_to_drop = list(drop_cols.loc[drop_cols['categoryId'] < 12]['index'])\n",
    "roman_coins = roman_coins.drop(roman_coins[roman_coins['categoryId'].isin(val_to_drop)].index, axis=0)"
   ]
  },
  {
   "cell_type": "code",
   "execution_count": 26,
   "metadata": {
    "collapsed": true
   },
   "outputs": [],
   "source": [
    "#dropping sales not in USD\n",
    "roman_coins = roman_coins.drop(list(roman_coins[roman_coins['current_currency'] != 'USD'].index), axis=0)"
   ]
  },
  {
   "cell_type": "code",
   "execution_count": 27,
   "metadata": {
    "collapsed": true
   },
   "outputs": [],
   "source": [
    "roman_coins['seller_in_us'] = roman_coins['country'].apply(lambda x: 1 if x == 'US' else 0)"
   ]
  },
  {
   "cell_type": "code",
   "execution_count": 28,
   "metadata": {
    "collapsed": true
   },
   "outputs": [],
   "source": [
    "roman_coins['startTime'] = pd.to_datetime(roman_coins['startTime'])\n",
    "roman_coins['endTime'] = pd.to_datetime(roman_coins['endTime'])"
   ]
  },
  {
   "cell_type": "code",
   "execution_count": 29,
   "metadata": {
    "collapsed": true
   },
   "outputs": [],
   "source": [
    "roman_coins['shippingType'] = roman_coins['shippingType'].apply(lambda x: 'International' if x in ['CalculatedDomesticFlatInternational',\n",
    "                                                                                'FlatDomesticCalculatedInternational'] else x)"
   ]
  },
  {
   "cell_type": "code",
   "execution_count": 30,
   "metadata": {
    "collapsed": true
   },
   "outputs": [],
   "source": [
    "#pulling individual emperors from titles\n",
    "\n",
    "#splitting and rejoining URLtitles\n",
    "roman_coins['URLTitle'] = roman_coins['URLTitle'].str.split('-').apply(lambda x: \" \".join(x))\n",
    "roman_coins['URLTitle'] = roman_coins['URLTitle'].str.lower()\n",
    "\n",
    "roman_emperors = ['Augustus', 'Tiberius', 'Caligula', 'Claudius', 'Nero', 'Galba', 'Otho', 'Aulus Vitellius', 'Vespasian', 'Titus', \n",
    "                  'Domitian', 'Nerva', 'Trajan', 'Hadrian', 'Antoninus Pius', 'Marcus Aurelius', 'Lucius Verus', 'Commodus', 'Publius Helvius Pertinax', \n",
    "                  'Marcus Didius Severus Julianus', 'Septimius Severus', 'Caracalla', 'Publius Septimius Geta', 'Macrinus', 'Elagabalus', 'Severus Alexander', \n",
    "                  'Maximinus', 'Gordian I', 'Gordian II', 'Pupienus Maximus', 'Balbinus', 'Gordian III', 'Philip', 'Decius', 'Hostilian', 'Gallus', 'Aemilian', 'Valerian', 'Gallienus', \n",
    "                  'Claudius II Gothicus', 'Quintillus', 'Aurelian', 'Tacitus', 'Florian', 'Probus', 'Carus', 'Numerian', 'Carinus', 'Diocletian', 'Maximian', 'Constantius I',\n",
    "                  'Galerius',  'Constantine I ', 'Galerius Valerius Maximinus', 'Licinius', 'Constantine II ', 'Constantius II', 'Constans I', 'Gallus Caesar', 'Julian', 'Jovian', \n",
    "                  'Valentinian I', 'Valens', 'Gratian', 'Valentinian II', 'Theodosius I', 'Arcadius', 'Magnus Maximus', 'Honorius', 'Theodosius II', 'Constantius III', 'Valentinian III',\n",
    "                  'Marcian', 'Petronius Maximus', 'Avitus', 'Majorian', 'Anthemius', 'Olybrius', 'Glycerius', 'Julius Nepos', 'Romulus Augustulus', 'Leo I', 'Leo II', 'Zeno']\n",
    "\n",
    "roman_emperors = [x.lower() for x in roman_emperors]\n",
    "\n",
    "emperors = []\n",
    "\n",
    "for title in roman_coins['URLTitle']:\n",
    "    if 'lot' in title: \n",
    "        emperors.append('LOT')\n",
    "    else:\n",
    "        emps = re.findall(r\"(?=(\"+'|'.join(roman_emperors)+r\"))\",title)\n",
    "        if emps:\n",
    "            emperors.append(emps)\n",
    "        else: \n",
    "            emperors.append('unknown')\n",
    "\n",
    "roman_coins['emperor_in_title'] = emperors"
   ]
  },
  {
   "cell_type": "code",
   "execution_count": 31,
   "metadata": {
    "collapsed": true
   },
   "outputs": [],
   "source": [
    "#Eliminating additional non-coin sales\n",
    "posters = []\n",
    "\n",
    "for num, val in enumerate(roman_coins['URLTitle']):\n",
    "    if 'poster' in val:\n",
    "        posters.append(num)\n",
    "\n",
    "roman_coins = roman_coins.drop(posters, axis=0).reset_index(drop=True)"
   ]
  },
  {
   "cell_type": "code",
   "execution_count": 32,
   "metadata": {
    "collapsed": true
   },
   "outputs": [],
   "source": [
    "#Identifying whether there are one or more emperors in the title (i.e. is seller selling two or more coins)\n",
    "#creating separate columns for dummy variable creation later\n",
    "singles = []\n",
    "for num, val in enumerate(roman_coins['emperor_in_title']):\n",
    "    if val != 'unknown':\n",
    "        if len(val) > 1:\n",
    "            singles.append('multiple_emps_in_title')\n",
    "        elif len(val) == 1:\n",
    "            singles.append(val[0])\n",
    "    else:\n",
    "        singles.append('unknown')\n",
    "            \n",
    "roman_coins['emp_prep_dummies'] = singles"
   ]
  },
  {
   "cell_type": "code",
   "execution_count": 33,
   "metadata": {
    "collapsed": true
   },
   "outputs": [],
   "source": [
    "def emperor_cleaner(col):\n",
    "    \"\"\"eliminating duplicate emperor names within same listing, making them strings\"\"\"   \n",
    "    if col == 'unknown' or col == 'LOT':\n",
    "        return col\n",
    "    else:\n",
    "        if len(col) > 1:\n",
    "            emp = list(set(col))\n",
    "            clean = ' '.join(emp)\n",
    "            return clean\n",
    "        elif len(col) == 1:\n",
    "            emp = col[0]\n",
    "            return emp\n",
    "\n",
    "roman_coins['emperor_in_title'] = roman_coins['emperor_in_title'].apply(emperor_cleaner)"
   ]
  },
  {
   "cell_type": "code",
   "execution_count": 34,
   "metadata": {
    "collapsed": true
   },
   "outputs": [],
   "source": [
    "#Extracting coin material from titles \n",
    "metals = ['gold', 'silver', 'bronze', 'orichalcum', 'copper']\n",
    "\n",
    "metal = []\n",
    "for title in roman_coins['URLTitle']:\n",
    "    coin = re.findall(r\"(?=(\"+'|'.join(metals)+r\"))\",title)\n",
    "    if coin:\n",
    "        metal.append(coin)\n",
    "    else: \n",
    "        metal.append(['unknown'])\n",
    "        \n",
    "roman_coins['coin_metal'] = metal"
   ]
  },
  {
   "cell_type": "code",
   "execution_count": 35,
   "metadata": {
    "collapsed": true
   },
   "outputs": [],
   "source": [
    "def metal_cleaner(col):\n",
    "    \"\"\"Removes metal values from lists\"\"\"\n",
    "    try:\n",
    "        multi = ' '.join(col)\n",
    "        return multi\n",
    "    except:\n",
    "        single = col[0]\n",
    "        return single\n",
    "\n",
    "roman_coins['coin_metal'] = roman_coins['coin_metal'].apply(metal_cleaner)"
   ]
  },
  {
   "cell_type": "code",
   "execution_count": 36,
   "metadata": {
    "collapsed": true
   },
   "outputs": [],
   "source": [
    "#checking one last time to eliminate non-coin sales\n",
    "jewelery = []\n",
    "\n",
    "for num, val in enumerate(roman_coins['URLTitle']):\n",
    "    if 'earring' in val:\n",
    "        jewelery.append(num)\n",
    "    elif 'pendant' in val:\n",
    "        jewelery.append(num)\n",
    "    elif 'bracelet'in val:\n",
    "        jewelery.append(num)\n",
    "    elif 'necklace' in val:\n",
    "        jewelery.append(num)\n",
    "\n",
    "roman_coins = roman_coins.drop(jewelery, axis=0).reset_index(drop=True)"
   ]
  },
  {
   "cell_type": "code",
   "execution_count": 37,
   "metadata": {
    "collapsed": true
   },
   "outputs": [],
   "source": [
    "#Adding dummies for gold and silver\n",
    "roman_coins['gold'] = roman_coins['coin_metal'].apply(lambda x: 1 if x == 'gold' else 0)\n",
    "roman_coins['silver'] = roman_coins['coin_metal'].apply(lambda x: 1 if x == 'silver' else 0 )"
   ]
  },
  {
   "cell_type": "code",
   "execution_count": 38,
   "metadata": {
    "collapsed": true
   },
   "outputs": [],
   "source": [
    "#Creating dummy variable for lots (i.e. more than 1 coin for sale)\n",
    "roman_coins['is_a_lot'] = roman_coins['emperor_in_title'].apply(lambda x: 1 if x == 'LOT' else 0)"
   ]
  },
  {
   "cell_type": "code",
   "execution_count": 39,
   "metadata": {
    "collapsed": true
   },
   "outputs": [],
   "source": [
    "#uncleaned is a common indicator of low quality, creating dummy\n",
    "\n",
    "uncleaned = []\n",
    "for val in roman_coins['URLTitle']:\n",
    "    has = re.search('uncleaned', val)\n",
    "    if has:\n",
    "        uncleaned.append(1)\n",
    "    else:\n",
    "        uncleaned.append(0)\n",
    "\n",
    "roman_coins['uncleaned'] = uncleaned"
   ]
  },
  {
   "cell_type": "code",
   "execution_count": 40,
   "metadata": {
    "collapsed": true
   },
   "outputs": [],
   "source": [
    "#Creating total sale time feature, putting it into days\n",
    "roman_coins['total_sale_time'] = roman_coins['endTime'] - roman_coins['startTime']\n",
    "roman_coins['total_sale_time'] = roman_coins.total_sale_time.dt.days\n",
    "\n",
    "#dropping lots that have negative total time values (likely put up and immediately \n",
    "#taken down)\n",
    "roman_coins = roman_coins.drop(list(roman_coins.loc[roman_coins['total_sale_time'] < 0].index), axis=0)\n",
    "\n",
    "\n",
    "#Creating categorical bins for duration\n",
    "roman_coins['total_sale_time'] = pd.cut(roman_coins['total_sale_time'], \n",
    "           [0, 7, 30, 365, roman_coins['total_sale_time'].max()], \n",
    "          labels=['Less_than_week', 'Less_than_month', 'less_than_year', 'more_than_year'])\n",
    "\n",
    "roman_coins = pd.concat([roman_coins, pd.get_dummies(roman_coins['total_sale_time']).drop('less_than_year', \n",
    "                                                               axis=1)], axis=1 )\n",
    "roman_coins = roman_coins.drop('total_sale_time', axis=1)"
   ]
  },
  {
   "cell_type": "code",
   "execution_count": 41,
   "metadata": {
    "collapsed": true
   },
   "outputs": [],
   "source": [
    "#Queens (zip: 11374) seems to house a professional high-volume seller, creating dummy\n",
    "#41% of volume eminates from this zip\n",
    "roman_coins['Queens_seller'] = roman_coins['postalCode'].apply(lambda x: 1 if x == '11374' else 0)"
   ]
  },
  {
   "cell_type": "code",
   "execution_count": 42,
   "metadata": {
    "collapsed": true
   },
   "outputs": [],
   "source": [
    "#creating dummies based on 'quality' indications in the title\n",
    "def low_quality(title):\n",
    "    word = re.findall(r'low|lower', title)\n",
    "    if word:\n",
    "        return 1\n",
    "    else:\n",
    "        return 0\n",
    "\n",
    "def high_quality(title):\n",
    "    word = re.findall(r'high|higher|premium|rare', title)\n",
    "    if word:\n",
    "        return 1\n",
    "    else:\n",
    "        return 0\n",
    "    \n",
    "roman_coins['high_quality_words'] = roman_coins['URLTitle'].apply(high_quality)\n",
    "roman_coins['low_quality_words'] = roman_coins['URLTitle'].apply(low_quality)"
   ]
  },
  {
   "cell_type": "code",
   "execution_count": 43,
   "metadata": {
    "collapsed": true
   },
   "outputs": [],
   "source": [
    "#turning shipping type into dummy variables\n",
    "roman_coins = pd.concat([roman_coins, pd.get_dummies(roman_coins['shippingType'])], axis=1)\n"
   ]
  },
  {
   "cell_type": "code",
   "execution_count": 44,
   "metadata": {
    "collapsed": true
   },
   "outputs": [],
   "source": [
    "#getting listing type dummies, \n",
    "roman_coins = pd.concat([roman_coins, pd.get_dummies(roman_coins['listingType'])], axis=1)\n",
    "\n",
    "#dropping start/endTime\n",
    "roman_coins = roman_coins.drop(['endTime', 'startTime'], axis=1)\n",
    "\n",
    "#dropping categoryId\n",
    "roman_coins = roman_coins.drop('categoryId', axis=1)"
   ]
  },
  {
   "cell_type": "code",
   "execution_count": 45,
   "metadata": {
    "collapsed": true
   },
   "outputs": [],
   "source": [
    "#creating two more dummies for coin metals before dropping\n",
    "roman_coins['bronze'] = roman_coins['coin_metal'].apply(lambda x: 1 if x == 'bronze' else 0)\n",
    "roman_coins['copper'] = roman_coins['coin_metal'].apply(lambda x: 1 if x == 'copper' else 0)\n",
    "roman_coins = roman_coins.drop('coin_metal', axis=1)"
   ]
  },
  {
   "cell_type": "code",
   "execution_count": 46,
   "metadata": {
    "collapsed": true
   },
   "outputs": [],
   "source": [
    "#filling NaNs with zeros for numeric cats\n",
    "roman_coins['bidCount'] = roman_coins['bidCount'].fillna(0)\n",
    "roman_coins['watchCount'] = roman_coins['watchCount'].fillna(0)"
   ]
  },
  {
   "cell_type": "code",
   "execution_count": 47,
   "metadata": {
    "collapsed": true
   },
   "outputs": [],
   "source": [
    "#adding the emperor dummy variables and concatting to main df\n",
    "roman_coins = pd.concat([roman_coins, pd.get_dummies(roman_coins['emp_prep_dummies']).drop(\n",
    "    'unknown', axis=1)], axis=1)\n",
    "\n",
    "roman_coins = roman_coins.drop('emp_prep_dummies', axis=1)\n",
    "roman_coins = roman_coins.drop('emperor_in_title', axis=1)"
   ]
  },
  {
   "cell_type": "code",
   "execution_count": 48,
   "metadata": {
    "collapsed": true
   },
   "outputs": [],
   "source": [
    "#saving data to refit model later\n",
    "file_name = './old cleaned:used datasets /to_fit_to_model_later_' + re.sub('-', '_', str(datetime.datetime.now())[5:10])\n",
    "roman_coins.to_csv(file_name)"
   ]
  },
  {
   "cell_type": "code",
   "execution_count": 49,
   "metadata": {
    "collapsed": true
   },
   "outputs": [],
   "source": [
    "#Columns from the model\n",
    "model_cols= ['autoPay', 'bestOfferEnabled', 'bidCount', 'buyItNowAvailable',\n",
    "       'expeditedShipping', 'handlingTime', 'paymentMethod',\n",
    "       'returnsNotAccepted', 'topRatedListing', 'watchCount',\n",
    "       'less_than_6hours_left', 'less_than_day_left', 'seller_in_us', 'gold',\n",
    "       'silver', 'is_a_lot', 'uncleaned', 'Less_than_week', 'Less_than_month',\n",
    "       'more_than_year', 'Queens_seller', 'high_quality_words',\n",
    "       'low_quality_words', 'Calculated', 'Flat', 'Free', 'Auction',\n",
    "       'FixedPrice', 'bronze', 'copper', 'arcadius', 'augustus', 'caligula',\n",
    "       'caracalla', 'commodus', 'constantine i ', 'constantine ii ',\n",
    "       'constantius i', 'diocletian', 'domitian', 'elagabalus', 'florian',\n",
    "       'galerius', 'gallus', 'gratian', 'hadrian', 'honorius', 'hostilian',\n",
    "       'julian', 'lucius verus', 'macrinus', 'magnus maximus', 'marcian',\n",
    "       'marcus aurelius', 'maximian', 'maximinus', 'multiple_emps_in_title',\n",
    "       'nero', 'nerva', 'otho', 'philip', 'probus', 'quintillus',\n",
    "       'septimius severus', 'severus alexander', 'tiberius', 'titus', 'trajan',\n",
    "       'valens', 'valentinian i', 'vespasian', 'zeno']"
   ]
  },
  {
   "cell_type": "code",
   "execution_count": 50,
   "metadata": {
    "collapsed": true
   },
   "outputs": [],
   "source": [
    "#dropping outliers and coins priced below 3 dollars (not part of market of interest)\n",
    "roman_coins = roman_coins.drop(list(roman_coins.loc[(roman_coins['current_price'] < 3)| \n",
    "                          (roman_coins['current_price']> 1000)].index), axis=0).reset_index(drop=True)\n"
   ]
  },
  {
   "cell_type": "code",
   "execution_count": 51,
   "metadata": {
    "collapsed": true
   },
   "outputs": [],
   "source": [
    "#saving useful columns for later\n",
    "add_later = roman_coins[['URLTitle', 'itemId', 'viewItemURL', 'current_price']]\n",
    "roman_coins = roman_coins.drop(['URLTitle', 'itemId', 'viewItemURL', 'current_price'], axis=1)\n",
    "\n",
    "#dropping columns not present in model\n",
    "for col in roman_coins.columns:\n",
    "    if col not in model_cols:\n",
    "        roman_coins.drop(col, axis=1, inplace=True)"
   ]
  },
  {
   "cell_type": "code",
   "execution_count": 52,
   "metadata": {
    "collapsed": true
   },
   "outputs": [],
   "source": [
    "#Introducing the model\n",
    "with open('final_model.pickle', 'rb') as file_handle:\n",
    "         random_forest = pickle.load(file_handle)"
   ]
  },
  {
   "cell_type": "code",
   "execution_count": 55,
   "metadata": {},
   "outputs": [
    {
     "name": "stdout",
     "output_type": "stream",
     "text": [
      "This column was not present in the dataset, filling with 0: current_price\n",
      "This column was not present in the dataset, filling with 0: caligula\n",
      "This column was not present in the dataset, filling with 0: marcian\n",
      "This column was not present in the dataset, filling with 0: otho\n"
     ]
    }
   ],
   "source": [
    "#infrequently an Emperor is not present in sample, need to add 0 values for these. \n",
    "missing_cols = []\n",
    "for val in model_cols:\n",
    "    if val not in roman_coins.columns:\n",
    "        print(\"This column was not present in the dataset, filling with 0:\", val)\n",
    "        missing_cols.append(val)\n",
    "        \n",
    "if missing_cols:\n",
    "    for val in missing_cols:\n",
    "        roman_coins[val] = 0"
   ]
  },
  {
   "cell_type": "code",
   "execution_count": 56,
   "metadata": {
    "collapsed": true
   },
   "outputs": [],
   "source": [
    "X = roman_coins.values"
   ]
  },
  {
   "cell_type": "code",
   "execution_count": 57,
   "metadata": {
    "collapsed": true,
    "scrolled": true
   },
   "outputs": [],
   "source": [
    "predictions = random_forest.predict(X)"
   ]
  },
  {
   "cell_type": "code",
   "execution_count": 58,
   "metadata": {
    "collapsed": true
   },
   "outputs": [],
   "source": [
    "add_later['predictions'] = np.exp(predictions)"
   ]
  },
  {
   "cell_type": "code",
   "execution_count": 59,
   "metadata": {},
   "outputs": [],
   "source": [
    "add_later['difference'] = add_later['predictions'] - add_later['current_price']"
   ]
  },
  {
   "cell_type": "code",
   "execution_count": 60,
   "metadata": {},
   "outputs": [
    {
     "name": "stdout",
     "output_type": "stream",
     "text": [
      "What is your maximum spending amount? (give as integer USD)180\n"
     ]
    }
   ],
   "source": [
    "#Setting a budget- i.e. max current price\n",
    "\n",
    "budget = int(input('What is your maximum spending amount? (give as integer USD)'))\n",
    "add_later = add_later.loc[add_later['current_price'] < budget]"
   ]
  },
  {
   "cell_type": "code",
   "execution_count": 61,
   "metadata": {
    "collapsed": true
   },
   "outputs": [],
   "source": [
    "#5 largest deviations to send\n",
    "TEXT = ''\n",
    "\n",
    "for val in add_later.sort_values(by='difference', ascending=False)['viewItemURL'].head().values:\n",
    "    TEXT += val + '\\n' +'\\n'\n",
    "    \n",
    "SUBJECT = 'Roman Coins below normal price'\n",
    "message = 'Subject: {}\\n\\n{}'.format(SUBJECT, TEXT)"
   ]
  },
  {
   "cell_type": "code",
   "execution_count": 62,
   "metadata": {},
   "outputs": [
    {
     "name": "stdout",
     "output_type": "stream",
     "text": [
      "What email address would you like to recieve the coins at?slevin886@gmail.com\n"
     ]
    },
    {
     "data": {
      "text/plain": [
       "(221, b'Service Closing transmission')"
      ]
     },
     "execution_count": 62,
     "metadata": {},
     "output_type": "execute_result"
    }
   ],
   "source": [
    "#Sending top 5 links to user defined address\n",
    "\n",
    "server = smtplib.SMTP('smtp.mail.yahoo.com', 587)\n",
    "server.starttls()\n",
    "server.login('roman_coins_swl@yahoo.com', pw)\n",
    " \n",
    "email_to_send = input('What email address would you like to recieve the coins at?')    \n",
    "    \n",
    "server.sendmail('roman_coins_swl@yahoo.com', email_to_send, message)\n",
    "server.quit()"
   ]
  }
 ],
 "metadata": {
  "kernelspec": {
   "display_name": "Python 3",
   "language": "python",
   "name": "python3"
  },
  "language_info": {
   "codemirror_mode": {
    "name": "ipython",
    "version": 3
   },
   "file_extension": ".py",
   "mimetype": "text/x-python",
   "name": "python",
   "nbconvert_exporter": "python",
   "pygments_lexer": "ipython3",
   "version": "3.6.4"
  }
 },
 "nbformat": 4,
 "nbformat_minor": 2
}
