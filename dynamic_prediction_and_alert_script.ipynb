{
 "cells": [
  {
   "cell_type": "markdown",
   "metadata": {},
   "source": [
    "### This script scrapes a user-determined number of pages from ebay,\n",
    "### uses previously collected data to predict price and emails the user a list of \n",
    "###  5 coin URLs with the largest positive difference between predicted/current price."
   ]
  },
  {
   "cell_type": "code",
   "execution_count": 122,
   "metadata": {
    "collapsed": true
   },
   "outputs": [],
   "source": [
    "import datetime\n",
    "from ebaysdk.finding import Connection as Finding\n",
    "from ebaysdk.exception import ConnectionError\n",
    "from tqdm import tqdm \n",
    "import numpy as np\n",
    "import pandas as pd\n",
    "import requests\n",
    "import re\n",
    "import smtplib\n",
    "import pickle\n",
    "from email_pw import pw"
   ]
  },
  {
   "cell_type": "code",
   "execution_count": 123,
   "metadata": {},
   "outputs": [
    {
     "name": "stdout",
     "output_type": "stream",
     "text": [
      "How many pages would you like to scrape? Enter an integer between 1 and 100: 20\n"
     ]
    },
    {
     "name": "stderr",
     "output_type": "stream",
     "text": [
      "100%|██████████| 19/19 [00:28<00:00,  1.51s/it]\n"
     ]
    }
   ],
   "source": [
    "#must be executed from same directory where ebay.yaml file is located for config_file (or change path)\n",
    "\n",
    "solutions = []\n",
    "\n",
    "num_pages = input('How many pages would you like to scrape? Enter an integer between 1 and 100: ')\n",
    "\n",
    "for page in tqdm(range(1, int(num_pages))):\n",
    "    try:\n",
    "        api = Finding(config_file='./ebay.yaml')\n",
    "        response = api.execute('findItemsAdvanced', {'keywords': 'Roman Coin',\n",
    "                                 'paginationInput': {'pageNumber': page}})\n",
    "        coin = response.dict()\n",
    "        solutions.append(coin)\n",
    "\n",
    "    except ConnectionError as e:\n",
    "        print(e)"
   ]
  },
  {
   "cell_type": "code",
   "execution_count": 234,
   "metadata": {
    "collapsed": true
   },
   "outputs": [],
   "source": [
    "df = pd.DataFrame(solutions)\n",
    "\n",
    "new = []\n",
    "for item in df['searchResult']:\n",
    "    new.append(item)\n",
    "\n",
    "df2 = pd.DataFrame(new)"
   ]
  },
  {
   "cell_type": "code",
   "execution_count": 235,
   "metadata": {
    "collapsed": true
   },
   "outputs": [],
   "source": [
    "coins = []\n",
    "for item in df2['item']:\n",
    "    for listing in item:\n",
    "        coins.append(listing)\n",
    "\n",
    "roman = pd.DataFrame(coins)"
   ]
  },
  {
   "cell_type": "code",
   "execution_count": 236,
   "metadata": {
    "collapsed": true
   },
   "outputs": [],
   "source": [
    "primary_cat = []\n",
    "for val in roman['primaryCategory']:\n",
    "    primary_cat.append(val)\n",
    "    \n",
    "primary = pd.DataFrame(primary_cat)"
   ]
  },
  {
   "cell_type": "code",
   "execution_count": 237,
   "metadata": {
    "collapsed": true
   },
   "outputs": [],
   "source": [
    "prices = []\n",
    "\n",
    "for price in roman['sellingStatus']:\n",
    "    prices.append(price)\n",
    "    \n",
    "price_df = pd.DataFrame(prices)\n",
    "price_df['currencyid_conv'] = [val['_currencyId'] for \n",
    "                               val in price_df['convertedCurrentPrice']]\n",
    "\n",
    "price_df['value_conv'] = [val['value'] for \n",
    "                               val in price_df['convertedCurrentPrice']]\n",
    "\n",
    "price_df['current_price'] = [val['value'] for \n",
    "                               val in price_df['currentPrice']]\n",
    "\n",
    "price_df['current_currency'] = [val['_currencyId'] for \n",
    "                               val in price_df['currentPrice']]"
   ]
  },
  {
   "cell_type": "code",
   "execution_count": 238,
   "metadata": {
    "collapsed": true
   },
   "outputs": [],
   "source": [
    "price_df = price_df.drop(['convertedCurrentPrice', 'currentPrice'], axis=1)"
   ]
  },
  {
   "cell_type": "code",
   "execution_count": 239,
   "metadata": {
    "collapsed": true
   },
   "outputs": [],
   "source": [
    "roman_coins = pd.concat([roman, primary, price_df], axis=1)"
   ]
  },
  {
   "cell_type": "code",
   "execution_count": 240,
   "metadata": {
    "collapsed": true
   },
   "outputs": [],
   "source": [
    "#saving the raw data\n",
    "file_name = './old cleaned:used datasets /uncleaned_data_' + re.sub('-', '_', str(datetime.datetime.now())[5:10])\n",
    "roman_coins.to_csv(file_name)"
   ]
  },
  {
   "cell_type": "code",
   "execution_count": 241,
   "metadata": {
    "collapsed": true
   },
   "outputs": [],
   "source": [
    "roman_coins = pd.read_csv(file_name, index_col=0)"
   ]
  },
  {
   "cell_type": "code",
   "execution_count": 242,
   "metadata": {
    "collapsed": true
   },
   "outputs": [],
   "source": [
    "#listingInfo has lots of useful information and I want to add these variables separately\n",
    "listings = roman_coins['listingInfo'].map(eval).apply(pd.Series)\n",
    "#merging the new columns onto the dataframe\n",
    "roman_coins = pd.concat([roman_coins, listings], axis=1)\n",
    "#listings column now redundant\n",
    "roman_coins = roman_coins.drop('listingInfo', axis=1)"
   ]
  },
  {
   "cell_type": "code",
   "execution_count": 243,
   "metadata": {
    "collapsed": true
   },
   "outputs": [],
   "source": [
    "roman_coins['paymentMethod'] = [0 if x == 'PayPal' else 1 for \n",
    "                                x  in roman_coins['paymentMethod']]"
   ]
  },
  {
   "cell_type": "code",
   "execution_count": 244,
   "metadata": {
    "collapsed": true
   },
   "outputs": [],
   "source": [
    "roman_coins['returnsNotAccepted'] = roman_coins['returnsAccepted'].astype(int) * -1 + 1"
   ]
  },
  {
   "cell_type": "code",
   "execution_count": 245,
   "metadata": {
    "collapsed": true
   },
   "outputs": [],
   "source": [
    "shipping = roman_coins['shippingInfo'].map(eval).apply(pd.Series)"
   ]
  },
  {
   "cell_type": "code",
   "execution_count": 246,
   "metadata": {
    "collapsed": true
   },
   "outputs": [],
   "source": [
    "ship_cost_dicts = []\n",
    "shipping_currency = []\n",
    "\n",
    "for val in shipping['shippingServiceCost']:\n",
    "    try:\n",
    "        currency = val['_currencyId']\n",
    "        cost = val['value']\n",
    "        ship_cost_dicts.append(cost)\n",
    "        shipping_currency.append(currency)\n",
    "    \n",
    "    except:\n",
    "        \n",
    "        ship_cost_dicts.append(np.nan)\n",
    "        shipping_currency.append(np.nan)\n",
    "\n",
    "shipping['shipping_cost'] = ship_cost_dicts\n",
    "shipping['shipping_cost_currency'] = shipping_currency\n",
    "\n",
    "shipping['handlingTime'] = shipping['handlingTime'].astype(float)\n",
    "shipping['handlingTime'] = shipping['handlingTime'].fillna(\n",
    "                                    shipping['handlingTime'].mean())\n",
    "\n",
    "mapper = {'false' : 0, 'true': 1}\n",
    "shipping['expeditedShipping'] = shipping['expeditedShipping'].map(mapper)"
   ]
  },
  {
   "cell_type": "code",
   "execution_count": 247,
   "metadata": {
    "collapsed": true
   },
   "outputs": [],
   "source": [
    "roman_coins = pd.concat([roman_coins, shipping], axis=1)"
   ]
  },
  {
   "cell_type": "code",
   "execution_count": 248,
   "metadata": {
    "collapsed": true
   },
   "outputs": [],
   "source": [
    "roman_coins['topRatedListing'] = roman_coins['topRatedListing'].astype(int)\n",
    "\n",
    "roman_coins['URLTitle'] = [val[24:-13] for val in roman_coins['viewItemURL']]\n",
    "\n",
    "roman_coins['autoPay'] = roman_coins['autoPay'].astype(int)\n",
    "\n",
    "roman_coins['categoryId'] = roman_coins['categoryId'].astype(object)"
   ]
  },
  {
   "cell_type": "code",
   "execution_count": 249,
   "metadata": {
    "collapsed": true
   },
   "outputs": [],
   "source": [
    "roman_coins['startTime'] = pd.to_datetime(roman_coins['startTime'])\n",
    "roman_coins['endTime'] = pd.to_datetime(roman_coins['endTime'])"
   ]
  },
  {
   "cell_type": "code",
   "execution_count": 250,
   "metadata": {
    "collapsed": true
   },
   "outputs": [],
   "source": [
    "times = []\n",
    "try:\n",
    "    for val in roman_coins['timeLeft']:\n",
    "        x = re.sub(r'[HM]+', ':', val)\n",
    "        time = re.sub(r'[SPT]', '', x)\n",
    "        new_time = pd.Timedelta(time)\n",
    "        times.append(new_time)\n",
    "except KeyError:\n",
    "    print('You are running completed sales, this step unnecessary')\n",
    "\n",
    "roman_coins['timeLeft'] = times"
   ]
  },
  {
   "cell_type": "code",
   "execution_count": 251,
   "metadata": {
    "collapsed": true
   },
   "outputs": [],
   "source": [
    "roman_coins['watchCount'] = roman_coins['watchCount'].astype(float)\n",
    "roman_coins['shipping_cost'] = roman_coins['shipping_cost'].astype(float)"
   ]
  },
  {
   "cell_type": "code",
   "execution_count": 252,
   "metadata": {},
   "outputs": [],
   "source": [
    "try: \n",
    "    buyitnow = []\n",
    "    for val in roman_coins['buyItNowPrice']:\n",
    "        try:\n",
    "            price = val['value']\n",
    "            buyitnow.append(price)\n",
    "        except:\n",
    "            buyitnow.append(np.nan)\n",
    "    \n",
    "    roman_coins['buyItNowPrice'] = buyitnow\n",
    "    roman_coins['buyItNowPrice'] = roman_coins['buyItNowPrice'].astype(float)\n",
    "\n",
    "    roman_coins['buyItNowPrice'] = buyitnow\n",
    "    roman_coins['buyItNowPrice'] = roman_coins['buyItNowPrice'].astype(float)\n",
    "\n",
    "except:\n",
    "    print('Warning: no BuyItNowPrice, inputting 0')\n",
    "    roman_coins['buyItNowPrice'] = 0"
   ]
  },
  {
   "cell_type": "code",
   "execution_count": 253,
   "metadata": {
    "collapsed": true
   },
   "outputs": [],
   "source": [
    "mapper = {'false' : 0, 'true': 1}\n",
    "roman_coins['bestOfferEnabled'] = roman_coins['bestOfferEnabled'].map(mapper)\n",
    "roman_coins['buyItNowAvailable'] = roman_coins['buyItNowAvailable'].map(mapper)"
   ]
  },
  {
   "cell_type": "code",
   "execution_count": 254,
   "metadata": {
    "collapsed": true
   },
   "outputs": [],
   "source": [
    "roman_coins = roman_coins.drop(list(roman_coins[roman_coins.duplicated(\n",
    "                            subset='itemId', keep='first')].index), axis = 0)"
   ]
  },
  {
   "cell_type": "code",
   "execution_count": 255,
   "metadata": {
    "collapsed": true
   },
   "outputs": [],
   "source": [
    "df = roman_coins.copy()"
   ]
  },
  {
   "cell_type": "code",
   "execution_count": 256,
   "metadata": {
    "collapsed": true
   },
   "outputs": [],
   "source": [
    "#turning timeLeft into an float variable representing number of hours remaining\n",
    "df['timeLeft'] = df['timeLeft'] / pd.Timedelta(hours=1)\n",
    "\n",
    "\n",
    "#turning hours into categorical variables\n",
    "df['timeLeft'] = pd.cut(df['timeLeft'], \n",
    "               [0, 1, 6, 24, 48, 168, df['timeLeft'].max()], \n",
    "                labels=['less_than_hour_left', 'less_than_6hours_left', \n",
    "                  'less_than_day_left', 'less_than_2day_left', 'less_than_week_left',\n",
    "                  'more_than_week_left'])\n",
    "\n",
    "df['timeLeft'] = df['timeLeft'].astype(object).fillna('completed_no_time_left')\n",
    "\n",
    "df = pd.concat([df, pd.get_dummies(df['timeLeft']).drop('more_than_week_left', \n",
    "                                                        axis=1)], axis=1)\n",
    "df = df.drop('timeLeft', axis=1)"
   ]
  },
  {
   "cell_type": "code",
   "execution_count": 257,
   "metadata": {
    "collapsed": true
   },
   "outputs": [],
   "source": [
    "#dropping roman coin jewelry categories\n",
    "\n",
    "df = df.drop(list(df.loc[df['categoryId'] == 137843].index), axis=0)\n",
    "df = df.drop(list(df.loc[df['categoryId'] == 164343].index), axis=0)\n",
    "df = df.drop(list(df.loc[df['categoryId'] == 548].index), axis=0)\n",
    "df = df.drop(list(df.loc[df['categoryId'] == 164341].index), axis=0)\n",
    "df = df.drop(list(df.loc[df['categoryId'] == 45157].index), axis=0)\n",
    "df = df.drop(list(df.loc[df['categoryId'] == 29223].index), axis=0)\n",
    "df = df.drop(list(df.loc[df['categoryId'] == 13993].index), axis=0)\n",
    "\n",
    "#dropping additional categories likely not to be coins\n",
    "drop_cols = df['categoryId'].value_counts().reset_index()\n",
    "val_to_drop = list(drop_cols.loc[drop_cols['categoryId'] < 12]['index'])\n",
    "df = df.drop(df[df['categoryId'].isin(val_to_drop)].index, axis=0)"
   ]
  },
  {
   "cell_type": "code",
   "execution_count": 258,
   "metadata": {
    "collapsed": true
   },
   "outputs": [],
   "source": [
    "#dropping sales not in USD\n",
    "df = df.drop(list(df[df['current_currency'] != 'USD'].index), axis=0)"
   ]
  },
  {
   "cell_type": "code",
   "execution_count": 259,
   "metadata": {
    "collapsed": true
   },
   "outputs": [],
   "source": [
    "df['seller_in_us'] = df['country'].apply(lambda x: 1 if x == 'US' else 0)"
   ]
  },
  {
   "cell_type": "code",
   "execution_count": 260,
   "metadata": {
    "collapsed": true
   },
   "outputs": [],
   "source": [
    "df['startTime'] = pd.to_datetime(df['startTime'])\n",
    "df['endTime'] = pd.to_datetime(df['endTime'])"
   ]
  },
  {
   "cell_type": "code",
   "execution_count": 261,
   "metadata": {
    "collapsed": true
   },
   "outputs": [],
   "source": [
    "df['shippingType'] = df['shippingType'].apply(lambda x: 'International' if x in ['CalculatedDomesticFlatInternational',\n",
    "                                                                                'FlatDomesticCalculatedInternational'] else x)"
   ]
  },
  {
   "cell_type": "code",
   "execution_count": 262,
   "metadata": {
    "collapsed": true
   },
   "outputs": [],
   "source": [
    "#pulling individual emperors from titles\n",
    "\n",
    "#splitting and rejoining URLtitles\n",
    "df['URLTitle'] = df['URLTitle'].str.split('-').apply(lambda x: \" \".join(x))\n",
    "df['URLTitle'] = df['URLTitle'].str.lower()\n",
    "\n",
    "roman_emperors = ['Augustus', 'Tiberius', 'Caligula', 'Claudius', 'Nero', 'Galba', 'Otho', 'Aulus Vitellius', 'Vespasian', 'Titus', \n",
    "                  'Domitian', 'Nerva', 'Trajan', 'Hadrian', 'Antoninus Pius', 'Marcus Aurelius', 'Lucius Verus', 'Commodus', 'Publius Helvius Pertinax', \n",
    "                  'Marcus Didius Severus Julianus', 'Septimius Severus', 'Caracalla', 'Publius Septimius Geta', 'Macrinus', 'Elagabalus', 'Severus Alexander', \n",
    "                  'Maximinus', 'Gordian I', 'Gordian II', 'Pupienus Maximus', 'Balbinus', 'Gordian III', 'Philip', 'Decius', 'Hostilian', 'Gallus', 'Aemilian', 'Valerian', 'Gallienus', \n",
    "                  'Claudius II Gothicus', 'Quintillus', 'Aurelian', 'Tacitus', 'Florian', 'Probus', 'Carus', 'Numerian', 'Carinus', 'Diocletian', 'Maximian', 'Constantius I',\n",
    "                  'Galerius',  'Constantine I ', 'Galerius Valerius Maximinus', 'Licinius', 'Constantine II ', 'Constantius II', 'Constans I', 'Gallus Caesar', 'Julian', 'Jovian', \n",
    "                  'Valentinian I', 'Valens', 'Gratian', 'Valentinian II', 'Theodosius I', 'Arcadius', 'Magnus Maximus', 'Honorius', 'Theodosius II', 'Constantius III', 'Valentinian III',\n",
    "                  'Marcian', 'Petronius Maximus', 'Avitus', 'Majorian', 'Anthemius', 'Olybrius', 'Glycerius', 'Julius Nepos', 'Romulus Augustulus', 'Leo I', 'Leo II', 'Zeno']\n",
    "\n",
    "roman_emperors = [x.lower() for x in roman_emperors]\n",
    "\n",
    "emperors = []\n",
    "\n",
    "for title in df['URLTitle']:\n",
    "    if 'lot' in title: \n",
    "        emperors.append('LOT')\n",
    "    else:\n",
    "        emps = re.findall(r\"(?=(\"+'|'.join(roman_emperors)+r\"))\",title)\n",
    "        if emps:\n",
    "            emperors.append(emps)\n",
    "        else: \n",
    "            emperors.append('unknown')\n",
    "\n",
    "df['emperor_in_title'] = emperors"
   ]
  },
  {
   "cell_type": "code",
   "execution_count": 263,
   "metadata": {
    "collapsed": true
   },
   "outputs": [],
   "source": [
    "#Eliminating additional non-coin sales\n",
    "posters = []\n",
    "\n",
    "for num, val in enumerate(df['URLTitle']):\n",
    "    if 'poster' in val:\n",
    "        posters.append(num)\n",
    "\n",
    "df = df.drop(posters, axis=0).reset_index(drop=True)"
   ]
  },
  {
   "cell_type": "code",
   "execution_count": 264,
   "metadata": {
    "collapsed": true
   },
   "outputs": [],
   "source": [
    "#Identifying whether there are one or more emperors in the title (i.e. is seller selling two or more coins)\n",
    "#creating separate columns for dummy variable creation later\n",
    "singles = []\n",
    "for num, val in enumerate(df['emperor_in_title']):\n",
    "    if val != 'unknown':\n",
    "        if len(val) > 1:\n",
    "            singles.append('multiple_emps_in_title')\n",
    "        elif len(val) == 1:\n",
    "            singles.append(val[0])\n",
    "    else:\n",
    "        singles.append('unknown')\n",
    "            \n",
    "df['emp_prep_dummies'] = singles"
   ]
  },
  {
   "cell_type": "code",
   "execution_count": 265,
   "metadata": {
    "collapsed": true
   },
   "outputs": [],
   "source": [
    "def emperor_cleaner(col):\n",
    "    \"\"\"eliminating duplicate emperor names within same listing, making them strings\"\"\"   \n",
    "    if col == 'unknown' or col == 'LOT':\n",
    "        return col\n",
    "    else:\n",
    "        if len(col) > 1:\n",
    "            emp = list(set(col))\n",
    "            clean = ' '.join(emp)\n",
    "            return clean\n",
    "        elif len(col) == 1:\n",
    "            emp = col[0]\n",
    "            return emp\n",
    "\n",
    "df['emperor_in_title'] = df['emperor_in_title'].apply(emperor_cleaner)"
   ]
  },
  {
   "cell_type": "code",
   "execution_count": 266,
   "metadata": {
    "collapsed": true
   },
   "outputs": [],
   "source": [
    "#Extracting coin material from titles \n",
    "metals = ['gold', 'silver', 'bronze', 'orichalcum', 'copper']\n",
    "\n",
    "metal = []\n",
    "for title in df['URLTitle']:\n",
    "    coin = re.findall(r\"(?=(\"+'|'.join(metals)+r\"))\",title)\n",
    "    if coin:\n",
    "        metal.append(coin)\n",
    "    else: \n",
    "        metal.append(['unknown'])\n",
    "        \n",
    "df['coin_metal'] = metal"
   ]
  },
  {
   "cell_type": "code",
   "execution_count": 267,
   "metadata": {
    "collapsed": true
   },
   "outputs": [],
   "source": [
    "def metal_cleaner(col):\n",
    "    \"\"\"Removes metal values from lists\"\"\"\n",
    "    try:\n",
    "        multi = ' '.join(col)\n",
    "        return multi\n",
    "    except:\n",
    "        single = col[0]\n",
    "        return single\n",
    "\n",
    "df['coin_metal'] = df['coin_metal'].apply(metal_cleaner)"
   ]
  },
  {
   "cell_type": "code",
   "execution_count": 268,
   "metadata": {
    "collapsed": true
   },
   "outputs": [],
   "source": [
    "#checking one last time to eliminate non-coin sales\n",
    "jewelery = []\n",
    "\n",
    "for num, val in enumerate(df['URLTitle']):\n",
    "    if 'earring' in val:\n",
    "        jewelery.append(num)\n",
    "    elif 'pendant' in val:\n",
    "        jewelery.append(num)\n",
    "    elif 'bracelet'in val:\n",
    "        jewelery.append(num)\n",
    "    elif 'necklace' in val:\n",
    "        jewelery.append(num)\n",
    "\n",
    "df = df.drop(jewelery, axis=0).reset_index(drop=True)"
   ]
  },
  {
   "cell_type": "code",
   "execution_count": 269,
   "metadata": {
    "collapsed": true
   },
   "outputs": [],
   "source": [
    "#Adding dummies for gold and silver\n",
    "df['gold'] = df['coin_metal'].apply(lambda x: 1 if x == 'gold' else 0)\n",
    "df['silver'] = df['coin_metal'].apply(lambda x: 1 if x == 'silver' else 0 )"
   ]
  },
  {
   "cell_type": "code",
   "execution_count": 270,
   "metadata": {
    "collapsed": true
   },
   "outputs": [],
   "source": [
    "#Creating dummy variable for lots (i.e. more than 1 coin for sale)\n",
    "df['is_a_lot'] = df['emperor_in_title'].apply(lambda x: 1 if x == 'LOT' else 0)"
   ]
  },
  {
   "cell_type": "code",
   "execution_count": 271,
   "metadata": {
    "collapsed": true
   },
   "outputs": [],
   "source": [
    "#uncleaned is a common indicator of low quality, creating dummy\n",
    "\n",
    "uncleaned = []\n",
    "for val in df['URLTitle']:\n",
    "    has = re.search('uncleaned', val)\n",
    "    if has:\n",
    "        uncleaned.append(1)\n",
    "    else:\n",
    "        uncleaned.append(0)\n",
    "\n",
    "df['uncleaned'] = uncleaned"
   ]
  },
  {
   "cell_type": "code",
   "execution_count": 272,
   "metadata": {
    "collapsed": true
   },
   "outputs": [],
   "source": [
    "#Creating total sale time feature, putting it into days\n",
    "df['total_sale_time'] = df['endTime'] - df['startTime']\n",
    "df['total_sale_time'] = df.total_sale_time.dt.days\n",
    "\n",
    "#dropping lots that have negative total time values (likely put up and immediately \n",
    "#taken down)\n",
    "df = df.drop(list(df.loc[df['total_sale_time'] < 0].index), axis=0)\n",
    "\n",
    "\n",
    "#Creating categorical bins for duration\n",
    "df['total_sale_time'] = pd.cut(df['total_sale_time'], \n",
    "           [0, 7, 30, 365, df['total_sale_time'].max()], \n",
    "          labels=['Less_than_week', 'Less_than_month', 'less_than_year', 'more_than_year'])\n",
    "\n",
    "df = pd.concat([df, pd.get_dummies(df['total_sale_time']).drop('less_than_year', \n",
    "                                                               axis=1)], axis=1 )\n",
    "df = df.drop('total_sale_time', axis=1)"
   ]
  },
  {
   "cell_type": "code",
   "execution_count": 273,
   "metadata": {
    "collapsed": true
   },
   "outputs": [],
   "source": [
    "#Queens (zip: 11374) seems to house a professional high-volume seller, creating dummy\n",
    "#41% of volume eminates from this zip\n",
    "df['Queens_seller'] = df['postalCode'].apply(lambda x: 1 if x == '11374' else 0)"
   ]
  },
  {
   "cell_type": "code",
   "execution_count": 274,
   "metadata": {
    "collapsed": true
   },
   "outputs": [],
   "source": [
    "#creating dummies based on 'quality' indications in the title\n",
    "def low_quality(title):\n",
    "    word = re.findall(r'low|lower', title)\n",
    "    if word:\n",
    "        return 1\n",
    "    else:\n",
    "        return 0\n",
    "\n",
    "def high_quality(title):\n",
    "    word = re.findall(r'high|higher|premium|rare', title)\n",
    "    if word:\n",
    "        return 1\n",
    "    else:\n",
    "        return 0\n",
    "    \n",
    "df['high_quality_words'] = df['URLTitle'].apply(high_quality)\n",
    "df['low_quality_words'] = df['URLTitle'].apply(low_quality)"
   ]
  },
  {
   "cell_type": "code",
   "execution_count": 275,
   "metadata": {},
   "outputs": [],
   "source": [
    "#turning shipping type into dummy variables\n",
    "df = pd.concat([df, pd.get_dummies(df['shippingType'])], axis=1)\n"
   ]
  },
  {
   "cell_type": "code",
   "execution_count": 276,
   "metadata": {
    "collapsed": true
   },
   "outputs": [],
   "source": [
    "#getting listing type dummies, \n",
    "df = pd.concat([df, pd.get_dummies(df['listingType'])], axis=1)\n",
    "\n",
    "#dropping start/endTime\n",
    "df = df.drop(['endTime', 'startTime'], axis=1)\n",
    "\n",
    "#dropping categoryId\n",
    "df = df.drop('categoryId', axis=1)"
   ]
  },
  {
   "cell_type": "code",
   "execution_count": 277,
   "metadata": {
    "collapsed": true
   },
   "outputs": [],
   "source": [
    "#creating two more dummies for coin metals before dropping\n",
    "df['bronze'] = df['coin_metal'].apply(lambda x: 1 if x == 'bronze' else 0)\n",
    "df['copper'] = df['coin_metal'].apply(lambda x: 1 if x == 'copper' else 0)\n",
    "df = df.drop('coin_metal', axis=1)"
   ]
  },
  {
   "cell_type": "code",
   "execution_count": 278,
   "metadata": {
    "collapsed": true
   },
   "outputs": [],
   "source": [
    "#filling NaNs with zeros for numeric cats\n",
    "df['bidCount'] = df['bidCount'].fillna(0)\n",
    "df['watchCount'] = df['watchCount'].fillna(0)"
   ]
  },
  {
   "cell_type": "code",
   "execution_count": 279,
   "metadata": {
    "collapsed": true
   },
   "outputs": [],
   "source": [
    "#adding the emperor dummy variables and concatting to main df\n",
    "df = pd.concat([df, pd.get_dummies(df['emp_prep_dummies']).drop(\n",
    "    'unknown', axis=1)], axis=1)\n",
    "\n",
    "df = df.drop('emp_prep_dummies', axis=1)\n",
    "df = df.drop('emperor_in_title', axis=1)"
   ]
  },
  {
   "cell_type": "code",
   "execution_count": null,
   "metadata": {
    "collapsed": true
   },
   "outputs": [],
   "source": [
    "#saving data to refit model later\n",
    "file_name = './old cleaned:used datasets /to_fit_to_model_later_' + re.sub('-', '_', str(datetime.datetime.now())[5:10])\n",
    "df.to_csv(file_name)"
   ]
  },
  {
   "cell_type": "code",
   "execution_count": 280,
   "metadata": {
    "collapsed": true
   },
   "outputs": [],
   "source": [
    "#Columns from the model\n",
    "model_cols= ['autoPay', 'current_price', 'bestOfferEnabled', 'bidCount', 'buyItNowAvailable',\n",
    "       'expeditedShipping', 'handlingTime', 'paymentMethod',\n",
    "       'returnsNotAccepted', 'topRatedListing', 'watchCount',\n",
    "       'less_than_6hours_left', 'less_than_day_left', 'seller_in_us', 'gold',\n",
    "       'silver', 'is_a_lot', 'uncleaned', 'Less_than_week', 'Less_than_month',\n",
    "       'more_than_year', 'Queens_seller', 'high_quality_words',\n",
    "       'low_quality_words', 'Calculated', 'Flat', 'Free', 'Auction',\n",
    "       'FixedPrice', 'bronze', 'copper', 'arcadius', 'augustus', 'caligula',\n",
    "       'caracalla', 'commodus', 'constantine i ', 'constantine ii ',\n",
    "       'constantius i', 'diocletian', 'domitian', 'elagabalus', 'florian',\n",
    "       'galerius', 'gallus', 'gratian', 'hadrian', 'honorius', 'hostilian',\n",
    "       'julian', 'lucius verus', 'macrinus', 'magnus maximus', 'marcian',\n",
    "       'marcus aurelius', 'maximian', 'maximinus', 'multiple_emps_in_title',\n",
    "       'nero', 'nerva', 'otho', 'philip', 'probus', 'quintillus',\n",
    "       'septimius severus', 'severus alexander', 'tiberius', 'titus', 'trajan',\n",
    "       'valens', 'valentinian i', 'vespasian', 'zeno']"
   ]
  },
  {
   "cell_type": "code",
   "execution_count": 281,
   "metadata": {
    "collapsed": true
   },
   "outputs": [],
   "source": [
    "#dropping outliers and coins priced below 3 dollars\n",
    "df = df.drop(list(df.loc[(df['current_price'] < 3)| \n",
    "                          (df['current_price']> 1000)].index), axis=0).reset_index(drop=True)\n"
   ]
  },
  {
   "cell_type": "code",
   "execution_count": 282,
   "metadata": {},
   "outputs": [],
   "source": [
    "#saving useful columns for later\n",
    "add_later = df[['URLTitle', 'itemId', 'viewItemURL', 'current_price']]\n",
    "df = df.drop(['URLTitle', 'itemId', 'viewItemURL'], axis=1)\n",
    "\n",
    "#dropping columns not present in model\n",
    "for col in df.columns:\n",
    "    if col not in model_cols:\n",
    "        df.drop(col, axis=1, inplace=True)"
   ]
  },
  {
   "cell_type": "code",
   "execution_count": 284,
   "metadata": {
    "collapsed": true
   },
   "outputs": [],
   "source": [
    "#dropping additional columns found not to be useful\n",
    "y = df['current_price'].values"
   ]
  },
  {
   "cell_type": "code",
   "execution_count": 231,
   "metadata": {},
   "outputs": [],
   "source": [
    "#Introducing the model\n",
    "with open('final_model.pickle', 'rb') as file_handle:\n",
    "         random_forest = pickle.load(file_handle)"
   ]
  },
  {
   "cell_type": "code",
   "execution_count": 285,
   "metadata": {},
   "outputs": [
    {
     "name": "stdout",
     "output_type": "stream",
     "text": [
      "This column was not present in the dataset, filling with 0: marcian\n",
      "This column was not present in the dataset, filling with 0: otho\n"
     ]
    }
   ],
   "source": [
    "#infrequently an Emperor is not present in sample, need to add 0 values for these. \n",
    "missing_cols = []\n",
    "for val in model_cols:\n",
    "    if val not in df.columns:\n",
    "        print(\"This column was not present in the dataset, filling with 0:\", val)\n",
    "        missing_cols.append(val)\n",
    "        \n",
    "if missing_cols:\n",
    "    for val in missing_cols:\n",
    "        df[val] = 0"
   ]
  },
  {
   "cell_type": "code",
   "execution_count": 287,
   "metadata": {
    "collapsed": true
   },
   "outputs": [],
   "source": [
    "X = df.drop('current_price', axis=1)"
   ]
  },
  {
   "cell_type": "code",
   "execution_count": 288,
   "metadata": {
    "scrolled": true
   },
   "outputs": [],
   "source": [
    "predictions = random_forest.predict(X)"
   ]
  },
  {
   "cell_type": "code",
   "execution_count": 292,
   "metadata": {},
   "outputs": [],
   "source": [
    "add_later['predictions'] = np.exp(predictions)"
   ]
  },
  {
   "cell_type": "code",
   "execution_count": 306,
   "metadata": {},
   "outputs": [
    {
     "name": "stderr",
     "output_type": "stream",
     "text": [
      "/Users/slevin886/anaconda2/envs/python3/lib/python3.6/site-packages/ipykernel_launcher.py:1: SettingWithCopyWarning: \n",
      "A value is trying to be set on a copy of a slice from a DataFrame.\n",
      "Try using .loc[row_indexer,col_indexer] = value instead\n",
      "\n",
      "See the caveats in the documentation: http://pandas.pydata.org/pandas-docs/stable/indexing.html#indexing-view-versus-copy\n",
      "  \"\"\"Entry point for launching an IPython kernel.\n"
     ]
    }
   ],
   "source": [
    "add_later['difference'] = add_later['predictions'] - add_later['current_price']"
   ]
  },
  {
   "cell_type": "code",
   "execution_count": 304,
   "metadata": {},
   "outputs": [
    {
     "name": "stdout",
     "output_type": "stream",
     "text": [
      "What is your maximum spending amount? (give as integer USD)95\n"
     ]
    }
   ],
   "source": [
    "budget = int(input('What is your maximum spending amount? (give as integer USD)'))\n",
    "add_later = add_later.loc[add_later['current_price'] < budget]"
   ]
  },
  {
   "cell_type": "code",
   "execution_count": 330,
   "metadata": {},
   "outputs": [],
   "source": [
    "#5 largest deviations to send\n",
    "TEXT = ''\n",
    "\n",
    "for val in add_later.sort_values(by='difference', ascending=False)['viewItemURL'].head().values:\n",
    "    TEXT += val + '\\n' +'\\n'\n",
    "    \n",
    "SUBJECT = 'Roman Coins below normal price'\n",
    "message = 'Subject: {}\\n\\n{}'.format(SUBJECT, TEXT)"
   ]
  },
  {
   "cell_type": "code",
   "execution_count": 332,
   "metadata": {},
   "outputs": [
    {
     "name": "stdout",
     "output_type": "stream",
     "text": [
      "What email address would you like to recieve the coins at?slevin886@gmail.com\n"
     ]
    },
    {
     "data": {
      "text/plain": [
       "(221, b'Service Closing transmission')"
      ]
     },
     "execution_count": 332,
     "metadata": {},
     "output_type": "execute_result"
    }
   ],
   "source": [
    "server = smtplib.SMTP('smtp.mail.yahoo.com', 587)\n",
    "server.starttls()\n",
    "server.login('roman_coins_swl@yahoo.com', pw)\n",
    " \n",
    "email_to_send = input('What email address would you like to recieve the coins at?')    \n",
    "    \n",
    "server.sendmail('roman_coins_swl@yahoo.com', email_to_send, message)\n",
    "server.quit()"
   ]
  }
 ],
 "metadata": {
  "kernelspec": {
   "display_name": "Python 3",
   "language": "python",
   "name": "python3"
  },
  "language_info": {
   "codemirror_mode": {
    "name": "ipython",
    "version": 3
   },
   "file_extension": ".py",
   "mimetype": "text/x-python",
   "name": "python",
   "nbconvert_exporter": "python",
   "pygments_lexer": "ipython3",
   "version": "3.6.4"
  }
 },
 "nbformat": 4,
 "nbformat_minor": 2
}
