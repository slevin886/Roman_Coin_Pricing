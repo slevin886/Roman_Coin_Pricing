{
 "cells": [
  {
   "cell_type": "markdown",
   "metadata": {},
   "source": [
    "### This script scrapes a user-determined number of pages from ebay,\n",
    "### uses previously collected data to predict price and emails the user a list of coin URLs \n",
    "### if any coin is currently priced more than a user-determined # of \n",
    "### standard deviations below predicted price."
   ]
  },
  {
   "cell_type": "code",
   "execution_count": 99,
   "metadata": {
    "collapsed": true
   },
   "outputs": [],
   "source": [
    "import datetime\n",
    "from ebaysdk.finding import Connection as Finding\n",
    "from ebaysdk.exception import ConnectionError\n",
    "from tqdm import tqdm \n",
    "import numpy as np\n",
    "import pandas as pd\n",
    "import requests\n",
    "import re\n",
    "import smtplib\n",
    "import pickle"
   ]
  },
  {
   "cell_type": "code",
   "execution_count": 100,
   "metadata": {},
   "outputs": [
    {
     "name": "stdout",
     "output_type": "stream",
     "text": [
      "How many pages would you like to scrape? Enter an integer between 1 and 100: 2\n"
     ]
    },
    {
     "name": "stderr",
     "output_type": "stream",
     "text": [
      "100%|██████████| 1/1 [00:01<00:00,  1.15s/it]\n"
     ]
    }
   ],
   "source": [
    "#must be executed from same directory where ebay.yaml file is located for config_file (or change path)\n",
    "\n",
    "solutions = []\n",
    "\n",
    "num_pages = input('How many pages would you like to scrape? Enter an integer between 1 and 100: ')\n",
    "\n",
    "for page in tqdm(range(1, int(num_pages))):\n",
    "    try:\n",
    "        api = Finding(config_file='./ebay.yaml')\n",
    "        response = api.execute('findItemsAdvanced', {'keywords': 'Roman Coin',\n",
    "                                 'paginationInput': {'pageNumber': page}})\n",
    "        coin = response.dict()\n",
    "        solutions.append(coin)\n",
    "\n",
    "    except ConnectionError as e:\n",
    "        print(e)"
   ]
  },
  {
   "cell_type": "code",
   "execution_count": 101,
   "metadata": {
    "collapsed": true
   },
   "outputs": [],
   "source": [
    "df = pd.DataFrame(solutions)\n",
    "\n",
    "new = []\n",
    "for item in df['searchResult']:\n",
    "    new.append(item)\n",
    "\n",
    "df2 = pd.DataFrame(new)"
   ]
  },
  {
   "cell_type": "code",
   "execution_count": 102,
   "metadata": {
    "collapsed": true
   },
   "outputs": [],
   "source": [
    "coins = []\n",
    "for item in df2['item']:\n",
    "    for listing in item:\n",
    "        coins.append(listing)\n",
    "\n",
    "roman = pd.DataFrame(coins)"
   ]
  },
  {
   "cell_type": "code",
   "execution_count": 103,
   "metadata": {
    "collapsed": true
   },
   "outputs": [],
   "source": [
    "primary_cat = []\n",
    "for val in roman['primaryCategory']:\n",
    "    primary_cat.append(val)\n",
    "    \n",
    "primary = pd.DataFrame(primary_cat)"
   ]
  },
  {
   "cell_type": "code",
   "execution_count": 104,
   "metadata": {
    "collapsed": true
   },
   "outputs": [],
   "source": [
    "prices = []\n",
    "\n",
    "for price in roman['sellingStatus']:\n",
    "    prices.append(price)\n",
    "    \n",
    "price_df = pd.DataFrame(prices)\n",
    "price_df['currencyid_conv'] = [val['_currencyId'] for \n",
    "                               val in price_df['convertedCurrentPrice']]\n",
    "\n",
    "price_df['value_conv'] = [val['value'] for \n",
    "                               val in price_df['convertedCurrentPrice']]\n",
    "\n",
    "price_df['current_price'] = [val['value'] for \n",
    "                               val in price_df['currentPrice']]\n",
    "\n",
    "price_df['current_currency'] = [val['_currencyId'] for \n",
    "                               val in price_df['currentPrice']]"
   ]
  },
  {
   "cell_type": "code",
   "execution_count": 105,
   "metadata": {
    "collapsed": true
   },
   "outputs": [],
   "source": [
    "price_df = price_df.drop(['convertedCurrentPrice', 'currentPrice'], axis=1)"
   ]
  },
  {
   "cell_type": "code",
   "execution_count": 106,
   "metadata": {
    "collapsed": true
   },
   "outputs": [],
   "source": [
    "roman_coins = pd.concat([roman, primary, price_df], axis=1)"
   ]
  },
  {
   "cell_type": "code",
   "execution_count": 107,
   "metadata": {
    "collapsed": true
   },
   "outputs": [],
   "source": [
    "#saving the raw data\n",
    "file_name = './old cleaned:used datasets /uncleaned_data_' + re.sub('-', '_', str(datetime.datetime.now())[5:10])\n",
    "roman_coins.to_csv(file_name)"
   ]
  },
  {
   "cell_type": "code",
   "execution_count": 108,
   "metadata": {
    "collapsed": true
   },
   "outputs": [],
   "source": [
    "roman_coins = pd.read_csv(file_name, index_col=0)"
   ]
  },
  {
   "cell_type": "code",
   "execution_count": 110,
   "metadata": {
    "collapsed": true
   },
   "outputs": [],
   "source": [
    "#Only 10 observations have a conditionId \n",
    "try:\n",
    "    roman_coins = roman_coins.drop('condition', axis=1)\n",
    "except:\n",
    "    pass\n",
    "#only one value here\n",
    "try:\n",
    "    roman_coins = roman_coins.drop('discountPriceInfo', axis=1)\n",
    "except:\n",
    "    pass\n",
    "#I already scraped photos and this column is incomplete anyways\n",
    "roman_coins = roman_coins.drop('galleryPlusPictureURL', axis=1)\n",
    "roman_coins = roman_coins.drop('galleryURL', axis=1)\n",
    "#overwhelmingly ebay US (only interested in US anyways)\n",
    "roman_coins = roman_coins.drop('globalId', axis=1)\n",
    "#all false\n",
    "roman_coins = roman_coins.drop('isMultiVariationListing', axis=1)"
   ]
  },
  {
   "cell_type": "code",
   "execution_count": 111,
   "metadata": {
    "collapsed": true
   },
   "outputs": [],
   "source": [
    "#listingInfo has lots of useful information and I want to add these variables separately\n",
    "listings = roman_coins['listingInfo'].map(eval).apply(pd.Series)\n",
    "#merging the new columns onto the dataframe\n",
    "roman_coins = pd.concat([roman_coins, listings], axis=1)\n",
    "#listings column now redundant\n",
    "roman_coins = roman_coins.drop('listingInfo', axis=1)"
   ]
  },
  {
   "cell_type": "code",
   "execution_count": 112,
   "metadata": {
    "collapsed": true
   },
   "outputs": [],
   "source": [
    "roman_coins['paymentMethod'] = [0 if x == 'PayPal' else 1 for \n",
    "                                x  in roman_coins['paymentMethod']]"
   ]
  },
  {
   "cell_type": "code",
   "execution_count": 113,
   "metadata": {
    "collapsed": true
   },
   "outputs": [],
   "source": [
    "roman_coins['returnsNotAccepted'] = roman_coins['returnsAccepted'].astype(int) * -1 + 1\n",
    "\n",
    "roman_coins = roman_coins.drop(['returnsAccepted','secondaryCategory'], axis=1)"
   ]
  },
  {
   "cell_type": "code",
   "execution_count": 114,
   "metadata": {
    "collapsed": true
   },
   "outputs": [],
   "source": [
    "shipping = roman_coins['shippingInfo'].map(eval).apply(pd.Series)"
   ]
  },
  {
   "cell_type": "code",
   "execution_count": 115,
   "metadata": {
    "collapsed": true
   },
   "outputs": [],
   "source": [
    "ship_cost_dicts = []\n",
    "shipping_currency = []\n",
    "\n",
    "for val in shipping['shippingServiceCost']:\n",
    "    try:\n",
    "        currency = val['_currencyId']\n",
    "        cost = val['value']\n",
    "        ship_cost_dicts.append(cost)\n",
    "        shipping_currency.append(currency)\n",
    "    \n",
    "    except:\n",
    "        \n",
    "        ship_cost_dicts.append(np.nan)\n",
    "        shipping_currency.append(np.nan)\n",
    "\n",
    "shipping['shipping_cost'] = ship_cost_dicts\n",
    "shipping['shipping_cost_currency'] = shipping_currency\n",
    "\n",
    "shipping = shipping.drop('shippingServiceCost', axis=1)\n",
    "\n",
    "shipping['handlingTime'] = shipping['handlingTime'].astype(float)\n",
    "shipping['handlingTime'] = shipping['handlingTime'].fillna(\n",
    "                                    shipping['handlingTime'].mean())\n",
    "\n",
    "mapper = {'false' : 0, 'true': 1}\n",
    "shipping['expeditedShipping'] = shipping['expeditedShipping'].map(mapper)\n",
    "\n",
    "\n",
    "shipping = shipping.drop(['oneDayShippingAvailable', 'shipToLocations',\n",
    "                         'shipping_cost_currency'], axis=1)\n",
    "\n"
   ]
  },
  {
   "cell_type": "code",
   "execution_count": 116,
   "metadata": {
    "collapsed": true
   },
   "outputs": [],
   "source": [
    "roman_coins = pd.concat([roman_coins, shipping], axis=1)\n",
    "\n",
    "roman_coins = roman_coins.drop('shippingInfo', axis=1)"
   ]
  },
  {
   "cell_type": "code",
   "execution_count": 117,
   "metadata": {
    "collapsed": true
   },
   "outputs": [],
   "source": [
    "roman_coins = roman_coins.drop('subtitle', axis=1)\n",
    "\n",
    "roman_coins['topRatedListing'] = roman_coins['topRatedListing'].astype(int)\n",
    "\n",
    "roman_coins['URLTitle'] = [val[24:-13] for val in roman_coins['viewItemURL']]\n",
    "\n",
    "roman_coins = roman_coins.drop(['categoryName','gift','sellingState'], axis=1)\n",
    "\n",
    "\n",
    "roman_coins['autoPay'] = roman_coins['autoPay'].astype(int)\n",
    "\n",
    "roman_coins['categoryId'] = roman_coins['categoryId'].astype(object)"
   ]
  },
  {
   "cell_type": "code",
   "execution_count": 118,
   "metadata": {
    "collapsed": true
   },
   "outputs": [],
   "source": [
    "roman_coins['startTime'] = pd.to_datetime(roman_coins['startTime'])\n",
    "roman_coins['endTime'] = pd.to_datetime(roman_coins['endTime'])"
   ]
  },
  {
   "cell_type": "code",
   "execution_count": 119,
   "metadata": {
    "collapsed": true
   },
   "outputs": [],
   "source": [
    "times = []\n",
    "try:\n",
    "    for val in roman_coins['timeLeft']:\n",
    "        x = re.sub(r'[HM]+', ':', val)\n",
    "        time = re.sub(r'[SPT]', '', x)\n",
    "        new_time = pd.Timedelta(time)\n",
    "        times.append(new_time)\n",
    "except KeyError:\n",
    "    print('You are running completed sales, this step unnecessary')\n",
    "\n",
    "roman_coins['timeLeft'] = times"
   ]
  },
  {
   "cell_type": "code",
   "execution_count": 120,
   "metadata": {
    "collapsed": true
   },
   "outputs": [],
   "source": [
    "roman_coins['watchCount'] = roman_coins['watchCount'].astype(float)\n",
    "roman_coins['shipping_cost'] = roman_coins['shipping_cost'].astype(float)"
   ]
  },
  {
   "cell_type": "code",
   "execution_count": 121,
   "metadata": {},
   "outputs": [
    {
     "ename": "KeyError",
     "evalue": "'buyItNowPrice'",
     "output_type": "error",
     "traceback": [
      "\u001b[0;31m---------------------------------------------------------------------------\u001b[0m",
      "\u001b[0;31mKeyError\u001b[0m                                  Traceback (most recent call last)",
      "\u001b[0;32m~/anaconda2/envs/python3/lib/python3.6/site-packages/pandas/core/indexes/base.py\u001b[0m in \u001b[0;36mget_loc\u001b[0;34m(self, key, method, tolerance)\u001b[0m\n\u001b[1;32m   2524\u001b[0m             \u001b[0;32mtry\u001b[0m\u001b[0;34m:\u001b[0m\u001b[0;34m\u001b[0m\u001b[0m\n\u001b[0;32m-> 2525\u001b[0;31m                 \u001b[0;32mreturn\u001b[0m \u001b[0mself\u001b[0m\u001b[0;34m.\u001b[0m\u001b[0m_engine\u001b[0m\u001b[0;34m.\u001b[0m\u001b[0mget_loc\u001b[0m\u001b[0;34m(\u001b[0m\u001b[0mkey\u001b[0m\u001b[0;34m)\u001b[0m\u001b[0;34m\u001b[0m\u001b[0m\n\u001b[0m\u001b[1;32m   2526\u001b[0m             \u001b[0;32mexcept\u001b[0m \u001b[0mKeyError\u001b[0m\u001b[0;34m:\u001b[0m\u001b[0;34m\u001b[0m\u001b[0m\n",
      "\u001b[0;32mpandas/_libs/index.pyx\u001b[0m in \u001b[0;36mpandas._libs.index.IndexEngine.get_loc\u001b[0;34m()\u001b[0m\n",
      "\u001b[0;32mpandas/_libs/index.pyx\u001b[0m in \u001b[0;36mpandas._libs.index.IndexEngine.get_loc\u001b[0;34m()\u001b[0m\n",
      "\u001b[0;32mpandas/_libs/hashtable_class_helper.pxi\u001b[0m in \u001b[0;36mpandas._libs.hashtable.PyObjectHashTable.get_item\u001b[0;34m()\u001b[0m\n",
      "\u001b[0;32mpandas/_libs/hashtable_class_helper.pxi\u001b[0m in \u001b[0;36mpandas._libs.hashtable.PyObjectHashTable.get_item\u001b[0;34m()\u001b[0m\n",
      "\u001b[0;31mKeyError\u001b[0m: 'buyItNowPrice'",
      "\nDuring handling of the above exception, another exception occurred:\n",
      "\u001b[0;31mKeyError\u001b[0m                                  Traceback (most recent call last)",
      "\u001b[0;32m<ipython-input-121-a8f0c7f50a2f>\u001b[0m in \u001b[0;36m<module>\u001b[0;34m()\u001b[0m\n\u001b[1;32m      1\u001b[0m \u001b[0mbuyitnow\u001b[0m \u001b[0;34m=\u001b[0m \u001b[0;34m[\u001b[0m\u001b[0;34m]\u001b[0m\u001b[0;34m\u001b[0m\u001b[0m\n\u001b[0;32m----> 2\u001b[0;31m \u001b[0;32mfor\u001b[0m \u001b[0mval\u001b[0m \u001b[0;32min\u001b[0m \u001b[0mroman_coins\u001b[0m\u001b[0;34m[\u001b[0m\u001b[0;34m'buyItNowPrice'\u001b[0m\u001b[0;34m]\u001b[0m\u001b[0;34m:\u001b[0m\u001b[0;34m\u001b[0m\u001b[0m\n\u001b[0m\u001b[1;32m      3\u001b[0m     \u001b[0;32mtry\u001b[0m\u001b[0;34m:\u001b[0m\u001b[0;34m\u001b[0m\u001b[0m\n\u001b[1;32m      4\u001b[0m         \u001b[0mprice\u001b[0m \u001b[0;34m=\u001b[0m \u001b[0mval\u001b[0m\u001b[0;34m[\u001b[0m\u001b[0;34m'value'\u001b[0m\u001b[0;34m]\u001b[0m\u001b[0;34m\u001b[0m\u001b[0m\n\u001b[1;32m      5\u001b[0m         \u001b[0mbuyitnow\u001b[0m\u001b[0;34m.\u001b[0m\u001b[0mappend\u001b[0m\u001b[0;34m(\u001b[0m\u001b[0mprice\u001b[0m\u001b[0;34m)\u001b[0m\u001b[0;34m\u001b[0m\u001b[0m\n",
      "\u001b[0;32m~/anaconda2/envs/python3/lib/python3.6/site-packages/pandas/core/frame.py\u001b[0m in \u001b[0;36m__getitem__\u001b[0;34m(self, key)\u001b[0m\n\u001b[1;32m   2137\u001b[0m             \u001b[0;32mreturn\u001b[0m \u001b[0mself\u001b[0m\u001b[0;34m.\u001b[0m\u001b[0m_getitem_multilevel\u001b[0m\u001b[0;34m(\u001b[0m\u001b[0mkey\u001b[0m\u001b[0;34m)\u001b[0m\u001b[0;34m\u001b[0m\u001b[0m\n\u001b[1;32m   2138\u001b[0m         \u001b[0;32melse\u001b[0m\u001b[0;34m:\u001b[0m\u001b[0;34m\u001b[0m\u001b[0m\n\u001b[0;32m-> 2139\u001b[0;31m             \u001b[0;32mreturn\u001b[0m \u001b[0mself\u001b[0m\u001b[0;34m.\u001b[0m\u001b[0m_getitem_column\u001b[0m\u001b[0;34m(\u001b[0m\u001b[0mkey\u001b[0m\u001b[0;34m)\u001b[0m\u001b[0;34m\u001b[0m\u001b[0m\n\u001b[0m\u001b[1;32m   2140\u001b[0m \u001b[0;34m\u001b[0m\u001b[0m\n\u001b[1;32m   2141\u001b[0m     \u001b[0;32mdef\u001b[0m \u001b[0m_getitem_column\u001b[0m\u001b[0;34m(\u001b[0m\u001b[0mself\u001b[0m\u001b[0;34m,\u001b[0m \u001b[0mkey\u001b[0m\u001b[0;34m)\u001b[0m\u001b[0;34m:\u001b[0m\u001b[0;34m\u001b[0m\u001b[0m\n",
      "\u001b[0;32m~/anaconda2/envs/python3/lib/python3.6/site-packages/pandas/core/frame.py\u001b[0m in \u001b[0;36m_getitem_column\u001b[0;34m(self, key)\u001b[0m\n\u001b[1;32m   2144\u001b[0m         \u001b[0;31m# get column\u001b[0m\u001b[0;34m\u001b[0m\u001b[0;34m\u001b[0m\u001b[0m\n\u001b[1;32m   2145\u001b[0m         \u001b[0;32mif\u001b[0m \u001b[0mself\u001b[0m\u001b[0;34m.\u001b[0m\u001b[0mcolumns\u001b[0m\u001b[0;34m.\u001b[0m\u001b[0mis_unique\u001b[0m\u001b[0;34m:\u001b[0m\u001b[0;34m\u001b[0m\u001b[0m\n\u001b[0;32m-> 2146\u001b[0;31m             \u001b[0;32mreturn\u001b[0m \u001b[0mself\u001b[0m\u001b[0;34m.\u001b[0m\u001b[0m_get_item_cache\u001b[0m\u001b[0;34m(\u001b[0m\u001b[0mkey\u001b[0m\u001b[0;34m)\u001b[0m\u001b[0;34m\u001b[0m\u001b[0m\n\u001b[0m\u001b[1;32m   2147\u001b[0m \u001b[0;34m\u001b[0m\u001b[0m\n\u001b[1;32m   2148\u001b[0m         \u001b[0;31m# duplicate columns & possible reduce dimensionality\u001b[0m\u001b[0;34m\u001b[0m\u001b[0;34m\u001b[0m\u001b[0m\n",
      "\u001b[0;32m~/anaconda2/envs/python3/lib/python3.6/site-packages/pandas/core/generic.py\u001b[0m in \u001b[0;36m_get_item_cache\u001b[0;34m(self, item)\u001b[0m\n\u001b[1;32m   1840\u001b[0m         \u001b[0mres\u001b[0m \u001b[0;34m=\u001b[0m \u001b[0mcache\u001b[0m\u001b[0;34m.\u001b[0m\u001b[0mget\u001b[0m\u001b[0;34m(\u001b[0m\u001b[0mitem\u001b[0m\u001b[0;34m)\u001b[0m\u001b[0;34m\u001b[0m\u001b[0m\n\u001b[1;32m   1841\u001b[0m         \u001b[0;32mif\u001b[0m \u001b[0mres\u001b[0m \u001b[0;32mis\u001b[0m \u001b[0;32mNone\u001b[0m\u001b[0;34m:\u001b[0m\u001b[0;34m\u001b[0m\u001b[0m\n\u001b[0;32m-> 1842\u001b[0;31m             \u001b[0mvalues\u001b[0m \u001b[0;34m=\u001b[0m \u001b[0mself\u001b[0m\u001b[0;34m.\u001b[0m\u001b[0m_data\u001b[0m\u001b[0;34m.\u001b[0m\u001b[0mget\u001b[0m\u001b[0;34m(\u001b[0m\u001b[0mitem\u001b[0m\u001b[0;34m)\u001b[0m\u001b[0;34m\u001b[0m\u001b[0m\n\u001b[0m\u001b[1;32m   1843\u001b[0m             \u001b[0mres\u001b[0m \u001b[0;34m=\u001b[0m \u001b[0mself\u001b[0m\u001b[0;34m.\u001b[0m\u001b[0m_box_item_values\u001b[0m\u001b[0;34m(\u001b[0m\u001b[0mitem\u001b[0m\u001b[0;34m,\u001b[0m \u001b[0mvalues\u001b[0m\u001b[0;34m)\u001b[0m\u001b[0;34m\u001b[0m\u001b[0m\n\u001b[1;32m   1844\u001b[0m             \u001b[0mcache\u001b[0m\u001b[0;34m[\u001b[0m\u001b[0mitem\u001b[0m\u001b[0;34m]\u001b[0m \u001b[0;34m=\u001b[0m \u001b[0mres\u001b[0m\u001b[0;34m\u001b[0m\u001b[0m\n",
      "\u001b[0;32m~/anaconda2/envs/python3/lib/python3.6/site-packages/pandas/core/internals.py\u001b[0m in \u001b[0;36mget\u001b[0;34m(self, item, fastpath)\u001b[0m\n\u001b[1;32m   3841\u001b[0m \u001b[0;34m\u001b[0m\u001b[0m\n\u001b[1;32m   3842\u001b[0m             \u001b[0;32mif\u001b[0m \u001b[0;32mnot\u001b[0m \u001b[0misna\u001b[0m\u001b[0;34m(\u001b[0m\u001b[0mitem\u001b[0m\u001b[0;34m)\u001b[0m\u001b[0;34m:\u001b[0m\u001b[0;34m\u001b[0m\u001b[0m\n\u001b[0;32m-> 3843\u001b[0;31m                 \u001b[0mloc\u001b[0m \u001b[0;34m=\u001b[0m \u001b[0mself\u001b[0m\u001b[0;34m.\u001b[0m\u001b[0mitems\u001b[0m\u001b[0;34m.\u001b[0m\u001b[0mget_loc\u001b[0m\u001b[0;34m(\u001b[0m\u001b[0mitem\u001b[0m\u001b[0;34m)\u001b[0m\u001b[0;34m\u001b[0m\u001b[0m\n\u001b[0m\u001b[1;32m   3844\u001b[0m             \u001b[0;32melse\u001b[0m\u001b[0;34m:\u001b[0m\u001b[0;34m\u001b[0m\u001b[0m\n\u001b[1;32m   3845\u001b[0m                 \u001b[0mindexer\u001b[0m \u001b[0;34m=\u001b[0m \u001b[0mnp\u001b[0m\u001b[0;34m.\u001b[0m\u001b[0marange\u001b[0m\u001b[0;34m(\u001b[0m\u001b[0mlen\u001b[0m\u001b[0;34m(\u001b[0m\u001b[0mself\u001b[0m\u001b[0;34m.\u001b[0m\u001b[0mitems\u001b[0m\u001b[0;34m)\u001b[0m\u001b[0;34m)\u001b[0m\u001b[0;34m[\u001b[0m\u001b[0misna\u001b[0m\u001b[0;34m(\u001b[0m\u001b[0mself\u001b[0m\u001b[0;34m.\u001b[0m\u001b[0mitems\u001b[0m\u001b[0;34m)\u001b[0m\u001b[0;34m]\u001b[0m\u001b[0;34m\u001b[0m\u001b[0m\n",
      "\u001b[0;32m~/anaconda2/envs/python3/lib/python3.6/site-packages/pandas/core/indexes/base.py\u001b[0m in \u001b[0;36mget_loc\u001b[0;34m(self, key, method, tolerance)\u001b[0m\n\u001b[1;32m   2525\u001b[0m                 \u001b[0;32mreturn\u001b[0m \u001b[0mself\u001b[0m\u001b[0;34m.\u001b[0m\u001b[0m_engine\u001b[0m\u001b[0;34m.\u001b[0m\u001b[0mget_loc\u001b[0m\u001b[0;34m(\u001b[0m\u001b[0mkey\u001b[0m\u001b[0;34m)\u001b[0m\u001b[0;34m\u001b[0m\u001b[0m\n\u001b[1;32m   2526\u001b[0m             \u001b[0;32mexcept\u001b[0m \u001b[0mKeyError\u001b[0m\u001b[0;34m:\u001b[0m\u001b[0;34m\u001b[0m\u001b[0m\n\u001b[0;32m-> 2527\u001b[0;31m                 \u001b[0;32mreturn\u001b[0m \u001b[0mself\u001b[0m\u001b[0;34m.\u001b[0m\u001b[0m_engine\u001b[0m\u001b[0;34m.\u001b[0m\u001b[0mget_loc\u001b[0m\u001b[0;34m(\u001b[0m\u001b[0mself\u001b[0m\u001b[0;34m.\u001b[0m\u001b[0m_maybe_cast_indexer\u001b[0m\u001b[0;34m(\u001b[0m\u001b[0mkey\u001b[0m\u001b[0;34m)\u001b[0m\u001b[0;34m)\u001b[0m\u001b[0;34m\u001b[0m\u001b[0m\n\u001b[0m\u001b[1;32m   2528\u001b[0m \u001b[0;34m\u001b[0m\u001b[0m\n\u001b[1;32m   2529\u001b[0m         \u001b[0mindexer\u001b[0m \u001b[0;34m=\u001b[0m \u001b[0mself\u001b[0m\u001b[0;34m.\u001b[0m\u001b[0mget_indexer\u001b[0m\u001b[0;34m(\u001b[0m\u001b[0;34m[\u001b[0m\u001b[0mkey\u001b[0m\u001b[0;34m]\u001b[0m\u001b[0;34m,\u001b[0m \u001b[0mmethod\u001b[0m\u001b[0;34m=\u001b[0m\u001b[0mmethod\u001b[0m\u001b[0;34m,\u001b[0m \u001b[0mtolerance\u001b[0m\u001b[0;34m=\u001b[0m\u001b[0mtolerance\u001b[0m\u001b[0;34m)\u001b[0m\u001b[0;34m\u001b[0m\u001b[0m\n",
      "\u001b[0;32mpandas/_libs/index.pyx\u001b[0m in \u001b[0;36mpandas._libs.index.IndexEngine.get_loc\u001b[0;34m()\u001b[0m\n",
      "\u001b[0;32mpandas/_libs/index.pyx\u001b[0m in \u001b[0;36mpandas._libs.index.IndexEngine.get_loc\u001b[0;34m()\u001b[0m\n",
      "\u001b[0;32mpandas/_libs/hashtable_class_helper.pxi\u001b[0m in \u001b[0;36mpandas._libs.hashtable.PyObjectHashTable.get_item\u001b[0;34m()\u001b[0m\n",
      "\u001b[0;32mpandas/_libs/hashtable_class_helper.pxi\u001b[0m in \u001b[0;36mpandas._libs.hashtable.PyObjectHashTable.get_item\u001b[0;34m()\u001b[0m\n",
      "\u001b[0;31mKeyError\u001b[0m: 'buyItNowPrice'"
     ]
    }
   ],
   "source": [
    "buyitnow = []\n",
    "for val in roman_coins['buyItNowPrice']:\n",
    "    try:\n",
    "        price = val['value']\n",
    "        buyitnow.append(price)\n",
    "    except:\n",
    "        buyitnow.append(np.nan)\n",
    "\n",
    "\n",
    "roman_coins['buyItNowPrice'] = buyitnow\n",
    "roman_coins['buyItNowPrice'] = roman_coins['buyItNowPrice'].astype(float)\n",
    "\n",
    "roman_coins = roman_coins.drop('convertedBuyItNowPrice', axis=1)"
   ]
  },
  {
   "cell_type": "code",
   "execution_count": 74,
   "metadata": {
    "collapsed": true
   },
   "outputs": [],
   "source": [
    "mapper = {'false' : 0, 'true': 1}\n",
    "roman_coins['bestOfferEnabled'] = roman_coins['bestOfferEnabled'].map(mapper)\n",
    "roman_coins['buyItNowAvailable'] = roman_coins['buyItNowAvailable'].map(mapper)"
   ]
  },
  {
   "cell_type": "code",
   "execution_count": 75,
   "metadata": {
    "collapsed": true
   },
   "outputs": [],
   "source": [
    "roman_coins = roman_coins.drop(list(roman_coins[roman_coins.duplicated(\n",
    "                            subset='itemId', keep='first')].index), axis = 0)"
   ]
  },
  {
   "cell_type": "code",
   "execution_count": 76,
   "metadata": {
    "collapsed": true
   },
   "outputs": [],
   "source": [
    "df = roman_coins.copy()"
   ]
  },
  {
   "cell_type": "code",
   "execution_count": 77,
   "metadata": {
    "collapsed": true
   },
   "outputs": [],
   "source": [
    "#turning timeLeft into an float variable representing number of hours remaining\n",
    "df['timeLeft'] = df['timeLeft'] / pd.Timedelta(hours=1)\n",
    "\n",
    "\n",
    "#turning hours into categorical variables\n",
    "df['timeLeft'] = pd.cut(df['timeLeft'], \n",
    "               [0, 1, 6, 24, 48, 168, df['timeLeft'].max()], \n",
    "                labels=['less_than_hour_left', 'less_than_6hours_left', \n",
    "                  'less_than_day_left', 'less_than_2day_left', 'less_than_week_left',\n",
    "                  'more_than_week_left'])\n",
    "\n",
    "df['timeLeft'] = df['timeLeft'].astype(object).fillna('completed_no_time_left')\n",
    "\n",
    "df = pd.concat([df, pd.get_dummies(df['timeLeft']).drop('more_than_week_left', \n",
    "                                                        axis=1)], axis=1)\n",
    "df = df.drop('timeLeft', axis=1)"
   ]
  },
  {
   "cell_type": "code",
   "execution_count": 78,
   "metadata": {
    "collapsed": true
   },
   "outputs": [],
   "source": [
    "#dropping roman coin jewelry categories\n",
    "\n",
    "df = df.drop(list(df.loc[df['categoryId'] == 137843].index), axis=0)\n",
    "df = df.drop(list(df.loc[df['categoryId'] == 164343].index), axis=0)\n",
    "df = df.drop(list(df.loc[df['categoryId'] == 548].index), axis=0)\n",
    "df = df.drop(list(df.loc[df['categoryId'] == 164341].index), axis=0)\n",
    "df = df.drop(list(df.loc[df['categoryId'] == 45157].index), axis=0)\n",
    "df = df.drop(list(df.loc[df['categoryId'] == 29223].index), axis=0)\n",
    "df = df.drop(list(df.loc[df['categoryId'] == 13993].index), axis=0)\n",
    "\n",
    "#dropping additional categories likely not to be coins\n",
    "drop_cols = df['categoryId'].value_counts().reset_index()\n",
    "val_to_drop = list(drop_cols.loc[drop_cols['categoryId'] < 12]['index'])\n",
    "df = df.drop(df[df['categoryId'].isin(val_to_drop)].index, axis=0)"
   ]
  },
  {
   "cell_type": "code",
   "execution_count": 79,
   "metadata": {
    "collapsed": true
   },
   "outputs": [],
   "source": [
    "#dropping sales not in USD\n",
    "df = df.drop(list(df[df['current_currency'] != 'USD'].index), axis=0)\n",
    "df = df.drop('current_currency', axis=1)\n",
    "\n",
    "#all USD, dropping\n",
    "df = df.drop('currencyid_conv', axis=1)\n",
    "\n",
    "#dropping title, URLTitle slightly more effective, nearly identical \n",
    "df = df.drop('title', axis=1)\n",
    "\n",
    "#already have dummy variable\n",
    "df = df.drop('buyItNowPrice', axis=1)"
   ]
  },
  {
   "cell_type": "code",
   "execution_count": 80,
   "metadata": {
    "collapsed": true
   },
   "outputs": [],
   "source": [
    "df['seller_in_us'] = df['country'].apply(lambda x: 1 if x == 'US' else 0)\n",
    "df = df.drop('country', axis=1)"
   ]
  },
  {
   "cell_type": "code",
   "execution_count": 81,
   "metadata": {
    "collapsed": true
   },
   "outputs": [],
   "source": [
    "df['startTime'] = pd.to_datetime(df['startTime'])\n",
    "df['endTime'] = pd.to_datetime(df['endTime'])"
   ]
  },
  {
   "cell_type": "code",
   "execution_count": 82,
   "metadata": {
    "collapsed": true
   },
   "outputs": [],
   "source": [
    "df['shippingType'] = df['shippingType'].apply(lambda x: 'International' if x in ['CalculatedDomesticFlatInternational',\n",
    "                                                                                'FlatDomesticCalculatedInternational'] else x)"
   ]
  },
  {
   "cell_type": "code",
   "execution_count": 83,
   "metadata": {
    "collapsed": true
   },
   "outputs": [],
   "source": [
    "#pulling individual emperors from titles\n",
    "\n",
    "#splitting and rejoining URLtitles\n",
    "df['URLTitle'] = df['URLTitle'].str.split('-').apply(lambda x: \" \".join(x))\n",
    "df['URLTitle'] = df['URLTitle'].str.lower()\n",
    "\n",
    "roman_emperors = ['Augustus', 'Tiberius', 'Caligula', 'Claudius', 'Nero', 'Galba', 'Otho', 'Aulus Vitellius', 'Vespasian', 'Titus', \n",
    "                  'Domitian', 'Nerva', 'Trajan', 'Hadrian', 'Antoninus Pius', 'Marcus Aurelius', 'Lucius Verus', 'Commodus', 'Publius Helvius Pertinax', \n",
    "                  'Marcus Didius Severus Julianus', 'Septimius Severus', 'Caracalla', 'Publius Septimius Geta', 'Macrinus', 'Elagabalus', 'Severus Alexander', \n",
    "                  'Maximinus', 'Gordian I', 'Gordian II', 'Pupienus Maximus', 'Balbinus', 'Gordian III', 'Philip', 'Decius', 'Hostilian', 'Gallus', 'Aemilian', 'Valerian', 'Gallienus', \n",
    "                  'Claudius II Gothicus', 'Quintillus', 'Aurelian', 'Tacitus', 'Florian', 'Probus', 'Carus', 'Numerian', 'Carinus', 'Diocletian', 'Maximian', 'Constantius I',\n",
    "                  'Galerius',  'Constantine I ', 'Galerius Valerius Maximinus', 'Licinius', 'Constantine II ', 'Constantius II', 'Constans I', 'Gallus Caesar', 'Julian', 'Jovian', \n",
    "                  'Valentinian I', 'Valens', 'Gratian', 'Valentinian II', 'Theodosius I', 'Arcadius', 'Magnus Maximus', 'Honorius', 'Theodosius II', 'Constantius III', 'Valentinian III',\n",
    "                  'Marcian', 'Petronius Maximus', 'Avitus', 'Majorian', 'Anthemius', 'Olybrius', 'Glycerius', 'Julius Nepos', 'Romulus Augustulus', 'Leo I', 'Leo II', 'Zeno']\n",
    "\n",
    "roman_emperors = [x.lower() for x in roman_emperors]\n",
    "\n",
    "emperors = []\n",
    "\n",
    "for title in df['URLTitle']:\n",
    "    if 'lot' in title: \n",
    "        emperors.append('LOT')\n",
    "    else:\n",
    "        emps = re.findall(r\"(?=(\"+'|'.join(roman_emperors)+r\"))\",title)\n",
    "        if emps:\n",
    "            emperors.append(emps)\n",
    "        else: \n",
    "            emperors.append('unknown')\n",
    "\n",
    "df['emperor_in_title'] = emperors"
   ]
  },
  {
   "cell_type": "code",
   "execution_count": 84,
   "metadata": {
    "collapsed": true
   },
   "outputs": [],
   "source": [
    "#Eliminating additional non-coin sales\n",
    "posters = []\n",
    "\n",
    "for num, val in enumerate(df['URLTitle']):\n",
    "    if 'poster' in val:\n",
    "        posters.append(num)\n",
    "\n",
    "df = df.drop(posters, axis=0).reset_index(drop=True)"
   ]
  },
  {
   "cell_type": "code",
   "execution_count": 85,
   "metadata": {
    "collapsed": true
   },
   "outputs": [],
   "source": [
    "#Identifying whether there are one or more emperors in the title (i.e. is seller selling two or more coins)\n",
    "#creating separate columns for dummy variable creation later\n",
    "singles = []\n",
    "for num, val in enumerate(df['emperor_in_title']):\n",
    "    if val != 'unknown':\n",
    "        if len(val) > 1:\n",
    "            singles.append('multiple_emps_in_title')\n",
    "        elif len(val) == 1:\n",
    "            singles.append(val[0])\n",
    "    else:\n",
    "        singles.append('unknown')\n",
    "            \n",
    "df['emp_prep_dummies'] = singles"
   ]
  },
  {
   "cell_type": "code",
   "execution_count": 86,
   "metadata": {
    "collapsed": true
   },
   "outputs": [],
   "source": [
    "def emperor_cleaner(col):\n",
    "    \"\"\"eliminating duplicate emperor names within same listing, making them strings\"\"\"   \n",
    "    if col == 'unknown' or col == 'LOT':\n",
    "        return col\n",
    "    else:\n",
    "        if len(col) > 1:\n",
    "            emp = list(set(col))\n",
    "            clean = ' '.join(emp)\n",
    "            return clean\n",
    "        elif len(col) == 1:\n",
    "            emp = col[0]\n",
    "            return emp\n",
    "\n",
    "df['emperor_in_title'] = df['emperor_in_title'].apply(emperor_cleaner)"
   ]
  },
  {
   "cell_type": "code",
   "execution_count": 87,
   "metadata": {
    "collapsed": true
   },
   "outputs": [],
   "source": [
    "#Extracting coin material from titles \n",
    "metals = ['gold', 'silver', 'bronze', 'orichalcum', 'copper']\n",
    "\n",
    "metal = []\n",
    "for title in df['URLTitle']:\n",
    "    coin = re.findall(r\"(?=(\"+'|'.join(metals)+r\"))\",title)\n",
    "    if coin:\n",
    "        metal.append(coin)\n",
    "    else: \n",
    "        metal.append(['unknown'])\n",
    "        \n",
    "df['coin_metal'] = metal"
   ]
  },
  {
   "cell_type": "code",
   "execution_count": 88,
   "metadata": {
    "collapsed": true
   },
   "outputs": [],
   "source": [
    "def metal_cleaner(col):\n",
    "    \"\"\"Removes metal values from lists\"\"\"\n",
    "    try:\n",
    "        multi = ' '.join(col)\n",
    "        return multi\n",
    "    except:\n",
    "        single = col[0]\n",
    "        return single\n",
    "\n",
    "df['coin_metal'] = df['coin_metal'].apply(metal_cleaner)"
   ]
  },
  {
   "cell_type": "code",
   "execution_count": 89,
   "metadata": {
    "collapsed": true
   },
   "outputs": [],
   "source": [
    "#checking one last time to eliminate non-coin sales\n",
    "jewelery = []\n",
    "\n",
    "for num, val in enumerate(df['URLTitle']):\n",
    "    if 'earring' in val:\n",
    "        jewelery.append(num)\n",
    "    elif 'pendant' in val:\n",
    "        jewelery.append(num)\n",
    "    elif 'bracelet'in val:\n",
    "        jewelery.append(num)\n",
    "    elif 'necklace' in val:\n",
    "        jewelery.append(num)\n",
    "\n",
    "df = df.drop(jewelery, axis=0).reset_index(drop=True)"
   ]
  },
  {
   "cell_type": "code",
   "execution_count": 90,
   "metadata": {
    "collapsed": true
   },
   "outputs": [],
   "source": [
    "#Adding dummies for gold and silver\n",
    "df['gold'] = df['coin_metal'].apply(lambda x: 1 if x == 'gold' else 0)\n",
    "df['silver'] = df['coin_metal'].apply(lambda x: 1 if x == 'silver' else 0 )"
   ]
  },
  {
   "cell_type": "code",
   "execution_count": 91,
   "metadata": {
    "collapsed": true
   },
   "outputs": [],
   "source": [
    "#Creating dummy variable for lots (i.e. more than 1 coin for sale)\n",
    "df['is_a_lot'] = df['emperor_in_title'].apply(lambda x: 1 if x == 'LOT' else 0)"
   ]
  },
  {
   "cell_type": "code",
   "execution_count": 92,
   "metadata": {
    "collapsed": true
   },
   "outputs": [],
   "source": [
    "#uncleaned is a common indicator of low quality, creating dummy\n",
    "\n",
    "uncleaned = []\n",
    "for val in df['URLTitle']:\n",
    "    has = re.search('uncleaned', val)\n",
    "    if has:\n",
    "        uncleaned.append(1)\n",
    "    else:\n",
    "        uncleaned.append(0)\n",
    "\n",
    "df['uncleaned'] = uncleaned"
   ]
  },
  {
   "cell_type": "code",
   "execution_count": 93,
   "metadata": {
    "collapsed": true
   },
   "outputs": [],
   "source": [
    "#Creating total sale time feature, putting it into days\n",
    "df['total_sale_time'] = df['endTime'] - df['startTime']\n",
    "df['total_sale_time'] = df.total_sale_time.dt.days\n",
    "\n",
    "#dropping lots that have negative total time values (likely put up and immediately \n",
    "#taken down)\n",
    "df = df.drop(list(df.loc[df['total_sale_time'] < 0].index), axis=0)\n",
    "\n",
    "\n",
    "#Creating categorical bins for duration\n",
    "df['total_sale_time'] = pd.cut(df['total_sale_time'], \n",
    "           [0, 7, 30, 365, df['total_sale_time'].max()], \n",
    "          labels=['Less_than_week', 'Less_than_month', 'less_than_year', 'more_than_year'])\n",
    "\n",
    "df = pd.concat([df, pd.get_dummies(df['total_sale_time']).drop('less_than_year', \n",
    "                                                               axis=1)], axis=1 )\n",
    "df = df.drop('total_sale_time', axis=1)"
   ]
  },
  {
   "cell_type": "code",
   "execution_count": 94,
   "metadata": {
    "collapsed": true
   },
   "outputs": [],
   "source": [
    "#Queens (zip: 11374) seems to house a professional high-volume seller, creating dummy\n",
    "#41% of volume eminates from this zip\n",
    "df['Queens_seller'] = df['postalCode'].apply(lambda x: 1 if x == '11374' else 0)\n",
    "df = df.drop('postalCode', axis=1)"
   ]
  },
  {
   "cell_type": "code",
   "execution_count": 95,
   "metadata": {
    "collapsed": true
   },
   "outputs": [],
   "source": [
    "#creating dummies based on 'quality' indications in the title\n",
    "def low_quality(title):\n",
    "    word = re.findall(r'low|lower', title)\n",
    "    if word:\n",
    "        return 1\n",
    "    else:\n",
    "        return 0\n",
    "\n",
    "def high_quality(title):\n",
    "    word = re.findall(r'high|higher|premium|rare', title)\n",
    "    if word:\n",
    "        return 1\n",
    "    else:\n",
    "        return 0\n",
    "    \n",
    "df['high_quality_words'] = df['URLTitle'].apply(high_quality)\n",
    "df['low_quality_words'] = df['URLTitle'].apply(low_quality)"
   ]
  },
  {
   "cell_type": "code",
   "execution_count": 98,
   "metadata": {},
   "outputs": [
    {
     "ename": "KeyError",
     "evalue": "'shippingType'",
     "output_type": "error",
     "traceback": [
      "\u001b[0;31m---------------------------------------------------------------------------\u001b[0m",
      "\u001b[0;31mKeyError\u001b[0m                                  Traceback (most recent call last)",
      "\u001b[0;32m~/anaconda2/envs/python3/lib/python3.6/site-packages/pandas/core/indexes/base.py\u001b[0m in \u001b[0;36mget_loc\u001b[0;34m(self, key, method, tolerance)\u001b[0m\n\u001b[1;32m   2524\u001b[0m             \u001b[0;32mtry\u001b[0m\u001b[0;34m:\u001b[0m\u001b[0;34m\u001b[0m\u001b[0m\n\u001b[0;32m-> 2525\u001b[0;31m                 \u001b[0;32mreturn\u001b[0m \u001b[0mself\u001b[0m\u001b[0;34m.\u001b[0m\u001b[0m_engine\u001b[0m\u001b[0;34m.\u001b[0m\u001b[0mget_loc\u001b[0m\u001b[0;34m(\u001b[0m\u001b[0mkey\u001b[0m\u001b[0;34m)\u001b[0m\u001b[0;34m\u001b[0m\u001b[0m\n\u001b[0m\u001b[1;32m   2526\u001b[0m             \u001b[0;32mexcept\u001b[0m \u001b[0mKeyError\u001b[0m\u001b[0;34m:\u001b[0m\u001b[0;34m\u001b[0m\u001b[0m\n",
      "\u001b[0;32mpandas/_libs/index.pyx\u001b[0m in \u001b[0;36mpandas._libs.index.IndexEngine.get_loc\u001b[0;34m()\u001b[0m\n",
      "\u001b[0;32mpandas/_libs/index.pyx\u001b[0m in \u001b[0;36mpandas._libs.index.IndexEngine.get_loc\u001b[0;34m()\u001b[0m\n",
      "\u001b[0;32mpandas/_libs/hashtable_class_helper.pxi\u001b[0m in \u001b[0;36mpandas._libs.hashtable.PyObjectHashTable.get_item\u001b[0;34m()\u001b[0m\n",
      "\u001b[0;32mpandas/_libs/hashtable_class_helper.pxi\u001b[0m in \u001b[0;36mpandas._libs.hashtable.PyObjectHashTable.get_item\u001b[0;34m()\u001b[0m\n",
      "\u001b[0;31mKeyError\u001b[0m: 'shippingType'",
      "\nDuring handling of the above exception, another exception occurred:\n",
      "\u001b[0;31mKeyError\u001b[0m                                  Traceback (most recent call last)",
      "\u001b[0;32m<ipython-input-98-c84e48cf001e>\u001b[0m in \u001b[0;36m<module>\u001b[0;34m()\u001b[0m\n\u001b[1;32m      1\u001b[0m \u001b[0;31m#turning shipping type into dummy variables\u001b[0m\u001b[0;34m\u001b[0m\u001b[0;34m\u001b[0m\u001b[0m\n\u001b[0;32m----> 2\u001b[0;31m df = pd.concat([df, pd.get_dummies(df['shippingType']).drop(\n\u001b[0m\u001b[1;32m      3\u001b[0m                 'International', axis=1)], axis=1)\n\u001b[1;32m      4\u001b[0m \u001b[0;34m\u001b[0m\u001b[0m\n\u001b[1;32m      5\u001b[0m \u001b[0;34m\u001b[0m\u001b[0m\n",
      "\u001b[0;32m~/anaconda2/envs/python3/lib/python3.6/site-packages/pandas/core/frame.py\u001b[0m in \u001b[0;36m__getitem__\u001b[0;34m(self, key)\u001b[0m\n\u001b[1;32m   2137\u001b[0m             \u001b[0;32mreturn\u001b[0m \u001b[0mself\u001b[0m\u001b[0;34m.\u001b[0m\u001b[0m_getitem_multilevel\u001b[0m\u001b[0;34m(\u001b[0m\u001b[0mkey\u001b[0m\u001b[0;34m)\u001b[0m\u001b[0;34m\u001b[0m\u001b[0m\n\u001b[1;32m   2138\u001b[0m         \u001b[0;32melse\u001b[0m\u001b[0;34m:\u001b[0m\u001b[0;34m\u001b[0m\u001b[0m\n\u001b[0;32m-> 2139\u001b[0;31m             \u001b[0;32mreturn\u001b[0m \u001b[0mself\u001b[0m\u001b[0;34m.\u001b[0m\u001b[0m_getitem_column\u001b[0m\u001b[0;34m(\u001b[0m\u001b[0mkey\u001b[0m\u001b[0;34m)\u001b[0m\u001b[0;34m\u001b[0m\u001b[0m\n\u001b[0m\u001b[1;32m   2140\u001b[0m \u001b[0;34m\u001b[0m\u001b[0m\n\u001b[1;32m   2141\u001b[0m     \u001b[0;32mdef\u001b[0m \u001b[0m_getitem_column\u001b[0m\u001b[0;34m(\u001b[0m\u001b[0mself\u001b[0m\u001b[0;34m,\u001b[0m \u001b[0mkey\u001b[0m\u001b[0;34m)\u001b[0m\u001b[0;34m:\u001b[0m\u001b[0;34m\u001b[0m\u001b[0m\n",
      "\u001b[0;32m~/anaconda2/envs/python3/lib/python3.6/site-packages/pandas/core/frame.py\u001b[0m in \u001b[0;36m_getitem_column\u001b[0;34m(self, key)\u001b[0m\n\u001b[1;32m   2144\u001b[0m         \u001b[0;31m# get column\u001b[0m\u001b[0;34m\u001b[0m\u001b[0;34m\u001b[0m\u001b[0m\n\u001b[1;32m   2145\u001b[0m         \u001b[0;32mif\u001b[0m \u001b[0mself\u001b[0m\u001b[0;34m.\u001b[0m\u001b[0mcolumns\u001b[0m\u001b[0;34m.\u001b[0m\u001b[0mis_unique\u001b[0m\u001b[0;34m:\u001b[0m\u001b[0;34m\u001b[0m\u001b[0m\n\u001b[0;32m-> 2146\u001b[0;31m             \u001b[0;32mreturn\u001b[0m \u001b[0mself\u001b[0m\u001b[0;34m.\u001b[0m\u001b[0m_get_item_cache\u001b[0m\u001b[0;34m(\u001b[0m\u001b[0mkey\u001b[0m\u001b[0;34m)\u001b[0m\u001b[0;34m\u001b[0m\u001b[0m\n\u001b[0m\u001b[1;32m   2147\u001b[0m \u001b[0;34m\u001b[0m\u001b[0m\n\u001b[1;32m   2148\u001b[0m         \u001b[0;31m# duplicate columns & possible reduce dimensionality\u001b[0m\u001b[0;34m\u001b[0m\u001b[0;34m\u001b[0m\u001b[0m\n",
      "\u001b[0;32m~/anaconda2/envs/python3/lib/python3.6/site-packages/pandas/core/generic.py\u001b[0m in \u001b[0;36m_get_item_cache\u001b[0;34m(self, item)\u001b[0m\n\u001b[1;32m   1840\u001b[0m         \u001b[0mres\u001b[0m \u001b[0;34m=\u001b[0m \u001b[0mcache\u001b[0m\u001b[0;34m.\u001b[0m\u001b[0mget\u001b[0m\u001b[0;34m(\u001b[0m\u001b[0mitem\u001b[0m\u001b[0;34m)\u001b[0m\u001b[0;34m\u001b[0m\u001b[0m\n\u001b[1;32m   1841\u001b[0m         \u001b[0;32mif\u001b[0m \u001b[0mres\u001b[0m \u001b[0;32mis\u001b[0m \u001b[0;32mNone\u001b[0m\u001b[0;34m:\u001b[0m\u001b[0;34m\u001b[0m\u001b[0m\n\u001b[0;32m-> 1842\u001b[0;31m             \u001b[0mvalues\u001b[0m \u001b[0;34m=\u001b[0m \u001b[0mself\u001b[0m\u001b[0;34m.\u001b[0m\u001b[0m_data\u001b[0m\u001b[0;34m.\u001b[0m\u001b[0mget\u001b[0m\u001b[0;34m(\u001b[0m\u001b[0mitem\u001b[0m\u001b[0;34m)\u001b[0m\u001b[0;34m\u001b[0m\u001b[0m\n\u001b[0m\u001b[1;32m   1843\u001b[0m             \u001b[0mres\u001b[0m \u001b[0;34m=\u001b[0m \u001b[0mself\u001b[0m\u001b[0;34m.\u001b[0m\u001b[0m_box_item_values\u001b[0m\u001b[0;34m(\u001b[0m\u001b[0mitem\u001b[0m\u001b[0;34m,\u001b[0m \u001b[0mvalues\u001b[0m\u001b[0;34m)\u001b[0m\u001b[0;34m\u001b[0m\u001b[0m\n\u001b[1;32m   1844\u001b[0m             \u001b[0mcache\u001b[0m\u001b[0;34m[\u001b[0m\u001b[0mitem\u001b[0m\u001b[0;34m]\u001b[0m \u001b[0;34m=\u001b[0m \u001b[0mres\u001b[0m\u001b[0;34m\u001b[0m\u001b[0m\n",
      "\u001b[0;32m~/anaconda2/envs/python3/lib/python3.6/site-packages/pandas/core/internals.py\u001b[0m in \u001b[0;36mget\u001b[0;34m(self, item, fastpath)\u001b[0m\n\u001b[1;32m   3841\u001b[0m \u001b[0;34m\u001b[0m\u001b[0m\n\u001b[1;32m   3842\u001b[0m             \u001b[0;32mif\u001b[0m \u001b[0;32mnot\u001b[0m \u001b[0misna\u001b[0m\u001b[0;34m(\u001b[0m\u001b[0mitem\u001b[0m\u001b[0;34m)\u001b[0m\u001b[0;34m:\u001b[0m\u001b[0;34m\u001b[0m\u001b[0m\n\u001b[0;32m-> 3843\u001b[0;31m                 \u001b[0mloc\u001b[0m \u001b[0;34m=\u001b[0m \u001b[0mself\u001b[0m\u001b[0;34m.\u001b[0m\u001b[0mitems\u001b[0m\u001b[0;34m.\u001b[0m\u001b[0mget_loc\u001b[0m\u001b[0;34m(\u001b[0m\u001b[0mitem\u001b[0m\u001b[0;34m)\u001b[0m\u001b[0;34m\u001b[0m\u001b[0m\n\u001b[0m\u001b[1;32m   3844\u001b[0m             \u001b[0;32melse\u001b[0m\u001b[0;34m:\u001b[0m\u001b[0;34m\u001b[0m\u001b[0m\n\u001b[1;32m   3845\u001b[0m                 \u001b[0mindexer\u001b[0m \u001b[0;34m=\u001b[0m \u001b[0mnp\u001b[0m\u001b[0;34m.\u001b[0m\u001b[0marange\u001b[0m\u001b[0;34m(\u001b[0m\u001b[0mlen\u001b[0m\u001b[0;34m(\u001b[0m\u001b[0mself\u001b[0m\u001b[0;34m.\u001b[0m\u001b[0mitems\u001b[0m\u001b[0;34m)\u001b[0m\u001b[0;34m)\u001b[0m\u001b[0;34m[\u001b[0m\u001b[0misna\u001b[0m\u001b[0;34m(\u001b[0m\u001b[0mself\u001b[0m\u001b[0;34m.\u001b[0m\u001b[0mitems\u001b[0m\u001b[0;34m)\u001b[0m\u001b[0;34m]\u001b[0m\u001b[0;34m\u001b[0m\u001b[0m\n",
      "\u001b[0;32m~/anaconda2/envs/python3/lib/python3.6/site-packages/pandas/core/indexes/base.py\u001b[0m in \u001b[0;36mget_loc\u001b[0;34m(self, key, method, tolerance)\u001b[0m\n\u001b[1;32m   2525\u001b[0m                 \u001b[0;32mreturn\u001b[0m \u001b[0mself\u001b[0m\u001b[0;34m.\u001b[0m\u001b[0m_engine\u001b[0m\u001b[0;34m.\u001b[0m\u001b[0mget_loc\u001b[0m\u001b[0;34m(\u001b[0m\u001b[0mkey\u001b[0m\u001b[0;34m)\u001b[0m\u001b[0;34m\u001b[0m\u001b[0m\n\u001b[1;32m   2526\u001b[0m             \u001b[0;32mexcept\u001b[0m \u001b[0mKeyError\u001b[0m\u001b[0;34m:\u001b[0m\u001b[0;34m\u001b[0m\u001b[0m\n\u001b[0;32m-> 2527\u001b[0;31m                 \u001b[0;32mreturn\u001b[0m \u001b[0mself\u001b[0m\u001b[0;34m.\u001b[0m\u001b[0m_engine\u001b[0m\u001b[0;34m.\u001b[0m\u001b[0mget_loc\u001b[0m\u001b[0;34m(\u001b[0m\u001b[0mself\u001b[0m\u001b[0;34m.\u001b[0m\u001b[0m_maybe_cast_indexer\u001b[0m\u001b[0;34m(\u001b[0m\u001b[0mkey\u001b[0m\u001b[0;34m)\u001b[0m\u001b[0;34m)\u001b[0m\u001b[0;34m\u001b[0m\u001b[0m\n\u001b[0m\u001b[1;32m   2528\u001b[0m \u001b[0;34m\u001b[0m\u001b[0m\n\u001b[1;32m   2529\u001b[0m         \u001b[0mindexer\u001b[0m \u001b[0;34m=\u001b[0m \u001b[0mself\u001b[0m\u001b[0;34m.\u001b[0m\u001b[0mget_indexer\u001b[0m\u001b[0;34m(\u001b[0m\u001b[0;34m[\u001b[0m\u001b[0mkey\u001b[0m\u001b[0;34m]\u001b[0m\u001b[0;34m,\u001b[0m \u001b[0mmethod\u001b[0m\u001b[0;34m=\u001b[0m\u001b[0mmethod\u001b[0m\u001b[0;34m,\u001b[0m \u001b[0mtolerance\u001b[0m\u001b[0;34m=\u001b[0m\u001b[0mtolerance\u001b[0m\u001b[0;34m)\u001b[0m\u001b[0;34m\u001b[0m\u001b[0m\n",
      "\u001b[0;32mpandas/_libs/index.pyx\u001b[0m in \u001b[0;36mpandas._libs.index.IndexEngine.get_loc\u001b[0;34m()\u001b[0m\n",
      "\u001b[0;32mpandas/_libs/index.pyx\u001b[0m in \u001b[0;36mpandas._libs.index.IndexEngine.get_loc\u001b[0;34m()\u001b[0m\n",
      "\u001b[0;32mpandas/_libs/hashtable_class_helper.pxi\u001b[0m in \u001b[0;36mpandas._libs.hashtable.PyObjectHashTable.get_item\u001b[0;34m()\u001b[0m\n",
      "\u001b[0;32mpandas/_libs/hashtable_class_helper.pxi\u001b[0m in \u001b[0;36mpandas._libs.hashtable.PyObjectHashTable.get_item\u001b[0;34m()\u001b[0m\n",
      "\u001b[0;31mKeyError\u001b[0m: 'shippingType'"
     ]
    }
   ],
   "source": [
    "#turning shipping type into dummy variables\n",
    "df = pd.concat([df, pd.get_dummies(df['shippingType']).drop(\n",
    "                'International', axis=1)], axis=1)\n",
    "\n",
    "\n",
    "try:\n",
    "    df = df.drop('FreePickup', axis=1)\n",
    "except:\n",
    "    pass\n",
    "\n",
    "#dropping shipping_cost, shippingType\n",
    "df = df.drop(['shipping_cost', 'shippingType'], axis=1)\n",
    "#dropping location, productId\n",
    "df = df.drop(['location'], axis=1)\n",
    "#perfectly correlated with current_price, dropping\n",
    "df = df.drop('value_conv', axis=1)"
   ]
  },
  {
   "cell_type": "code",
   "execution_count": null,
   "metadata": {
    "collapsed": true
   },
   "outputs": [],
   "source": [
    "#getting listing type dummies, \n",
    "df = pd.concat([df, pd.get_dummies(df['listingType']).drop(\n",
    "            ['AuctionWithBIN', 'StoreInventory'], axis=1)], axis=1)\n",
    "df = df.drop('listingType', axis=1)\n",
    "\n",
    "#dropping start/endTime\n",
    "df = df.drop(['endTime', 'startTime'], axis=1)\n",
    "\n",
    "#dropping categoryId\n",
    "df = df.drop('categoryId', axis=1)"
   ]
  },
  {
   "cell_type": "code",
   "execution_count": null,
   "metadata": {
    "collapsed": true
   },
   "outputs": [],
   "source": [
    "#creating two more dummies for coin metals before dropping\n",
    "df['bronze'] = df['coin_metal'].apply(lambda x: 1 if x == 'bronze' else 0)\n",
    "df['copper'] = df['coin_metal'].apply(lambda x: 1 if x == 'copper' else 0)\n",
    "df = df.drop('coin_metal', axis=1)"
   ]
  },
  {
   "cell_type": "code",
   "execution_count": null,
   "metadata": {
    "collapsed": true
   },
   "outputs": [],
   "source": [
    "#filling NaNs with zeros for numeric cats\n",
    "df['bidCount'] = df['bidCount'].fillna(0)\n",
    "df['watchCount'] = df['watchCount'].fillna(0)"
   ]
  },
  {
   "cell_type": "code",
   "execution_count": null,
   "metadata": {
    "collapsed": true
   },
   "outputs": [],
   "source": [
    "#adding the emperor dummy variables and concatting to main df\n",
    "df = pd.concat([df, pd.get_dummies(df['emp_prep_dummies']).drop(\n",
    "    'unknown', axis=1)], axis=1)\n",
    "\n",
    "df = df.drop('emp_prep_dummies', axis=1)\n",
    "df = df.drop('emperor_in_title', axis=1)"
   ]
  },
  {
   "cell_type": "code",
   "execution_count": null,
   "metadata": {
    "collapsed": true
   },
   "outputs": [],
   "source": [
    "#saving data to refit model later\n",
    "file_name = 'to_fit_to_model_later_' + re.sub('-', '_', str(datetime.datetime.now())[5:10])\n",
    "df.to_csv(file_name)"
   ]
  },
  {
   "cell_type": "code",
   "execution_count": null,
   "metadata": {
    "collapsed": true
   },
   "outputs": [],
   "source": [
    "#dropping outliers and coins priced below 3 dollars\n",
    "df = df.drop(list(roman.loc[(roman['current_price'] < 3)| \n",
    "                          (roman['current_price']> 1000)].index), axis=0).reset_index(drop=True)\n",
    "\n",
    "df = df.drop('charityId', axis=1)"
   ]
  },
  {
   "cell_type": "code",
   "execution_count": null,
   "metadata": {
    "collapsed": true
   },
   "outputs": [],
   "source": [
    "#Saving categories to append to model later \n",
    "roman = df['URLTitle', 'itemId', 'viewItemURL', 'current_price']\n",
    "\n",
    "\n",
    "#dropping additional columns found not to be useful\n",
    "y = np.log(df['current_price'].values)\n",
    "X = df.drop(['URLTitle', 'itemId', 'viewItemURL',\n",
    "            'current_price','completed_no_time_left', 'less_than_hour_left', 'less_than_week_left', 'aemilian', 'antoninus pius',\n",
    "            'aurelian', 'balbinus', 'carinus', 'carus', 'claudius', 'constans i', 'decius', 'galba',\n",
    "            'gallienus', 'gordian i', 'jovian', 'leo i', 'licinius', 'numerian', 'tacitus', 'theodosius i',\n",
    "            'valerian',  'less_than_2day_left'], axis=1)"
   ]
  },
  {
   "cell_type": "code",
   "execution_count": null,
   "metadata": {
    "collapsed": true
   },
   "outputs": [],
   "source": [
    "#Introducing the model\n",
    "with open(‘final_model.pickle’, ‘rb’) as file_handle:\n",
    "         random_forest = pickle.load(file_handle)"
   ]
  },
  {
   "cell_type": "code",
   "execution_count": null,
   "metadata": {
    "collapsed": true
   },
   "outputs": [],
   "source": [
    "# roman_coins_swl@yahoo.com\n",
    "# smtp.mail.yahoo.com\n",
    "# 465 (587 is an alternative)\n",
    "# Yahoo Mail SMTP TLS/SSL required: yes"
   ]
  },
  {
   "cell_type": "code",
   "execution_count": null,
   "metadata": {
    "collapsed": true
   },
   "outputs": [],
   "source": [
    "msg = 'PUT SELECTED COINS HERE'"
   ]
  },
  {
   "cell_type": "code",
   "execution_count": null,
   "metadata": {
    "collapsed": true
   },
   "outputs": [],
   "source": [
    "from email_pw import pw\n",
    "server = smtplib.SMTP('smtp.mail.yahoo.com', 465)\n",
    "server.starttls()\n",
    "server.login('roman_coins_swl@yahoo.com', pw)\n",
    " \n",
    "email_to_send = raw_input('What email address would you like to recieve the coins at?')    \n",
    "    \n",
    "server.sendmail('roman_coins_swl@yahoo.com', email_to_send, msg)\n",
    "server.quit()"
   ]
  },
  {
   "cell_type": "code",
   "execution_count": null,
   "metadata": {
    "collapsed": true
   },
   "outputs": [],
   "source": [
    "#updated through cleaning, need to add url from original scraper..'viewItemURL' SAVE and exclude at \n",
    "#END!!"
   ]
  }
 ],
 "metadata": {
  "kernelspec": {
   "display_name": "Python 3",
   "language": "python",
   "name": "python3"
  },
  "language_info": {
   "codemirror_mode": {
    "name": "ipython",
    "version": 3
   },
   "file_extension": ".py",
   "mimetype": "text/x-python",
   "name": "python",
   "nbconvert_exporter": "python",
   "pygments_lexer": "ipython3",
   "version": "3.6.4"
  }
 },
 "nbformat": 4,
 "nbformat_minor": 2
}
